{
 "cells": [
  {
   "cell_type": "markdown",
   "metadata": {},
   "source": [
    "This notebook is a part of the Carpentries Python workshop on January 13, 2020. This is possible: $$\\sum_{x=0}^{\\infty} x^{-2}$$"
   ]
  },
  {
   "cell_type": "code",
   "execution_count": 1,
   "metadata": {},
   "outputs": [],
   "source": [
    "line =10"
   ]
  },
  {
   "cell_type": "code",
   "execution_count": 2,
   "metadata": {},
   "outputs": [
    {
     "data": {
      "text/plain": [
       "10"
      ]
     },
     "execution_count": 2,
     "metadata": {},
     "output_type": "execute_result"
    }
   ],
   "source": [
    "line"
   ]
  },
  {
   "cell_type": "code",
   "execution_count": 3,
   "metadata": {},
   "outputs": [],
   "source": [
    "line = 10\n",
    "name = \"jeremy teitelbaum\"\n",
    "probability =0.5"
   ]
  },
  {
   "cell_type": "code",
   "execution_count": 5,
   "metadata": {},
   "outputs": [
    {
     "name": "stdout",
     "output_type": "stream",
     "text": [
      "Name is jeremy teitelbaum probability is 0.5 line is 10\n"
     ]
    }
   ],
   "source": [
    "print('Name is',name,'probability is',probability,'line is',line)"
   ]
  },
  {
   "cell_type": "code",
   "execution_count": 6,
   "metadata": {},
   "outputs": [
    {
     "ename": "NameError",
     "evalue": "name 'flibertibigget' is not defined",
     "output_type": "error",
     "traceback": [
      "\u001b[0;31m---------------------------------------------------------------------------\u001b[0m",
      "\u001b[0;31mNameError\u001b[0m                                 Traceback (most recent call last)",
      "\u001b[0;32m<ipython-input-6-af0bec1913b9>\u001b[0m in \u001b[0;36m<module>\u001b[0;34m\u001b[0m\n\u001b[0;32m----> 1\u001b[0;31m \u001b[0mprint\u001b[0m\u001b[0;34m(\u001b[0m\u001b[0mflibertibigget\u001b[0m\u001b[0;34m)\u001b[0m\u001b[0;34m\u001b[0m\u001b[0;34m\u001b[0m\u001b[0m\n\u001b[0m",
      "\u001b[0;31mNameError\u001b[0m: name 'flibertibigget' is not defined"
     ]
    }
   ],
   "source": [
    "print(flibertibigget)"
   ]
  },
  {
   "cell_type": "code",
   "execution_count": 7,
   "metadata": {},
   "outputs": [],
   "source": [
    "mylist=[1.0,'monday',8, probability]"
   ]
  },
  {
   "cell_type": "code",
   "execution_count": 8,
   "metadata": {},
   "outputs": [
    {
     "name": "stdout",
     "output_type": "stream",
     "text": [
      "[1.0, 'monday', 8, 0.5]\n"
     ]
    }
   ],
   "source": [
    "print(mylist)"
   ]
  },
  {
   "cell_type": "code",
   "execution_count": 9,
   "metadata": {},
   "outputs": [
    {
     "data": {
      "text/plain": [
       "[1.0, 'monday', 8, 0.5]"
      ]
     },
     "execution_count": 9,
     "metadata": {},
     "output_type": "execute_result"
    }
   ],
   "source": [
    "mylist"
   ]
  },
  {
   "cell_type": "code",
   "execution_count": 10,
   "metadata": {},
   "outputs": [
    {
     "data": {
      "text/plain": [
       "1.0"
      ]
     },
     "execution_count": 10,
     "metadata": {},
     "output_type": "execute_result"
    }
   ],
   "source": [
    "mylist[0]"
   ]
  },
  {
   "cell_type": "code",
   "execution_count": 11,
   "metadata": {},
   "outputs": [
    {
     "data": {
      "text/plain": [
       "0.5"
      ]
     },
     "execution_count": 11,
     "metadata": {},
     "output_type": "execute_result"
    }
   ],
   "source": [
    "mylist[3]"
   ]
  },
  {
   "cell_type": "code",
   "execution_count": 12,
   "metadata": {},
   "outputs": [
    {
     "ename": "IndexError",
     "evalue": "list index out of range",
     "output_type": "error",
     "traceback": [
      "\u001b[0;31m---------------------------------------------------------------------------\u001b[0m",
      "\u001b[0;31mIndexError\u001b[0m                                Traceback (most recent call last)",
      "\u001b[0;32m<ipython-input-12-cf18a5804b5a>\u001b[0m in \u001b[0;36m<module>\u001b[0;34m\u001b[0m\n\u001b[0;32m----> 1\u001b[0;31m \u001b[0mmylist\u001b[0m\u001b[0;34m[\u001b[0m\u001b[0;36m7\u001b[0m\u001b[0;34m]\u001b[0m\u001b[0;34m\u001b[0m\u001b[0;34m\u001b[0m\u001b[0m\n\u001b[0m",
      "\u001b[0;31mIndexError\u001b[0m: list index out of range"
     ]
    }
   ],
   "source": [
    "mylist[7]"
   ]
  },
  {
   "cell_type": "code",
   "execution_count": 13,
   "metadata": {},
   "outputs": [
    {
     "data": {
      "text/plain": [
       "[1.0, 'monday', 8, 0.5]"
      ]
     },
     "execution_count": 13,
     "metadata": {},
     "output_type": "execute_result"
    }
   ],
   "source": [
    "mylist"
   ]
  },
  {
   "cell_type": "code",
   "execution_count": 14,
   "metadata": {},
   "outputs": [
    {
     "data": {
      "text/plain": [
       "'jeremy teitelbaum'"
      ]
     },
     "execution_count": 14,
     "metadata": {},
     "output_type": "execute_result"
    }
   ],
   "source": [
    "name"
   ]
  },
  {
   "cell_type": "code",
   "execution_count": 15,
   "metadata": {},
   "outputs": [
    {
     "data": {
      "text/plain": [
       "'j'"
      ]
     },
     "execution_count": 15,
     "metadata": {},
     "output_type": "execute_result"
    }
   ],
   "source": [
    "name[0]"
   ]
  },
  {
   "cell_type": "code",
   "execution_count": 16,
   "metadata": {},
   "outputs": [
    {
     "data": {
      "text/plain": [
       "'e'"
      ]
     },
     "execution_count": 16,
     "metadata": {},
     "output_type": "execute_result"
    }
   ],
   "source": [
    "name[8]"
   ]
  },
  {
   "cell_type": "code",
   "execution_count": 17,
   "metadata": {},
   "outputs": [
    {
     "ename": "IndexError",
     "evalue": "string index out of range",
     "output_type": "error",
     "traceback": [
      "\u001b[0;31m---------------------------------------------------------------------------\u001b[0m",
      "\u001b[0;31mIndexError\u001b[0m                                Traceback (most recent call last)",
      "\u001b[0;32m<ipython-input-17-f5b21741be9a>\u001b[0m in \u001b[0;36m<module>\u001b[0;34m\u001b[0m\n\u001b[0;32m----> 1\u001b[0;31m \u001b[0mname\u001b[0m\u001b[0;34m[\u001b[0m\u001b[0;36m50\u001b[0m\u001b[0;34m]\u001b[0m\u001b[0;34m\u001b[0m\u001b[0;34m\u001b[0m\u001b[0m\n\u001b[0m",
      "\u001b[0;31mIndexError\u001b[0m: string index out of range"
     ]
    }
   ],
   "source": [
    "name[50]"
   ]
  },
  {
   "cell_type": "code",
   "execution_count": 18,
   "metadata": {},
   "outputs": [
    {
     "data": {
      "text/plain": [
       "'my t'"
      ]
     },
     "execution_count": 18,
     "metadata": {},
     "output_type": "execute_result"
    }
   ],
   "source": [
    "name[4:8]"
   ]
  },
  {
   "cell_type": "code",
   "execution_count": 19,
   "metadata": {},
   "outputs": [
    {
     "data": {
      "text/plain": [
       "'jeremy teitelbaum'"
      ]
     },
     "execution_count": 19,
     "metadata": {},
     "output_type": "execute_result"
    }
   ],
   "source": [
    "name"
   ]
  },
  {
   "cell_type": "code",
   "execution_count": 20,
   "metadata": {},
   "outputs": [
    {
     "data": {
      "text/plain": [
       "'m'"
      ]
     },
     "execution_count": 20,
     "metadata": {},
     "output_type": "execute_result"
    }
   ],
   "source": [
    "name[-1]"
   ]
  },
  {
   "cell_type": "code",
   "execution_count": 21,
   "metadata": {},
   "outputs": [
    {
     "data": {
      "text/plain": [
       "'eyti'"
      ]
     },
     "execution_count": 21,
     "metadata": {},
     "output_type": "execute_result"
    }
   ],
   "source": [
    "name[3:10:2]"
   ]
  },
  {
   "cell_type": "code",
   "execution_count": 22,
   "metadata": {},
   "outputs": [
    {
     "data": {
      "text/plain": [
       "[1.0, 'monday', 8, 0.5]"
      ]
     },
     "execution_count": 22,
     "metadata": {},
     "output_type": "execute_result"
    }
   ],
   "source": [
    "mylist"
   ]
  },
  {
   "cell_type": "code",
   "execution_count": 23,
   "metadata": {},
   "outputs": [
    {
     "data": {
      "text/plain": [
       "0.5"
      ]
     },
     "execution_count": 23,
     "metadata": {},
     "output_type": "execute_result"
    }
   ],
   "source": [
    "mylist[-1]"
   ]
  },
  {
   "cell_type": "code",
   "execution_count": 24,
   "metadata": {},
   "outputs": [
    {
     "data": {
      "text/plain": [
       "'my teitelbaum'"
      ]
     },
     "execution_count": 24,
     "metadata": {},
     "output_type": "execute_result"
    }
   ],
   "source": [
    "name[4:]"
   ]
  },
  {
   "cell_type": "code",
   "execution_count": 26,
   "metadata": {},
   "outputs": [
    {
     "data": {
      "text/plain": [
       "'muabletiet ymerej'"
      ]
     },
     "execution_count": 26,
     "metadata": {},
     "output_type": "execute_result"
    }
   ],
   "source": [
    "name[-1::-1]"
   ]
  },
  {
   "cell_type": "code",
   "execution_count": 27,
   "metadata": {},
   "outputs": [
    {
     "data": {
      "text/plain": [
       "150"
      ]
     },
     "execution_count": 27,
     "metadata": {},
     "output_type": "execute_result"
    }
   ],
   "source": [
    "3*50"
   ]
  },
  {
   "cell_type": "code",
   "execution_count": 28,
   "metadata": {},
   "outputs": [
    {
     "data": {
      "text/plain": [
       "0.16"
      ]
     },
     "execution_count": 28,
     "metadata": {},
     "output_type": "execute_result"
    }
   ],
   "source": [
    "(1+7)/50"
   ]
  },
  {
   "cell_type": "code",
   "execution_count": 29,
   "metadata": {},
   "outputs": [
    {
     "data": {
      "text/plain": [
       "-0.2"
      ]
     },
     "execution_count": 29,
     "metadata": {},
     "output_type": "execute_result"
    }
   ],
   "source": [
    ".3-.50"
   ]
  },
  {
   "cell_type": "code",
   "execution_count": 30,
   "metadata": {},
   "outputs": [],
   "source": [
    "x = 1e-7"
   ]
  },
  {
   "cell_type": "code",
   "execution_count": 31,
   "metadata": {},
   "outputs": [
    {
     "name": "stdout",
     "output_type": "stream",
     "text": [
      "9.999999999999998e-15\n"
     ]
    }
   ],
   "source": [
    "print(x**2)"
   ]
  },
  {
   "cell_type": "code",
   "execution_count": 32,
   "metadata": {},
   "outputs": [
    {
     "name": "stdout",
     "output_type": "stream",
     "text": [
      "70 901 3.1176470588235294 36\n"
     ]
    }
   ],
   "source": [
    "x = 53\n",
    "y = 17\n",
    "print(x+y, x*y, x/y, x-y)"
   ]
  },
  {
   "cell_type": "code",
   "execution_count": 33,
   "metadata": {},
   "outputs": [
    {
     "data": {
      "text/plain": [
       "'jeremyteitelbaum'"
      ]
     },
     "execution_count": 33,
     "metadata": {},
     "output_type": "execute_result"
    }
   ],
   "source": [
    "a='jeremy'\n",
    "b='teitelbaum'\n",
    "a+b"
   ]
  },
  {
   "cell_type": "code",
   "execution_count": 34,
   "metadata": {},
   "outputs": [],
   "source": [
    "c=a+b"
   ]
  },
  {
   "cell_type": "code",
   "execution_count": 35,
   "metadata": {},
   "outputs": [
    {
     "name": "stdout",
     "output_type": "stream",
     "text": [
      "jeremyteitelbaum\n"
     ]
    }
   ],
   "source": [
    "print(c)"
   ]
  },
  {
   "cell_type": "code",
   "execution_count": 36,
   "metadata": {},
   "outputs": [
    {
     "data": {
      "text/plain": [
       "['a', 'b', 'c', 'x', 'y', 'z']"
      ]
     },
     "execution_count": 36,
     "metadata": {},
     "output_type": "execute_result"
    }
   ],
   "source": [
    "['a','b','c']+['x','y','z']"
   ]
  },
  {
   "cell_type": "code",
   "execution_count": 37,
   "metadata": {},
   "outputs": [
    {
     "data": {
      "text/plain": [
       "['a', 'a', 'a']"
      ]
     },
     "execution_count": 37,
     "metadata": {},
     "output_type": "execute_result"
    }
   ],
   "source": [
    "['a']*3"
   ]
  },
  {
   "cell_type": "code",
   "execution_count": 38,
   "metadata": {},
   "outputs": [],
   "source": [
    "name = \"Jeremy Teitelbaum\"\n",
    "age = 60"
   ]
  },
  {
   "cell_type": "code",
   "execution_count": 39,
   "metadata": {},
   "outputs": [
    {
     "name": "stdout",
     "output_type": "stream",
     "text": [
      "Jeremy Teitelbaum is 60 years old\n"
     ]
    }
   ],
   "source": [
    "print(name, 'is', age, 'years old')"
   ]
  },
  {
   "cell_type": "code",
   "execution_count": 40,
   "metadata": {},
   "outputs": [
    {
     "ename": "TypeError",
     "evalue": "must be str, not int",
     "output_type": "error",
     "traceback": [
      "\u001b[0;31m---------------------------------------------------------------------------\u001b[0m",
      "\u001b[0;31mTypeError\u001b[0m                                 Traceback (most recent call last)",
      "\u001b[0;32m<ipython-input-40-7c674a5a6136>\u001b[0m in \u001b[0;36m<module>\u001b[0;34m\u001b[0m\n\u001b[0;32m----> 1\u001b[0;31m \u001b[0ms\u001b[0m\u001b[0;34m=\u001b[0m \u001b[0mname\u001b[0m \u001b[0;34m+\u001b[0m \u001b[0;34m' is '\u001b[0m\u001b[0;34m+\u001b[0m\u001b[0mage\u001b[0m\u001b[0;34m+\u001b[0m\u001b[0;34m' years old'\u001b[0m\u001b[0;34m\u001b[0m\u001b[0;34m\u001b[0m\u001b[0m\n\u001b[0m",
      "\u001b[0;31mTypeError\u001b[0m: must be str, not int"
     ]
    }
   ],
   "source": [
    "s= name + ' is '+age+' years old'"
   ]
  },
  {
   "cell_type": "code",
   "execution_count": 41,
   "metadata": {},
   "outputs": [
    {
     "data": {
      "text/plain": [
       "'60'"
      ]
     },
     "execution_count": 41,
     "metadata": {},
     "output_type": "execute_result"
    }
   ],
   "source": [
    "str(60)"
   ]
  },
  {
   "cell_type": "code",
   "execution_count": 42,
   "metadata": {},
   "outputs": [
    {
     "data": {
      "text/plain": [
       "60.0"
      ]
     },
     "execution_count": 42,
     "metadata": {},
     "output_type": "execute_result"
    }
   ],
   "source": [
    "float(60)"
   ]
  },
  {
   "cell_type": "code",
   "execution_count": 47,
   "metadata": {},
   "outputs": [],
   "source": [
    "s = name + ' is ' + str(age) + ' years old'"
   ]
  },
  {
   "cell_type": "code",
   "execution_count": 46,
   "metadata": {},
   "outputs": [
    {
     "data": {
      "text/plain": [
       "'Jeremy Teitelbaum is 60 years old'"
      ]
     },
     "execution_count": 46,
     "metadata": {},
     "output_type": "execute_result"
    }
   ],
   "source": [
    "s"
   ]
  },
  {
   "cell_type": "code",
   "execution_count": 48,
   "metadata": {},
   "outputs": [
    {
     "data": {
      "text/plain": [
       "17"
      ]
     },
     "execution_count": 48,
     "metadata": {},
     "output_type": "execute_result"
    }
   ],
   "source": [
    "len('Jeremy Teitelbaum')"
   ]
  },
  {
   "cell_type": "markdown",
   "metadata": {},
   "source": [
    "We have now completed a discussion of the key types of\n",
    "variables in Python.  They are:\n",
    "\n",
    "- lists\n",
    "- strings\n",
    "- floats\n",
    "- integers"
   ]
  },
  {
   "cell_type": "code",
   "execution_count": 49,
   "metadata": {},
   "outputs": [
    {
     "name": "stdout",
     "output_type": "stream",
     "text": [
      "this is the print function\n"
     ]
    }
   ],
   "source": [
    "print('this is the print function')"
   ]
  },
  {
   "cell_type": "code",
   "execution_count": 50,
   "metadata": {},
   "outputs": [
    {
     "data": {
      "text/plain": [
       "24"
      ]
     },
     "execution_count": 50,
     "metadata": {},
     "output_type": "execute_result"
    }
   ],
   "source": [
    "len(\"this is the len function\")"
   ]
  },
  {
   "cell_type": "code",
   "execution_count": 51,
   "metadata": {},
   "outputs": [],
   "source": [
    "strlength = len(\"this is the len function\")"
   ]
  },
  {
   "cell_type": "code",
   "execution_count": 52,
   "metadata": {},
   "outputs": [
    {
     "name": "stdout",
     "output_type": "stream",
     "text": [
      "24\n"
     ]
    }
   ],
   "source": [
    "print(strlength)"
   ]
  },
  {
   "cell_type": "code",
   "execution_count": 53,
   "metadata": {},
   "outputs": [],
   "source": [
    "\n",
    "import numpy"
   ]
  },
  {
   "cell_type": "code",
   "execution_count": 54,
   "metadata": {},
   "outputs": [
    {
     "data": {
      "text/plain": [
       "1.3862943611198906"
      ]
     },
     "execution_count": 54,
     "metadata": {},
     "output_type": "execute_result"
    }
   ],
   "source": [
    "numpy.log(4.0)"
   ]
  },
  {
   "cell_type": "code",
   "execution_count": 55,
   "metadata": {},
   "outputs": [
    {
     "data": {
      "text/plain": [
       "array([0.        , 0.69314718, 1.09861229, 1.38629436, 1.60943791,\n",
       "       1.79175947, 1.94591015, 2.07944154, 2.19722458, 2.30258509])"
      ]
     },
     "execution_count": 55,
     "metadata": {},
     "output_type": "execute_result"
    }
   ],
   "source": [
    "numpy.log([1,2,3,4,5,6,7,8,9,10])"
   ]
  },
  {
   "cell_type": "code",
   "execution_count": 56,
   "metadata": {},
   "outputs": [],
   "source": [
    "answer = numpy.log([1,2,3,4,5,6,7,8,9,10])"
   ]
  },
  {
   "cell_type": "code",
   "execution_count": 57,
   "metadata": {},
   "outputs": [
    {
     "data": {
      "text/plain": [
       "0.6931471805599453"
      ]
     },
     "execution_count": 57,
     "metadata": {},
     "output_type": "execute_result"
    }
   ],
   "source": [
    "answer[1]"
   ]
  },
  {
   "cell_type": "code",
   "execution_count": 58,
   "metadata": {},
   "outputs": [
    {
     "data": {
      "text/plain": [
       "array([0.69314718, 1.09861229])"
      ]
     },
     "execution_count": 58,
     "metadata": {},
     "output_type": "execute_result"
    }
   ],
   "source": [
    "answer[1:3]"
   ]
  },
  {
   "cell_type": "code",
   "execution_count": 62,
   "metadata": {},
   "outputs": [],
   "source": [
    "report = \"The result is 60\""
   ]
  },
  {
   "cell_type": "code",
   "execution_count": 63,
   "metadata": {},
   "outputs": [
    {
     "data": {
      "text/plain": [
       "'The result is 60'"
      ]
     },
     "execution_count": 63,
     "metadata": {},
     "output_type": "execute_result"
    }
   ],
   "source": [
    "report"
   ]
  },
  {
   "cell_type": "code",
   "execution_count": 64,
   "metadata": {},
   "outputs": [
    {
     "ename": "SyntaxError",
     "evalue": "invalid syntax (<ipython-input-64-7601f768ba86>, line 1)",
     "output_type": "error",
     "traceback": [
      "\u001b[0;36m  File \u001b[0;32m\"<ipython-input-64-7601f768ba86>\"\u001b[0;36m, line \u001b[0;32m1\u001b[0m\n\u001b[0;31m    The result is \"60\"\u001b[0m\n\u001b[0m             ^\u001b[0m\n\u001b[0;31mSyntaxError\u001b[0m\u001b[0;31m:\u001b[0m invalid syntax\n"
     ]
    }
   ],
   "source": [
    "The result is \"60\""
   ]
  },
  {
   "cell_type": "code",
   "execution_count": 65,
   "metadata": {},
   "outputs": [],
   "source": [
    "result = 60\n",
    "report = \"the result is \"+str(result)"
   ]
  },
  {
   "cell_type": "code",
   "execution_count": 66,
   "metadata": {},
   "outputs": [
    {
     "data": {
      "text/plain": [
       "'the result is 60'"
      ]
     },
     "execution_count": 66,
     "metadata": {},
     "output_type": "execute_result"
    }
   ],
   "source": [
    "report"
   ]
  },
  {
   "cell_type": "code",
   "execution_count": 67,
   "metadata": {},
   "outputs": [],
   "source": [
    "import pandas as pd"
   ]
  },
  {
   "cell_type": "code",
   "execution_count": 68,
   "metadata": {},
   "outputs": [],
   "source": [
    "data = pd.read_csv('gapminder_data.csv')"
   ]
  },
  {
   "cell_type": "code",
   "execution_count": 70,
   "metadata": {},
   "outputs": [
    {
     "data": {
      "text/html": [
       "<div>\n",
       "<style scoped>\n",
       "    .dataframe tbody tr th:only-of-type {\n",
       "        vertical-align: middle;\n",
       "    }\n",
       "\n",
       "    .dataframe tbody tr th {\n",
       "        vertical-align: top;\n",
       "    }\n",
       "\n",
       "    .dataframe thead th {\n",
       "        text-align: right;\n",
       "    }\n",
       "</style>\n",
       "<table border=\"1\" class=\"dataframe\">\n",
       "  <thead>\n",
       "    <tr style=\"text-align: right;\">\n",
       "      <th></th>\n",
       "      <th>country</th>\n",
       "      <th>year</th>\n",
       "      <th>pop</th>\n",
       "      <th>continent</th>\n",
       "      <th>lifeExp</th>\n",
       "      <th>gdpPercap</th>\n",
       "    </tr>\n",
       "  </thead>\n",
       "  <tbody>\n",
       "    <tr>\n",
       "      <th>0</th>\n",
       "      <td>Afghanistan</td>\n",
       "      <td>1952</td>\n",
       "      <td>8425333.0</td>\n",
       "      <td>Asia</td>\n",
       "      <td>28.801</td>\n",
       "      <td>779.445314</td>\n",
       "    </tr>\n",
       "    <tr>\n",
       "      <th>1</th>\n",
       "      <td>Afghanistan</td>\n",
       "      <td>1957</td>\n",
       "      <td>9240934.0</td>\n",
       "      <td>Asia</td>\n",
       "      <td>30.332</td>\n",
       "      <td>820.853030</td>\n",
       "    </tr>\n",
       "    <tr>\n",
       "      <th>2</th>\n",
       "      <td>Afghanistan</td>\n",
       "      <td>1962</td>\n",
       "      <td>10267083.0</td>\n",
       "      <td>Asia</td>\n",
       "      <td>31.997</td>\n",
       "      <td>853.100710</td>\n",
       "    </tr>\n",
       "    <tr>\n",
       "      <th>3</th>\n",
       "      <td>Afghanistan</td>\n",
       "      <td>1967</td>\n",
       "      <td>11537966.0</td>\n",
       "      <td>Asia</td>\n",
       "      <td>34.020</td>\n",
       "      <td>836.197138</td>\n",
       "    </tr>\n",
       "    <tr>\n",
       "      <th>4</th>\n",
       "      <td>Afghanistan</td>\n",
       "      <td>1972</td>\n",
       "      <td>13079460.0</td>\n",
       "      <td>Asia</td>\n",
       "      <td>36.088</td>\n",
       "      <td>739.981106</td>\n",
       "    </tr>\n",
       "    <tr>\n",
       "      <th>...</th>\n",
       "      <td>...</td>\n",
       "      <td>...</td>\n",
       "      <td>...</td>\n",
       "      <td>...</td>\n",
       "      <td>...</td>\n",
       "      <td>...</td>\n",
       "    </tr>\n",
       "    <tr>\n",
       "      <th>1699</th>\n",
       "      <td>Zimbabwe</td>\n",
       "      <td>1987</td>\n",
       "      <td>9216418.0</td>\n",
       "      <td>Africa</td>\n",
       "      <td>62.351</td>\n",
       "      <td>706.157306</td>\n",
       "    </tr>\n",
       "    <tr>\n",
       "      <th>1700</th>\n",
       "      <td>Zimbabwe</td>\n",
       "      <td>1992</td>\n",
       "      <td>10704340.0</td>\n",
       "      <td>Africa</td>\n",
       "      <td>60.377</td>\n",
       "      <td>693.420786</td>\n",
       "    </tr>\n",
       "    <tr>\n",
       "      <th>1701</th>\n",
       "      <td>Zimbabwe</td>\n",
       "      <td>1997</td>\n",
       "      <td>11404948.0</td>\n",
       "      <td>Africa</td>\n",
       "      <td>46.809</td>\n",
       "      <td>792.449960</td>\n",
       "    </tr>\n",
       "    <tr>\n",
       "      <th>1702</th>\n",
       "      <td>Zimbabwe</td>\n",
       "      <td>2002</td>\n",
       "      <td>11926563.0</td>\n",
       "      <td>Africa</td>\n",
       "      <td>39.989</td>\n",
       "      <td>672.038623</td>\n",
       "    </tr>\n",
       "    <tr>\n",
       "      <th>1703</th>\n",
       "      <td>Zimbabwe</td>\n",
       "      <td>2007</td>\n",
       "      <td>12311143.0</td>\n",
       "      <td>Africa</td>\n",
       "      <td>43.487</td>\n",
       "      <td>469.709298</td>\n",
       "    </tr>\n",
       "  </tbody>\n",
       "</table>\n",
       "<p>1704 rows × 6 columns</p>\n",
       "</div>"
      ],
      "text/plain": [
       "          country  year         pop continent  lifeExp   gdpPercap\n",
       "0     Afghanistan  1952   8425333.0      Asia   28.801  779.445314\n",
       "1     Afghanistan  1957   9240934.0      Asia   30.332  820.853030\n",
       "2     Afghanistan  1962  10267083.0      Asia   31.997  853.100710\n",
       "3     Afghanistan  1967  11537966.0      Asia   34.020  836.197138\n",
       "4     Afghanistan  1972  13079460.0      Asia   36.088  739.981106\n",
       "...           ...   ...         ...       ...      ...         ...\n",
       "1699     Zimbabwe  1987   9216418.0    Africa   62.351  706.157306\n",
       "1700     Zimbabwe  1992  10704340.0    Africa   60.377  693.420786\n",
       "1701     Zimbabwe  1997  11404948.0    Africa   46.809  792.449960\n",
       "1702     Zimbabwe  2002  11926563.0    Africa   39.989  672.038623\n",
       "1703     Zimbabwe  2007  12311143.0    Africa   43.487  469.709298\n",
       "\n",
       "[1704 rows x 6 columns]"
      ]
     },
     "execution_count": 70,
     "metadata": {},
     "output_type": "execute_result"
    }
   ],
   "source": [
    "pd.read_csv('gapminder_data.csv')"
   ]
  },
  {
   "cell_type": "code",
   "execution_count": 69,
   "metadata": {},
   "outputs": [
    {
     "data": {
      "text/html": [
       "<div>\n",
       "<style scoped>\n",
       "    .dataframe tbody tr th:only-of-type {\n",
       "        vertical-align: middle;\n",
       "    }\n",
       "\n",
       "    .dataframe tbody tr th {\n",
       "        vertical-align: top;\n",
       "    }\n",
       "\n",
       "    .dataframe thead th {\n",
       "        text-align: right;\n",
       "    }\n",
       "</style>\n",
       "<table border=\"1\" class=\"dataframe\">\n",
       "  <thead>\n",
       "    <tr style=\"text-align: right;\">\n",
       "      <th></th>\n",
       "      <th>country</th>\n",
       "      <th>year</th>\n",
       "      <th>pop</th>\n",
       "      <th>continent</th>\n",
       "      <th>lifeExp</th>\n",
       "      <th>gdpPercap</th>\n",
       "    </tr>\n",
       "  </thead>\n",
       "  <tbody>\n",
       "    <tr>\n",
       "      <th>0</th>\n",
       "      <td>Afghanistan</td>\n",
       "      <td>1952</td>\n",
       "      <td>8425333.0</td>\n",
       "      <td>Asia</td>\n",
       "      <td>28.801</td>\n",
       "      <td>779.445314</td>\n",
       "    </tr>\n",
       "    <tr>\n",
       "      <th>1</th>\n",
       "      <td>Afghanistan</td>\n",
       "      <td>1957</td>\n",
       "      <td>9240934.0</td>\n",
       "      <td>Asia</td>\n",
       "      <td>30.332</td>\n",
       "      <td>820.853030</td>\n",
       "    </tr>\n",
       "    <tr>\n",
       "      <th>2</th>\n",
       "      <td>Afghanistan</td>\n",
       "      <td>1962</td>\n",
       "      <td>10267083.0</td>\n",
       "      <td>Asia</td>\n",
       "      <td>31.997</td>\n",
       "      <td>853.100710</td>\n",
       "    </tr>\n",
       "    <tr>\n",
       "      <th>3</th>\n",
       "      <td>Afghanistan</td>\n",
       "      <td>1967</td>\n",
       "      <td>11537966.0</td>\n",
       "      <td>Asia</td>\n",
       "      <td>34.020</td>\n",
       "      <td>836.197138</td>\n",
       "    </tr>\n",
       "    <tr>\n",
       "      <th>4</th>\n",
       "      <td>Afghanistan</td>\n",
       "      <td>1972</td>\n",
       "      <td>13079460.0</td>\n",
       "      <td>Asia</td>\n",
       "      <td>36.088</td>\n",
       "      <td>739.981106</td>\n",
       "    </tr>\n",
       "    <tr>\n",
       "      <th>...</th>\n",
       "      <td>...</td>\n",
       "      <td>...</td>\n",
       "      <td>...</td>\n",
       "      <td>...</td>\n",
       "      <td>...</td>\n",
       "      <td>...</td>\n",
       "    </tr>\n",
       "    <tr>\n",
       "      <th>1699</th>\n",
       "      <td>Zimbabwe</td>\n",
       "      <td>1987</td>\n",
       "      <td>9216418.0</td>\n",
       "      <td>Africa</td>\n",
       "      <td>62.351</td>\n",
       "      <td>706.157306</td>\n",
       "    </tr>\n",
       "    <tr>\n",
       "      <th>1700</th>\n",
       "      <td>Zimbabwe</td>\n",
       "      <td>1992</td>\n",
       "      <td>10704340.0</td>\n",
       "      <td>Africa</td>\n",
       "      <td>60.377</td>\n",
       "      <td>693.420786</td>\n",
       "    </tr>\n",
       "    <tr>\n",
       "      <th>1701</th>\n",
       "      <td>Zimbabwe</td>\n",
       "      <td>1997</td>\n",
       "      <td>11404948.0</td>\n",
       "      <td>Africa</td>\n",
       "      <td>46.809</td>\n",
       "      <td>792.449960</td>\n",
       "    </tr>\n",
       "    <tr>\n",
       "      <th>1702</th>\n",
       "      <td>Zimbabwe</td>\n",
       "      <td>2002</td>\n",
       "      <td>11926563.0</td>\n",
       "      <td>Africa</td>\n",
       "      <td>39.989</td>\n",
       "      <td>672.038623</td>\n",
       "    </tr>\n",
       "    <tr>\n",
       "      <th>1703</th>\n",
       "      <td>Zimbabwe</td>\n",
       "      <td>2007</td>\n",
       "      <td>12311143.0</td>\n",
       "      <td>Africa</td>\n",
       "      <td>43.487</td>\n",
       "      <td>469.709298</td>\n",
       "    </tr>\n",
       "  </tbody>\n",
       "</table>\n",
       "<p>1704 rows × 6 columns</p>\n",
       "</div>"
      ],
      "text/plain": [
       "          country  year         pop continent  lifeExp   gdpPercap\n",
       "0     Afghanistan  1952   8425333.0      Asia   28.801  779.445314\n",
       "1     Afghanistan  1957   9240934.0      Asia   30.332  820.853030\n",
       "2     Afghanistan  1962  10267083.0      Asia   31.997  853.100710\n",
       "3     Afghanistan  1967  11537966.0      Asia   34.020  836.197138\n",
       "4     Afghanistan  1972  13079460.0      Asia   36.088  739.981106\n",
       "...           ...   ...         ...       ...      ...         ...\n",
       "1699     Zimbabwe  1987   9216418.0    Africa   62.351  706.157306\n",
       "1700     Zimbabwe  1992  10704340.0    Africa   60.377  693.420786\n",
       "1701     Zimbabwe  1997  11404948.0    Africa   46.809  792.449960\n",
       "1702     Zimbabwe  2002  11926563.0    Africa   39.989  672.038623\n",
       "1703     Zimbabwe  2007  12311143.0    Africa   43.487  469.709298\n",
       "\n",
       "[1704 rows x 6 columns]"
      ]
     },
     "execution_count": 69,
     "metadata": {},
     "output_type": "execute_result"
    }
   ],
   "source": [
    "data"
   ]
  },
  {
   "cell_type": "code",
   "execution_count": 71,
   "metadata": {},
   "outputs": [
    {
     "data": {
      "text/html": [
       "<div>\n",
       "<style scoped>\n",
       "    .dataframe tbody tr th:only-of-type {\n",
       "        vertical-align: middle;\n",
       "    }\n",
       "\n",
       "    .dataframe tbody tr th {\n",
       "        vertical-align: top;\n",
       "    }\n",
       "\n",
       "    .dataframe thead th {\n",
       "        text-align: right;\n",
       "    }\n",
       "</style>\n",
       "<table border=\"1\" class=\"dataframe\">\n",
       "  <thead>\n",
       "    <tr style=\"text-align: right;\">\n",
       "      <th></th>\n",
       "      <th>country</th>\n",
       "      <th>year</th>\n",
       "      <th>pop</th>\n",
       "      <th>continent</th>\n",
       "      <th>lifeExp</th>\n",
       "      <th>gdpPercap</th>\n",
       "    </tr>\n",
       "  </thead>\n",
       "  <tbody>\n",
       "    <tr>\n",
       "      <th>0</th>\n",
       "      <td>Afghanistan</td>\n",
       "      <td>1952</td>\n",
       "      <td>8425333.0</td>\n",
       "      <td>Asia</td>\n",
       "      <td>28.801</td>\n",
       "      <td>779.445314</td>\n",
       "    </tr>\n",
       "    <tr>\n",
       "      <th>1</th>\n",
       "      <td>Afghanistan</td>\n",
       "      <td>1957</td>\n",
       "      <td>9240934.0</td>\n",
       "      <td>Asia</td>\n",
       "      <td>30.332</td>\n",
       "      <td>820.853030</td>\n",
       "    </tr>\n",
       "    <tr>\n",
       "      <th>2</th>\n",
       "      <td>Afghanistan</td>\n",
       "      <td>1962</td>\n",
       "      <td>10267083.0</td>\n",
       "      <td>Asia</td>\n",
       "      <td>31.997</td>\n",
       "      <td>853.100710</td>\n",
       "    </tr>\n",
       "    <tr>\n",
       "      <th>3</th>\n",
       "      <td>Afghanistan</td>\n",
       "      <td>1967</td>\n",
       "      <td>11537966.0</td>\n",
       "      <td>Asia</td>\n",
       "      <td>34.020</td>\n",
       "      <td>836.197138</td>\n",
       "    </tr>\n",
       "    <tr>\n",
       "      <th>4</th>\n",
       "      <td>Afghanistan</td>\n",
       "      <td>1972</td>\n",
       "      <td>13079460.0</td>\n",
       "      <td>Asia</td>\n",
       "      <td>36.088</td>\n",
       "      <td>739.981106</td>\n",
       "    </tr>\n",
       "  </tbody>\n",
       "</table>\n",
       "</div>"
      ],
      "text/plain": [
       "       country  year         pop continent  lifeExp   gdpPercap\n",
       "0  Afghanistan  1952   8425333.0      Asia   28.801  779.445314\n",
       "1  Afghanistan  1957   9240934.0      Asia   30.332  820.853030\n",
       "2  Afghanistan  1962  10267083.0      Asia   31.997  853.100710\n",
       "3  Afghanistan  1967  11537966.0      Asia   34.020  836.197138\n",
       "4  Afghanistan  1972  13079460.0      Asia   36.088  739.981106"
      ]
     },
     "execution_count": 71,
     "metadata": {},
     "output_type": "execute_result"
    }
   ],
   "source": [
    "data.head()"
   ]
  },
  {
   "cell_type": "code",
   "execution_count": 72,
   "metadata": {},
   "outputs": [
    {
     "data": {
      "text/html": [
       "<div>\n",
       "<style scoped>\n",
       "    .dataframe tbody tr th:only-of-type {\n",
       "        vertical-align: middle;\n",
       "    }\n",
       "\n",
       "    .dataframe tbody tr th {\n",
       "        vertical-align: top;\n",
       "    }\n",
       "\n",
       "    .dataframe thead th {\n",
       "        text-align: right;\n",
       "    }\n",
       "</style>\n",
       "<table border=\"1\" class=\"dataframe\">\n",
       "  <thead>\n",
       "    <tr style=\"text-align: right;\">\n",
       "      <th></th>\n",
       "      <th>country</th>\n",
       "      <th>year</th>\n",
       "      <th>pop</th>\n",
       "      <th>continent</th>\n",
       "      <th>lifeExp</th>\n",
       "      <th>gdpPercap</th>\n",
       "    </tr>\n",
       "  </thead>\n",
       "  <tbody>\n",
       "    <tr>\n",
       "      <th>0</th>\n",
       "      <td>Afghanistan</td>\n",
       "      <td>1952</td>\n",
       "      <td>8425333.0</td>\n",
       "      <td>Asia</td>\n",
       "      <td>28.801</td>\n",
       "      <td>779.445314</td>\n",
       "    </tr>\n",
       "    <tr>\n",
       "      <th>1</th>\n",
       "      <td>Afghanistan</td>\n",
       "      <td>1957</td>\n",
       "      <td>9240934.0</td>\n",
       "      <td>Asia</td>\n",
       "      <td>30.332</td>\n",
       "      <td>820.853030</td>\n",
       "    </tr>\n",
       "    <tr>\n",
       "      <th>2</th>\n",
       "      <td>Afghanistan</td>\n",
       "      <td>1962</td>\n",
       "      <td>10267083.0</td>\n",
       "      <td>Asia</td>\n",
       "      <td>31.997</td>\n",
       "      <td>853.100710</td>\n",
       "    </tr>\n",
       "    <tr>\n",
       "      <th>3</th>\n",
       "      <td>Afghanistan</td>\n",
       "      <td>1967</td>\n",
       "      <td>11537966.0</td>\n",
       "      <td>Asia</td>\n",
       "      <td>34.020</td>\n",
       "      <td>836.197138</td>\n",
       "    </tr>\n",
       "    <tr>\n",
       "      <th>4</th>\n",
       "      <td>Afghanistan</td>\n",
       "      <td>1972</td>\n",
       "      <td>13079460.0</td>\n",
       "      <td>Asia</td>\n",
       "      <td>36.088</td>\n",
       "      <td>739.981106</td>\n",
       "    </tr>\n",
       "    <tr>\n",
       "      <th>5</th>\n",
       "      <td>Afghanistan</td>\n",
       "      <td>1977</td>\n",
       "      <td>14880372.0</td>\n",
       "      <td>Asia</td>\n",
       "      <td>38.438</td>\n",
       "      <td>786.113360</td>\n",
       "    </tr>\n",
       "    <tr>\n",
       "      <th>6</th>\n",
       "      <td>Afghanistan</td>\n",
       "      <td>1982</td>\n",
       "      <td>12881816.0</td>\n",
       "      <td>Asia</td>\n",
       "      <td>39.854</td>\n",
       "      <td>978.011439</td>\n",
       "    </tr>\n",
       "    <tr>\n",
       "      <th>7</th>\n",
       "      <td>Afghanistan</td>\n",
       "      <td>1987</td>\n",
       "      <td>13867957.0</td>\n",
       "      <td>Asia</td>\n",
       "      <td>40.822</td>\n",
       "      <td>852.395945</td>\n",
       "    </tr>\n",
       "    <tr>\n",
       "      <th>8</th>\n",
       "      <td>Afghanistan</td>\n",
       "      <td>1992</td>\n",
       "      <td>16317921.0</td>\n",
       "      <td>Asia</td>\n",
       "      <td>41.674</td>\n",
       "      <td>649.341395</td>\n",
       "    </tr>\n",
       "    <tr>\n",
       "      <th>9</th>\n",
       "      <td>Afghanistan</td>\n",
       "      <td>1997</td>\n",
       "      <td>22227415.0</td>\n",
       "      <td>Asia</td>\n",
       "      <td>41.763</td>\n",
       "      <td>635.341351</td>\n",
       "    </tr>\n",
       "  </tbody>\n",
       "</table>\n",
       "</div>"
      ],
      "text/plain": [
       "       country  year         pop continent  lifeExp   gdpPercap\n",
       "0  Afghanistan  1952   8425333.0      Asia   28.801  779.445314\n",
       "1  Afghanistan  1957   9240934.0      Asia   30.332  820.853030\n",
       "2  Afghanistan  1962  10267083.0      Asia   31.997  853.100710\n",
       "3  Afghanistan  1967  11537966.0      Asia   34.020  836.197138\n",
       "4  Afghanistan  1972  13079460.0      Asia   36.088  739.981106\n",
       "5  Afghanistan  1977  14880372.0      Asia   38.438  786.113360\n",
       "6  Afghanistan  1982  12881816.0      Asia   39.854  978.011439\n",
       "7  Afghanistan  1987  13867957.0      Asia   40.822  852.395945\n",
       "8  Afghanistan  1992  16317921.0      Asia   41.674  649.341395\n",
       "9  Afghanistan  1997  22227415.0      Asia   41.763  635.341351"
      ]
     },
     "execution_count": 72,
     "metadata": {},
     "output_type": "execute_result"
    }
   ],
   "source": [
    "data.head(10)"
   ]
  },
  {
   "cell_type": "code",
   "execution_count": 73,
   "metadata": {},
   "outputs": [
    {
     "data": {
      "text/html": [
       "<div>\n",
       "<style scoped>\n",
       "    .dataframe tbody tr th:only-of-type {\n",
       "        vertical-align: middle;\n",
       "    }\n",
       "\n",
       "    .dataframe tbody tr th {\n",
       "        vertical-align: top;\n",
       "    }\n",
       "\n",
       "    .dataframe thead th {\n",
       "        text-align: right;\n",
       "    }\n",
       "</style>\n",
       "<table border=\"1\" class=\"dataframe\">\n",
       "  <thead>\n",
       "    <tr style=\"text-align: right;\">\n",
       "      <th></th>\n",
       "      <th>country</th>\n",
       "      <th>year</th>\n",
       "      <th>pop</th>\n",
       "      <th>continent</th>\n",
       "      <th>lifeExp</th>\n",
       "      <th>gdpPercap</th>\n",
       "    </tr>\n",
       "  </thead>\n",
       "  <tbody>\n",
       "    <tr>\n",
       "      <th>1694</th>\n",
       "      <td>Zimbabwe</td>\n",
       "      <td>1962</td>\n",
       "      <td>4277736.0</td>\n",
       "      <td>Africa</td>\n",
       "      <td>52.358</td>\n",
       "      <td>527.272182</td>\n",
       "    </tr>\n",
       "    <tr>\n",
       "      <th>1695</th>\n",
       "      <td>Zimbabwe</td>\n",
       "      <td>1967</td>\n",
       "      <td>4995432.0</td>\n",
       "      <td>Africa</td>\n",
       "      <td>53.995</td>\n",
       "      <td>569.795071</td>\n",
       "    </tr>\n",
       "    <tr>\n",
       "      <th>1696</th>\n",
       "      <td>Zimbabwe</td>\n",
       "      <td>1972</td>\n",
       "      <td>5861135.0</td>\n",
       "      <td>Africa</td>\n",
       "      <td>55.635</td>\n",
       "      <td>799.362176</td>\n",
       "    </tr>\n",
       "    <tr>\n",
       "      <th>1697</th>\n",
       "      <td>Zimbabwe</td>\n",
       "      <td>1977</td>\n",
       "      <td>6642107.0</td>\n",
       "      <td>Africa</td>\n",
       "      <td>57.674</td>\n",
       "      <td>685.587682</td>\n",
       "    </tr>\n",
       "    <tr>\n",
       "      <th>1698</th>\n",
       "      <td>Zimbabwe</td>\n",
       "      <td>1982</td>\n",
       "      <td>7636524.0</td>\n",
       "      <td>Africa</td>\n",
       "      <td>60.363</td>\n",
       "      <td>788.855041</td>\n",
       "    </tr>\n",
       "    <tr>\n",
       "      <th>1699</th>\n",
       "      <td>Zimbabwe</td>\n",
       "      <td>1987</td>\n",
       "      <td>9216418.0</td>\n",
       "      <td>Africa</td>\n",
       "      <td>62.351</td>\n",
       "      <td>706.157306</td>\n",
       "    </tr>\n",
       "    <tr>\n",
       "      <th>1700</th>\n",
       "      <td>Zimbabwe</td>\n",
       "      <td>1992</td>\n",
       "      <td>10704340.0</td>\n",
       "      <td>Africa</td>\n",
       "      <td>60.377</td>\n",
       "      <td>693.420786</td>\n",
       "    </tr>\n",
       "    <tr>\n",
       "      <th>1701</th>\n",
       "      <td>Zimbabwe</td>\n",
       "      <td>1997</td>\n",
       "      <td>11404948.0</td>\n",
       "      <td>Africa</td>\n",
       "      <td>46.809</td>\n",
       "      <td>792.449960</td>\n",
       "    </tr>\n",
       "    <tr>\n",
       "      <th>1702</th>\n",
       "      <td>Zimbabwe</td>\n",
       "      <td>2002</td>\n",
       "      <td>11926563.0</td>\n",
       "      <td>Africa</td>\n",
       "      <td>39.989</td>\n",
       "      <td>672.038623</td>\n",
       "    </tr>\n",
       "    <tr>\n",
       "      <th>1703</th>\n",
       "      <td>Zimbabwe</td>\n",
       "      <td>2007</td>\n",
       "      <td>12311143.0</td>\n",
       "      <td>Africa</td>\n",
       "      <td>43.487</td>\n",
       "      <td>469.709298</td>\n",
       "    </tr>\n",
       "  </tbody>\n",
       "</table>\n",
       "</div>"
      ],
      "text/plain": [
       "       country  year         pop continent  lifeExp   gdpPercap\n",
       "1694  Zimbabwe  1962   4277736.0    Africa   52.358  527.272182\n",
       "1695  Zimbabwe  1967   4995432.0    Africa   53.995  569.795071\n",
       "1696  Zimbabwe  1972   5861135.0    Africa   55.635  799.362176\n",
       "1697  Zimbabwe  1977   6642107.0    Africa   57.674  685.587682\n",
       "1698  Zimbabwe  1982   7636524.0    Africa   60.363  788.855041\n",
       "1699  Zimbabwe  1987   9216418.0    Africa   62.351  706.157306\n",
       "1700  Zimbabwe  1992  10704340.0    Africa   60.377  693.420786\n",
       "1701  Zimbabwe  1997  11404948.0    Africa   46.809  792.449960\n",
       "1702  Zimbabwe  2002  11926563.0    Africa   39.989  672.038623\n",
       "1703  Zimbabwe  2007  12311143.0    Africa   43.487  469.709298"
      ]
     },
     "execution_count": 73,
     "metadata": {},
     "output_type": "execute_result"
    }
   ],
   "source": [
    "data.tail(10)"
   ]
  },
  {
   "cell_type": "code",
   "execution_count": 75,
   "metadata": {},
   "outputs": [
    {
     "data": {
      "text/html": [
       "<div>\n",
       "<style scoped>\n",
       "    .dataframe tbody tr th:only-of-type {\n",
       "        vertical-align: middle;\n",
       "    }\n",
       "\n",
       "    .dataframe tbody tr th {\n",
       "        vertical-align: top;\n",
       "    }\n",
       "\n",
       "    .dataframe thead th {\n",
       "        text-align: right;\n",
       "    }\n",
       "</style>\n",
       "<table border=\"1\" class=\"dataframe\">\n",
       "  <thead>\n",
       "    <tr style=\"text-align: right;\">\n",
       "      <th></th>\n",
       "      <th>country</th>\n",
       "      <th>year</th>\n",
       "      <th>pop</th>\n",
       "      <th>continent</th>\n",
       "      <th>lifeExp</th>\n",
       "      <th>gdpPercap</th>\n",
       "    </tr>\n",
       "  </thead>\n",
       "  <tbody>\n",
       "    <tr>\n",
       "      <th>5</th>\n",
       "      <td>Afghanistan</td>\n",
       "      <td>1977</td>\n",
       "      <td>14880372.0</td>\n",
       "      <td>Asia</td>\n",
       "      <td>38.438</td>\n",
       "      <td>786.11336</td>\n",
       "    </tr>\n",
       "  </tbody>\n",
       "</table>\n",
       "</div>"
      ],
      "text/plain": [
       "       country  year         pop continent  lifeExp  gdpPercap\n",
       "5  Afghanistan  1977  14880372.0      Asia   38.438  786.11336"
      ]
     },
     "execution_count": 75,
     "metadata": {},
     "output_type": "execute_result"
    }
   ],
   "source": [
    "data.head(10).tail(5).head(1)"
   ]
  },
  {
   "cell_type": "code",
   "execution_count": 76,
   "metadata": {},
   "outputs": [
    {
     "name": "stdout",
     "output_type": "stream",
     "text": [
      "<class 'pandas.core.frame.DataFrame'>\n",
      "RangeIndex: 1704 entries, 0 to 1703\n",
      "Data columns (total 6 columns):\n",
      "country      1704 non-null object\n",
      "year         1704 non-null int64\n",
      "pop          1704 non-null float64\n",
      "continent    1704 non-null object\n",
      "lifeExp      1704 non-null float64\n",
      "gdpPercap    1704 non-null float64\n",
      "dtypes: float64(3), int64(1), object(2)\n",
      "memory usage: 80.0+ KB\n"
     ]
    }
   ],
   "source": [
    "data.info()"
   ]
  },
  {
   "cell_type": "code",
   "execution_count": 77,
   "metadata": {},
   "outputs": [
    {
     "data": {
      "text/plain": [
       "Index(['country', 'year', 'pop', 'continent', 'lifeExp', 'gdpPercap'], dtype='object')"
      ]
     },
     "execution_count": 77,
     "metadata": {},
     "output_type": "execute_result"
    }
   ],
   "source": [
    "data.columns"
   ]
  },
  {
   "cell_type": "code",
   "execution_count": 78,
   "metadata": {},
   "outputs": [
    {
     "data": {
      "text/plain": [
       "RangeIndex(start=0, stop=1704, step=1)"
      ]
     },
     "execution_count": 78,
     "metadata": {},
     "output_type": "execute_result"
    }
   ],
   "source": [
    "data.index"
   ]
  },
  {
   "cell_type": "code",
   "execution_count": 79,
   "metadata": {},
   "outputs": [
    {
     "data": {
      "text/plain": [
       "pandas.core.frame.DataFrame"
      ]
     },
     "execution_count": 79,
     "metadata": {},
     "output_type": "execute_result"
    }
   ],
   "source": [
    "type(data)"
   ]
  },
  {
   "cell_type": "code",
   "execution_count": 80,
   "metadata": {},
   "outputs": [
    {
     "data": {
      "text/plain": [
       "0        8425333.0\n",
       "1        9240934.0\n",
       "2       10267083.0\n",
       "3       11537966.0\n",
       "4       13079460.0\n",
       "           ...    \n",
       "1699     9216418.0\n",
       "1700    10704340.0\n",
       "1701    11404948.0\n",
       "1702    11926563.0\n",
       "1703    12311143.0\n",
       "Name: pop, Length: 1704, dtype: float64"
      ]
     },
     "execution_count": 80,
     "metadata": {},
     "output_type": "execute_result"
    }
   ],
   "source": [
    "data['pop']"
   ]
  },
  {
   "cell_type": "code",
   "execution_count": 81,
   "metadata": {},
   "outputs": [
    {
     "data": {
      "text/html": [
       "<div>\n",
       "<style scoped>\n",
       "    .dataframe tbody tr th:only-of-type {\n",
       "        vertical-align: middle;\n",
       "    }\n",
       "\n",
       "    .dataframe tbody tr th {\n",
       "        vertical-align: top;\n",
       "    }\n",
       "\n",
       "    .dataframe thead th {\n",
       "        text-align: right;\n",
       "    }\n",
       "</style>\n",
       "<table border=\"1\" class=\"dataframe\">\n",
       "  <thead>\n",
       "    <tr style=\"text-align: right;\">\n",
       "      <th></th>\n",
       "      <th>year</th>\n",
       "      <th>pop</th>\n",
       "    </tr>\n",
       "  </thead>\n",
       "  <tbody>\n",
       "    <tr>\n",
       "      <th>0</th>\n",
       "      <td>1952</td>\n",
       "      <td>8425333.0</td>\n",
       "    </tr>\n",
       "    <tr>\n",
       "      <th>1</th>\n",
       "      <td>1957</td>\n",
       "      <td>9240934.0</td>\n",
       "    </tr>\n",
       "    <tr>\n",
       "      <th>2</th>\n",
       "      <td>1962</td>\n",
       "      <td>10267083.0</td>\n",
       "    </tr>\n",
       "    <tr>\n",
       "      <th>3</th>\n",
       "      <td>1967</td>\n",
       "      <td>11537966.0</td>\n",
       "    </tr>\n",
       "    <tr>\n",
       "      <th>4</th>\n",
       "      <td>1972</td>\n",
       "      <td>13079460.0</td>\n",
       "    </tr>\n",
       "    <tr>\n",
       "      <th>...</th>\n",
       "      <td>...</td>\n",
       "      <td>...</td>\n",
       "    </tr>\n",
       "    <tr>\n",
       "      <th>1699</th>\n",
       "      <td>1987</td>\n",
       "      <td>9216418.0</td>\n",
       "    </tr>\n",
       "    <tr>\n",
       "      <th>1700</th>\n",
       "      <td>1992</td>\n",
       "      <td>10704340.0</td>\n",
       "    </tr>\n",
       "    <tr>\n",
       "      <th>1701</th>\n",
       "      <td>1997</td>\n",
       "      <td>11404948.0</td>\n",
       "    </tr>\n",
       "    <tr>\n",
       "      <th>1702</th>\n",
       "      <td>2002</td>\n",
       "      <td>11926563.0</td>\n",
       "    </tr>\n",
       "    <tr>\n",
       "      <th>1703</th>\n",
       "      <td>2007</td>\n",
       "      <td>12311143.0</td>\n",
       "    </tr>\n",
       "  </tbody>\n",
       "</table>\n",
       "<p>1704 rows × 2 columns</p>\n",
       "</div>"
      ],
      "text/plain": [
       "      year         pop\n",
       "0     1952   8425333.0\n",
       "1     1957   9240934.0\n",
       "2     1962  10267083.0\n",
       "3     1967  11537966.0\n",
       "4     1972  13079460.0\n",
       "...    ...         ...\n",
       "1699  1987   9216418.0\n",
       "1700  1992  10704340.0\n",
       "1701  1997  11404948.0\n",
       "1702  2002  11926563.0\n",
       "1703  2007  12311143.0\n",
       "\n",
       "[1704 rows x 2 columns]"
      ]
     },
     "execution_count": 81,
     "metadata": {},
     "output_type": "execute_result"
    }
   ],
   "source": [
    "data[['year','pop']]"
   ]
  },
  {
   "cell_type": "code",
   "execution_count": 82,
   "metadata": {},
   "outputs": [
    {
     "data": {
      "text/plain": [
       "country      Afghanistan\n",
       "year                1977\n",
       "pop          1.48804e+07\n",
       "continent           Asia\n",
       "lifeExp           38.438\n",
       "gdpPercap        786.113\n",
       "Name: 5, dtype: object"
      ]
     },
     "execution_count": 82,
     "metadata": {},
     "output_type": "execute_result"
    }
   ],
   "source": [
    "data.loc[5]"
   ]
  },
  {
   "cell_type": "code",
   "execution_count": 83,
   "metadata": {},
   "outputs": [
    {
     "data": {
      "text/html": [
       "<div>\n",
       "<style scoped>\n",
       "    .dataframe tbody tr th:only-of-type {\n",
       "        vertical-align: middle;\n",
       "    }\n",
       "\n",
       "    .dataframe tbody tr th {\n",
       "        vertical-align: top;\n",
       "    }\n",
       "\n",
       "    .dataframe thead th {\n",
       "        text-align: right;\n",
       "    }\n",
       "</style>\n",
       "<table border=\"1\" class=\"dataframe\">\n",
       "  <thead>\n",
       "    <tr style=\"text-align: right;\">\n",
       "      <th></th>\n",
       "      <th>country</th>\n",
       "      <th>year</th>\n",
       "      <th>pop</th>\n",
       "      <th>continent</th>\n",
       "      <th>lifeExp</th>\n",
       "      <th>gdpPercap</th>\n",
       "    </tr>\n",
       "  </thead>\n",
       "  <tbody>\n",
       "    <tr>\n",
       "      <th>0</th>\n",
       "      <td>Afghanistan</td>\n",
       "      <td>1952</td>\n",
       "      <td>8425333.0</td>\n",
       "      <td>Asia</td>\n",
       "      <td>28.801</td>\n",
       "      <td>779.445314</td>\n",
       "    </tr>\n",
       "    <tr>\n",
       "      <th>1</th>\n",
       "      <td>Afghanistan</td>\n",
       "      <td>1957</td>\n",
       "      <td>9240934.0</td>\n",
       "      <td>Asia</td>\n",
       "      <td>30.332</td>\n",
       "      <td>820.853030</td>\n",
       "    </tr>\n",
       "    <tr>\n",
       "      <th>2</th>\n",
       "      <td>Afghanistan</td>\n",
       "      <td>1962</td>\n",
       "      <td>10267083.0</td>\n",
       "      <td>Asia</td>\n",
       "      <td>31.997</td>\n",
       "      <td>853.100710</td>\n",
       "    </tr>\n",
       "    <tr>\n",
       "      <th>3</th>\n",
       "      <td>Afghanistan</td>\n",
       "      <td>1967</td>\n",
       "      <td>11537966.0</td>\n",
       "      <td>Asia</td>\n",
       "      <td>34.020</td>\n",
       "      <td>836.197138</td>\n",
       "    </tr>\n",
       "    <tr>\n",
       "      <th>4</th>\n",
       "      <td>Afghanistan</td>\n",
       "      <td>1972</td>\n",
       "      <td>13079460.0</td>\n",
       "      <td>Asia</td>\n",
       "      <td>36.088</td>\n",
       "      <td>739.981106</td>\n",
       "    </tr>\n",
       "    <tr>\n",
       "      <th>5</th>\n",
       "      <td>Afghanistan</td>\n",
       "      <td>1977</td>\n",
       "      <td>14880372.0</td>\n",
       "      <td>Asia</td>\n",
       "      <td>38.438</td>\n",
       "      <td>786.113360</td>\n",
       "    </tr>\n",
       "    <tr>\n",
       "      <th>6</th>\n",
       "      <td>Afghanistan</td>\n",
       "      <td>1982</td>\n",
       "      <td>12881816.0</td>\n",
       "      <td>Asia</td>\n",
       "      <td>39.854</td>\n",
       "      <td>978.011439</td>\n",
       "    </tr>\n",
       "    <tr>\n",
       "      <th>7</th>\n",
       "      <td>Afghanistan</td>\n",
       "      <td>1987</td>\n",
       "      <td>13867957.0</td>\n",
       "      <td>Asia</td>\n",
       "      <td>40.822</td>\n",
       "      <td>852.395945</td>\n",
       "    </tr>\n",
       "    <tr>\n",
       "      <th>8</th>\n",
       "      <td>Afghanistan</td>\n",
       "      <td>1992</td>\n",
       "      <td>16317921.0</td>\n",
       "      <td>Asia</td>\n",
       "      <td>41.674</td>\n",
       "      <td>649.341395</td>\n",
       "    </tr>\n",
       "    <tr>\n",
       "      <th>9</th>\n",
       "      <td>Afghanistan</td>\n",
       "      <td>1997</td>\n",
       "      <td>22227415.0</td>\n",
       "      <td>Asia</td>\n",
       "      <td>41.763</td>\n",
       "      <td>635.341351</td>\n",
       "    </tr>\n",
       "    <tr>\n",
       "      <th>10</th>\n",
       "      <td>Afghanistan</td>\n",
       "      <td>2002</td>\n",
       "      <td>25268405.0</td>\n",
       "      <td>Asia</td>\n",
       "      <td>42.129</td>\n",
       "      <td>726.734055</td>\n",
       "    </tr>\n",
       "  </tbody>\n",
       "</table>\n",
       "</div>"
      ],
      "text/plain": [
       "        country  year         pop continent  lifeExp   gdpPercap\n",
       "0   Afghanistan  1952   8425333.0      Asia   28.801  779.445314\n",
       "1   Afghanistan  1957   9240934.0      Asia   30.332  820.853030\n",
       "2   Afghanistan  1962  10267083.0      Asia   31.997  853.100710\n",
       "3   Afghanistan  1967  11537966.0      Asia   34.020  836.197138\n",
       "4   Afghanistan  1972  13079460.0      Asia   36.088  739.981106\n",
       "5   Afghanistan  1977  14880372.0      Asia   38.438  786.113360\n",
       "6   Afghanistan  1982  12881816.0      Asia   39.854  978.011439\n",
       "7   Afghanistan  1987  13867957.0      Asia   40.822  852.395945\n",
       "8   Afghanistan  1992  16317921.0      Asia   41.674  649.341395\n",
       "9   Afghanistan  1997  22227415.0      Asia   41.763  635.341351\n",
       "10  Afghanistan  2002  25268405.0      Asia   42.129  726.734055"
      ]
     },
     "execution_count": 83,
     "metadata": {},
     "output_type": "execute_result"
    }
   ],
   "source": [
    "data.loc[0:10]"
   ]
  },
  {
   "cell_type": "code",
   "execution_count": 84,
   "metadata": {},
   "outputs": [
    {
     "data": {
      "text/plain": [
       "14880372.0"
      ]
     },
     "execution_count": 84,
     "metadata": {},
     "output_type": "execute_result"
    }
   ],
   "source": [
    "data.loc[5,'pop']"
   ]
  },
  {
   "cell_type": "code",
   "execution_count": 85,
   "metadata": {},
   "outputs": [],
   "source": [
    "data_by_country = data.set_index('country')"
   ]
  },
  {
   "cell_type": "code",
   "execution_count": 86,
   "metadata": {},
   "outputs": [
    {
     "data": {
      "text/html": [
       "<div>\n",
       "<style scoped>\n",
       "    .dataframe tbody tr th:only-of-type {\n",
       "        vertical-align: middle;\n",
       "    }\n",
       "\n",
       "    .dataframe tbody tr th {\n",
       "        vertical-align: top;\n",
       "    }\n",
       "\n",
       "    .dataframe thead th {\n",
       "        text-align: right;\n",
       "    }\n",
       "</style>\n",
       "<table border=\"1\" class=\"dataframe\">\n",
       "  <thead>\n",
       "    <tr style=\"text-align: right;\">\n",
       "      <th></th>\n",
       "      <th>year</th>\n",
       "      <th>pop</th>\n",
       "      <th>continent</th>\n",
       "      <th>lifeExp</th>\n",
       "      <th>gdpPercap</th>\n",
       "    </tr>\n",
       "    <tr>\n",
       "      <th>country</th>\n",
       "      <th></th>\n",
       "      <th></th>\n",
       "      <th></th>\n",
       "      <th></th>\n",
       "      <th></th>\n",
       "    </tr>\n",
       "  </thead>\n",
       "  <tbody>\n",
       "    <tr>\n",
       "      <th>Afghanistan</th>\n",
       "      <td>1952</td>\n",
       "      <td>8425333.0</td>\n",
       "      <td>Asia</td>\n",
       "      <td>28.801</td>\n",
       "      <td>779.445314</td>\n",
       "    </tr>\n",
       "    <tr>\n",
       "      <th>Afghanistan</th>\n",
       "      <td>1957</td>\n",
       "      <td>9240934.0</td>\n",
       "      <td>Asia</td>\n",
       "      <td>30.332</td>\n",
       "      <td>820.853030</td>\n",
       "    </tr>\n",
       "    <tr>\n",
       "      <th>Afghanistan</th>\n",
       "      <td>1962</td>\n",
       "      <td>10267083.0</td>\n",
       "      <td>Asia</td>\n",
       "      <td>31.997</td>\n",
       "      <td>853.100710</td>\n",
       "    </tr>\n",
       "    <tr>\n",
       "      <th>Afghanistan</th>\n",
       "      <td>1967</td>\n",
       "      <td>11537966.0</td>\n",
       "      <td>Asia</td>\n",
       "      <td>34.020</td>\n",
       "      <td>836.197138</td>\n",
       "    </tr>\n",
       "    <tr>\n",
       "      <th>Afghanistan</th>\n",
       "      <td>1972</td>\n",
       "      <td>13079460.0</td>\n",
       "      <td>Asia</td>\n",
       "      <td>36.088</td>\n",
       "      <td>739.981106</td>\n",
       "    </tr>\n",
       "  </tbody>\n",
       "</table>\n",
       "</div>"
      ],
      "text/plain": [
       "             year         pop continent  lifeExp   gdpPercap\n",
       "country                                                     \n",
       "Afghanistan  1952   8425333.0      Asia   28.801  779.445314\n",
       "Afghanistan  1957   9240934.0      Asia   30.332  820.853030\n",
       "Afghanistan  1962  10267083.0      Asia   31.997  853.100710\n",
       "Afghanistan  1967  11537966.0      Asia   34.020  836.197138\n",
       "Afghanistan  1972  13079460.0      Asia   36.088  739.981106"
      ]
     },
     "execution_count": 86,
     "metadata": {},
     "output_type": "execute_result"
    }
   ],
   "source": [
    "data_by_country.head()"
   ]
  },
  {
   "cell_type": "code",
   "execution_count": 87,
   "metadata": {},
   "outputs": [
    {
     "data": {
      "text/plain": [
       "country\n",
       "Afghanistan     8425333.0\n",
       "Afghanistan     9240934.0\n",
       "Afghanistan    10267083.0\n",
       "Afghanistan    11537966.0\n",
       "Afghanistan    13079460.0\n",
       "                  ...    \n",
       "Zimbabwe        9216418.0\n",
       "Zimbabwe       10704340.0\n",
       "Zimbabwe       11404948.0\n",
       "Zimbabwe       11926563.0\n",
       "Zimbabwe       12311143.0\n",
       "Name: pop, Length: 1704, dtype: float64"
      ]
     },
     "execution_count": 87,
     "metadata": {},
     "output_type": "execute_result"
    }
   ],
   "source": [
    "data_by_country['pop']"
   ]
  },
  {
   "cell_type": "code",
   "execution_count": 89,
   "metadata": {},
   "outputs": [
    {
     "data": {
      "text/html": [
       "<div>\n",
       "<style scoped>\n",
       "    .dataframe tbody tr th:only-of-type {\n",
       "        vertical-align: middle;\n",
       "    }\n",
       "\n",
       "    .dataframe tbody tr th {\n",
       "        vertical-align: top;\n",
       "    }\n",
       "\n",
       "    .dataframe thead th {\n",
       "        text-align: right;\n",
       "    }\n",
       "</style>\n",
       "<table border=\"1\" class=\"dataframe\">\n",
       "  <thead>\n",
       "    <tr style=\"text-align: right;\">\n",
       "      <th></th>\n",
       "      <th>year</th>\n",
       "      <th>pop</th>\n",
       "      <th>continent</th>\n",
       "      <th>lifeExp</th>\n",
       "      <th>gdpPercap</th>\n",
       "    </tr>\n",
       "    <tr>\n",
       "      <th>country</th>\n",
       "      <th></th>\n",
       "      <th></th>\n",
       "      <th></th>\n",
       "      <th></th>\n",
       "      <th></th>\n",
       "    </tr>\n",
       "  </thead>\n",
       "  <tbody>\n",
       "    <tr>\n",
       "      <th>Afghanistan</th>\n",
       "      <td>1952</td>\n",
       "      <td>8425333.0</td>\n",
       "      <td>Asia</td>\n",
       "      <td>28.801</td>\n",
       "      <td>779.445314</td>\n",
       "    </tr>\n",
       "    <tr>\n",
       "      <th>Afghanistan</th>\n",
       "      <td>1957</td>\n",
       "      <td>9240934.0</td>\n",
       "      <td>Asia</td>\n",
       "      <td>30.332</td>\n",
       "      <td>820.853030</td>\n",
       "    </tr>\n",
       "    <tr>\n",
       "      <th>Afghanistan</th>\n",
       "      <td>1962</td>\n",
       "      <td>10267083.0</td>\n",
       "      <td>Asia</td>\n",
       "      <td>31.997</td>\n",
       "      <td>853.100710</td>\n",
       "    </tr>\n",
       "    <tr>\n",
       "      <th>Afghanistan</th>\n",
       "      <td>1967</td>\n",
       "      <td>11537966.0</td>\n",
       "      <td>Asia</td>\n",
       "      <td>34.020</td>\n",
       "      <td>836.197138</td>\n",
       "    </tr>\n",
       "    <tr>\n",
       "      <th>Afghanistan</th>\n",
       "      <td>1972</td>\n",
       "      <td>13079460.0</td>\n",
       "      <td>Asia</td>\n",
       "      <td>36.088</td>\n",
       "      <td>739.981106</td>\n",
       "    </tr>\n",
       "    <tr>\n",
       "      <th>Afghanistan</th>\n",
       "      <td>1977</td>\n",
       "      <td>14880372.0</td>\n",
       "      <td>Asia</td>\n",
       "      <td>38.438</td>\n",
       "      <td>786.113360</td>\n",
       "    </tr>\n",
       "    <tr>\n",
       "      <th>Afghanistan</th>\n",
       "      <td>1982</td>\n",
       "      <td>12881816.0</td>\n",
       "      <td>Asia</td>\n",
       "      <td>39.854</td>\n",
       "      <td>978.011439</td>\n",
       "    </tr>\n",
       "    <tr>\n",
       "      <th>Afghanistan</th>\n",
       "      <td>1987</td>\n",
       "      <td>13867957.0</td>\n",
       "      <td>Asia</td>\n",
       "      <td>40.822</td>\n",
       "      <td>852.395945</td>\n",
       "    </tr>\n",
       "    <tr>\n",
       "      <th>Afghanistan</th>\n",
       "      <td>1992</td>\n",
       "      <td>16317921.0</td>\n",
       "      <td>Asia</td>\n",
       "      <td>41.674</td>\n",
       "      <td>649.341395</td>\n",
       "    </tr>\n",
       "    <tr>\n",
       "      <th>Afghanistan</th>\n",
       "      <td>1997</td>\n",
       "      <td>22227415.0</td>\n",
       "      <td>Asia</td>\n",
       "      <td>41.763</td>\n",
       "      <td>635.341351</td>\n",
       "    </tr>\n",
       "    <tr>\n",
       "      <th>Afghanistan</th>\n",
       "      <td>2002</td>\n",
       "      <td>25268405.0</td>\n",
       "      <td>Asia</td>\n",
       "      <td>42.129</td>\n",
       "      <td>726.734055</td>\n",
       "    </tr>\n",
       "    <tr>\n",
       "      <th>Afghanistan</th>\n",
       "      <td>2007</td>\n",
       "      <td>31889923.0</td>\n",
       "      <td>Asia</td>\n",
       "      <td>43.828</td>\n",
       "      <td>974.580338</td>\n",
       "    </tr>\n",
       "  </tbody>\n",
       "</table>\n",
       "</div>"
      ],
      "text/plain": [
       "             year         pop continent  lifeExp   gdpPercap\n",
       "country                                                     \n",
       "Afghanistan  1952   8425333.0      Asia   28.801  779.445314\n",
       "Afghanistan  1957   9240934.0      Asia   30.332  820.853030\n",
       "Afghanistan  1962  10267083.0      Asia   31.997  853.100710\n",
       "Afghanistan  1967  11537966.0      Asia   34.020  836.197138\n",
       "Afghanistan  1972  13079460.0      Asia   36.088  739.981106\n",
       "Afghanistan  1977  14880372.0      Asia   38.438  786.113360\n",
       "Afghanistan  1982  12881816.0      Asia   39.854  978.011439\n",
       "Afghanistan  1987  13867957.0      Asia   40.822  852.395945\n",
       "Afghanistan  1992  16317921.0      Asia   41.674  649.341395\n",
       "Afghanistan  1997  22227415.0      Asia   41.763  635.341351\n",
       "Afghanistan  2002  25268405.0      Asia   42.129  726.734055\n",
       "Afghanistan  2007  31889923.0      Asia   43.828  974.580338"
      ]
     },
     "execution_count": 89,
     "metadata": {},
     "output_type": "execute_result"
    }
   ],
   "source": [
    "data_by_country.loc['Afghanistan']"
   ]
  },
  {
   "cell_type": "code",
   "execution_count": 90,
   "metadata": {},
   "outputs": [
    {
     "data": {
      "text/html": [
       "<div>\n",
       "<style scoped>\n",
       "    .dataframe tbody tr th:only-of-type {\n",
       "        vertical-align: middle;\n",
       "    }\n",
       "\n",
       "    .dataframe tbody tr th {\n",
       "        vertical-align: top;\n",
       "    }\n",
       "\n",
       "    .dataframe thead th {\n",
       "        text-align: right;\n",
       "    }\n",
       "</style>\n",
       "<table border=\"1\" class=\"dataframe\">\n",
       "  <thead>\n",
       "    <tr style=\"text-align: right;\">\n",
       "      <th></th>\n",
       "      <th>year</th>\n",
       "      <th>pop</th>\n",
       "      <th>continent</th>\n",
       "      <th>lifeExp</th>\n",
       "      <th>gdpPercap</th>\n",
       "    </tr>\n",
       "    <tr>\n",
       "      <th>country</th>\n",
       "      <th></th>\n",
       "      <th></th>\n",
       "      <th></th>\n",
       "      <th></th>\n",
       "      <th></th>\n",
       "    </tr>\n",
       "  </thead>\n",
       "  <tbody>\n",
       "    <tr>\n",
       "      <th>Germany</th>\n",
       "      <td>1952</td>\n",
       "      <td>69145952.0</td>\n",
       "      <td>Europe</td>\n",
       "      <td>67.500</td>\n",
       "      <td>7144.114393</td>\n",
       "    </tr>\n",
       "    <tr>\n",
       "      <th>Germany</th>\n",
       "      <td>1957</td>\n",
       "      <td>71019069.0</td>\n",
       "      <td>Europe</td>\n",
       "      <td>69.100</td>\n",
       "      <td>10187.826650</td>\n",
       "    </tr>\n",
       "    <tr>\n",
       "      <th>Germany</th>\n",
       "      <td>1962</td>\n",
       "      <td>73739117.0</td>\n",
       "      <td>Europe</td>\n",
       "      <td>70.300</td>\n",
       "      <td>12902.462910</td>\n",
       "    </tr>\n",
       "    <tr>\n",
       "      <th>Germany</th>\n",
       "      <td>1967</td>\n",
       "      <td>76368453.0</td>\n",
       "      <td>Europe</td>\n",
       "      <td>70.800</td>\n",
       "      <td>14745.625610</td>\n",
       "    </tr>\n",
       "    <tr>\n",
       "      <th>Germany</th>\n",
       "      <td>1972</td>\n",
       "      <td>78717088.0</td>\n",
       "      <td>Europe</td>\n",
       "      <td>71.000</td>\n",
       "      <td>18016.180270</td>\n",
       "    </tr>\n",
       "    <tr>\n",
       "      <th>Germany</th>\n",
       "      <td>1977</td>\n",
       "      <td>78160773.0</td>\n",
       "      <td>Europe</td>\n",
       "      <td>72.500</td>\n",
       "      <td>20512.921230</td>\n",
       "    </tr>\n",
       "    <tr>\n",
       "      <th>Germany</th>\n",
       "      <td>1982</td>\n",
       "      <td>78335266.0</td>\n",
       "      <td>Europe</td>\n",
       "      <td>73.800</td>\n",
       "      <td>22031.532740</td>\n",
       "    </tr>\n",
       "    <tr>\n",
       "      <th>Germany</th>\n",
       "      <td>1987</td>\n",
       "      <td>77718298.0</td>\n",
       "      <td>Europe</td>\n",
       "      <td>74.847</td>\n",
       "      <td>24639.185660</td>\n",
       "    </tr>\n",
       "    <tr>\n",
       "      <th>Germany</th>\n",
       "      <td>1992</td>\n",
       "      <td>80597764.0</td>\n",
       "      <td>Europe</td>\n",
       "      <td>76.070</td>\n",
       "      <td>26505.303170</td>\n",
       "    </tr>\n",
       "    <tr>\n",
       "      <th>Germany</th>\n",
       "      <td>1997</td>\n",
       "      <td>82011073.0</td>\n",
       "      <td>Europe</td>\n",
       "      <td>77.340</td>\n",
       "      <td>27788.884160</td>\n",
       "    </tr>\n",
       "    <tr>\n",
       "      <th>Germany</th>\n",
       "      <td>2002</td>\n",
       "      <td>82350671.0</td>\n",
       "      <td>Europe</td>\n",
       "      <td>78.670</td>\n",
       "      <td>30035.801980</td>\n",
       "    </tr>\n",
       "    <tr>\n",
       "      <th>Germany</th>\n",
       "      <td>2007</td>\n",
       "      <td>82400996.0</td>\n",
       "      <td>Europe</td>\n",
       "      <td>79.406</td>\n",
       "      <td>32170.374420</td>\n",
       "    </tr>\n",
       "  </tbody>\n",
       "</table>\n",
       "</div>"
      ],
      "text/plain": [
       "         year         pop continent  lifeExp     gdpPercap\n",
       "country                                                   \n",
       "Germany  1952  69145952.0    Europe   67.500   7144.114393\n",
       "Germany  1957  71019069.0    Europe   69.100  10187.826650\n",
       "Germany  1962  73739117.0    Europe   70.300  12902.462910\n",
       "Germany  1967  76368453.0    Europe   70.800  14745.625610\n",
       "Germany  1972  78717088.0    Europe   71.000  18016.180270\n",
       "Germany  1977  78160773.0    Europe   72.500  20512.921230\n",
       "Germany  1982  78335266.0    Europe   73.800  22031.532740\n",
       "Germany  1987  77718298.0    Europe   74.847  24639.185660\n",
       "Germany  1992  80597764.0    Europe   76.070  26505.303170\n",
       "Germany  1997  82011073.0    Europe   77.340  27788.884160\n",
       "Germany  2002  82350671.0    Europe   78.670  30035.801980\n",
       "Germany  2007  82400996.0    Europe   79.406  32170.374420"
      ]
     },
     "execution_count": 90,
     "metadata": {},
     "output_type": "execute_result"
    }
   ],
   "source": [
    "data_by_country.loc['Germany']"
   ]
  },
  {
   "cell_type": "code",
   "execution_count": 91,
   "metadata": {},
   "outputs": [
    {
     "data": {
      "text/html": [
       "<div>\n",
       "<style scoped>\n",
       "    .dataframe tbody tr th:only-of-type {\n",
       "        vertical-align: middle;\n",
       "    }\n",
       "\n",
       "    .dataframe tbody tr th {\n",
       "        vertical-align: top;\n",
       "    }\n",
       "\n",
       "    .dataframe thead th {\n",
       "        text-align: right;\n",
       "    }\n",
       "</style>\n",
       "<table border=\"1\" class=\"dataframe\">\n",
       "  <thead>\n",
       "    <tr style=\"text-align: right;\">\n",
       "      <th></th>\n",
       "      <th>year</th>\n",
       "      <th>pop</th>\n",
       "      <th>continent</th>\n",
       "      <th>lifeExp</th>\n",
       "      <th>gdpPercap</th>\n",
       "    </tr>\n",
       "    <tr>\n",
       "      <th>country</th>\n",
       "      <th></th>\n",
       "      <th></th>\n",
       "      <th></th>\n",
       "      <th></th>\n",
       "      <th></th>\n",
       "    </tr>\n",
       "  </thead>\n",
       "  <tbody>\n",
       "    <tr>\n",
       "      <th>Afghanistan</th>\n",
       "      <td>1952</td>\n",
       "      <td>8425333.0</td>\n",
       "      <td>Asia</td>\n",
       "      <td>28.801</td>\n",
       "      <td>779.445314</td>\n",
       "    </tr>\n",
       "    <tr>\n",
       "      <th>Afghanistan</th>\n",
       "      <td>1957</td>\n",
       "      <td>9240934.0</td>\n",
       "      <td>Asia</td>\n",
       "      <td>30.332</td>\n",
       "      <td>820.853030</td>\n",
       "    </tr>\n",
       "    <tr>\n",
       "      <th>Afghanistan</th>\n",
       "      <td>1962</td>\n",
       "      <td>10267083.0</td>\n",
       "      <td>Asia</td>\n",
       "      <td>31.997</td>\n",
       "      <td>853.100710</td>\n",
       "    </tr>\n",
       "    <tr>\n",
       "      <th>Afghanistan</th>\n",
       "      <td>1967</td>\n",
       "      <td>11537966.0</td>\n",
       "      <td>Asia</td>\n",
       "      <td>34.020</td>\n",
       "      <td>836.197138</td>\n",
       "    </tr>\n",
       "    <tr>\n",
       "      <th>Afghanistan</th>\n",
       "      <td>1972</td>\n",
       "      <td>13079460.0</td>\n",
       "      <td>Asia</td>\n",
       "      <td>36.088</td>\n",
       "      <td>739.981106</td>\n",
       "    </tr>\n",
       "    <tr>\n",
       "      <th>Afghanistan</th>\n",
       "      <td>1977</td>\n",
       "      <td>14880372.0</td>\n",
       "      <td>Asia</td>\n",
       "      <td>38.438</td>\n",
       "      <td>786.113360</td>\n",
       "    </tr>\n",
       "    <tr>\n",
       "      <th>Afghanistan</th>\n",
       "      <td>1982</td>\n",
       "      <td>12881816.0</td>\n",
       "      <td>Asia</td>\n",
       "      <td>39.854</td>\n",
       "      <td>978.011439</td>\n",
       "    </tr>\n",
       "    <tr>\n",
       "      <th>Afghanistan</th>\n",
       "      <td>1987</td>\n",
       "      <td>13867957.0</td>\n",
       "      <td>Asia</td>\n",
       "      <td>40.822</td>\n",
       "      <td>852.395945</td>\n",
       "    </tr>\n",
       "    <tr>\n",
       "      <th>Afghanistan</th>\n",
       "      <td>1992</td>\n",
       "      <td>16317921.0</td>\n",
       "      <td>Asia</td>\n",
       "      <td>41.674</td>\n",
       "      <td>649.341395</td>\n",
       "    </tr>\n",
       "    <tr>\n",
       "      <th>Afghanistan</th>\n",
       "      <td>1997</td>\n",
       "      <td>22227415.0</td>\n",
       "      <td>Asia</td>\n",
       "      <td>41.763</td>\n",
       "      <td>635.341351</td>\n",
       "    </tr>\n",
       "    <tr>\n",
       "      <th>Afghanistan</th>\n",
       "      <td>2002</td>\n",
       "      <td>25268405.0</td>\n",
       "      <td>Asia</td>\n",
       "      <td>42.129</td>\n",
       "      <td>726.734055</td>\n",
       "    </tr>\n",
       "    <tr>\n",
       "      <th>Afghanistan</th>\n",
       "      <td>2007</td>\n",
       "      <td>31889923.0</td>\n",
       "      <td>Asia</td>\n",
       "      <td>43.828</td>\n",
       "      <td>974.580338</td>\n",
       "    </tr>\n",
       "    <tr>\n",
       "      <th>Germany</th>\n",
       "      <td>1952</td>\n",
       "      <td>69145952.0</td>\n",
       "      <td>Europe</td>\n",
       "      <td>67.500</td>\n",
       "      <td>7144.114393</td>\n",
       "    </tr>\n",
       "    <tr>\n",
       "      <th>Germany</th>\n",
       "      <td>1957</td>\n",
       "      <td>71019069.0</td>\n",
       "      <td>Europe</td>\n",
       "      <td>69.100</td>\n",
       "      <td>10187.826650</td>\n",
       "    </tr>\n",
       "    <tr>\n",
       "      <th>Germany</th>\n",
       "      <td>1962</td>\n",
       "      <td>73739117.0</td>\n",
       "      <td>Europe</td>\n",
       "      <td>70.300</td>\n",
       "      <td>12902.462910</td>\n",
       "    </tr>\n",
       "    <tr>\n",
       "      <th>Germany</th>\n",
       "      <td>1967</td>\n",
       "      <td>76368453.0</td>\n",
       "      <td>Europe</td>\n",
       "      <td>70.800</td>\n",
       "      <td>14745.625610</td>\n",
       "    </tr>\n",
       "    <tr>\n",
       "      <th>Germany</th>\n",
       "      <td>1972</td>\n",
       "      <td>78717088.0</td>\n",
       "      <td>Europe</td>\n",
       "      <td>71.000</td>\n",
       "      <td>18016.180270</td>\n",
       "    </tr>\n",
       "    <tr>\n",
       "      <th>Germany</th>\n",
       "      <td>1977</td>\n",
       "      <td>78160773.0</td>\n",
       "      <td>Europe</td>\n",
       "      <td>72.500</td>\n",
       "      <td>20512.921230</td>\n",
       "    </tr>\n",
       "    <tr>\n",
       "      <th>Germany</th>\n",
       "      <td>1982</td>\n",
       "      <td>78335266.0</td>\n",
       "      <td>Europe</td>\n",
       "      <td>73.800</td>\n",
       "      <td>22031.532740</td>\n",
       "    </tr>\n",
       "    <tr>\n",
       "      <th>Germany</th>\n",
       "      <td>1987</td>\n",
       "      <td>77718298.0</td>\n",
       "      <td>Europe</td>\n",
       "      <td>74.847</td>\n",
       "      <td>24639.185660</td>\n",
       "    </tr>\n",
       "    <tr>\n",
       "      <th>Germany</th>\n",
       "      <td>1992</td>\n",
       "      <td>80597764.0</td>\n",
       "      <td>Europe</td>\n",
       "      <td>76.070</td>\n",
       "      <td>26505.303170</td>\n",
       "    </tr>\n",
       "    <tr>\n",
       "      <th>Germany</th>\n",
       "      <td>1997</td>\n",
       "      <td>82011073.0</td>\n",
       "      <td>Europe</td>\n",
       "      <td>77.340</td>\n",
       "      <td>27788.884160</td>\n",
       "    </tr>\n",
       "    <tr>\n",
       "      <th>Germany</th>\n",
       "      <td>2002</td>\n",
       "      <td>82350671.0</td>\n",
       "      <td>Europe</td>\n",
       "      <td>78.670</td>\n",
       "      <td>30035.801980</td>\n",
       "    </tr>\n",
       "    <tr>\n",
       "      <th>Germany</th>\n",
       "      <td>2007</td>\n",
       "      <td>82400996.0</td>\n",
       "      <td>Europe</td>\n",
       "      <td>79.406</td>\n",
       "      <td>32170.374420</td>\n",
       "    </tr>\n",
       "    <tr>\n",
       "      <th>Brazil</th>\n",
       "      <td>1952</td>\n",
       "      <td>56602560.0</td>\n",
       "      <td>Americas</td>\n",
       "      <td>50.917</td>\n",
       "      <td>2108.944355</td>\n",
       "    </tr>\n",
       "    <tr>\n",
       "      <th>Brazil</th>\n",
       "      <td>1957</td>\n",
       "      <td>65551171.0</td>\n",
       "      <td>Americas</td>\n",
       "      <td>53.285</td>\n",
       "      <td>2487.365989</td>\n",
       "    </tr>\n",
       "    <tr>\n",
       "      <th>Brazil</th>\n",
       "      <td>1962</td>\n",
       "      <td>76039390.0</td>\n",
       "      <td>Americas</td>\n",
       "      <td>55.665</td>\n",
       "      <td>3336.585802</td>\n",
       "    </tr>\n",
       "    <tr>\n",
       "      <th>Brazil</th>\n",
       "      <td>1967</td>\n",
       "      <td>88049823.0</td>\n",
       "      <td>Americas</td>\n",
       "      <td>57.632</td>\n",
       "      <td>3429.864357</td>\n",
       "    </tr>\n",
       "    <tr>\n",
       "      <th>Brazil</th>\n",
       "      <td>1972</td>\n",
       "      <td>100840058.0</td>\n",
       "      <td>Americas</td>\n",
       "      <td>59.504</td>\n",
       "      <td>4985.711467</td>\n",
       "    </tr>\n",
       "    <tr>\n",
       "      <th>Brazil</th>\n",
       "      <td>1977</td>\n",
       "      <td>114313951.0</td>\n",
       "      <td>Americas</td>\n",
       "      <td>61.489</td>\n",
       "      <td>6660.118654</td>\n",
       "    </tr>\n",
       "    <tr>\n",
       "      <th>Brazil</th>\n",
       "      <td>1982</td>\n",
       "      <td>128962939.0</td>\n",
       "      <td>Americas</td>\n",
       "      <td>63.336</td>\n",
       "      <td>7030.835878</td>\n",
       "    </tr>\n",
       "    <tr>\n",
       "      <th>Brazil</th>\n",
       "      <td>1987</td>\n",
       "      <td>142938076.0</td>\n",
       "      <td>Americas</td>\n",
       "      <td>65.205</td>\n",
       "      <td>7807.095818</td>\n",
       "    </tr>\n",
       "    <tr>\n",
       "      <th>Brazil</th>\n",
       "      <td>1992</td>\n",
       "      <td>155975974.0</td>\n",
       "      <td>Americas</td>\n",
       "      <td>67.057</td>\n",
       "      <td>6950.283021</td>\n",
       "    </tr>\n",
       "    <tr>\n",
       "      <th>Brazil</th>\n",
       "      <td>1997</td>\n",
       "      <td>168546719.0</td>\n",
       "      <td>Americas</td>\n",
       "      <td>69.388</td>\n",
       "      <td>7957.980824</td>\n",
       "    </tr>\n",
       "    <tr>\n",
       "      <th>Brazil</th>\n",
       "      <td>2002</td>\n",
       "      <td>179914212.0</td>\n",
       "      <td>Americas</td>\n",
       "      <td>71.006</td>\n",
       "      <td>8131.212843</td>\n",
       "    </tr>\n",
       "    <tr>\n",
       "      <th>Brazil</th>\n",
       "      <td>2007</td>\n",
       "      <td>190010647.0</td>\n",
       "      <td>Americas</td>\n",
       "      <td>72.390</td>\n",
       "      <td>9065.800825</td>\n",
       "    </tr>\n",
       "  </tbody>\n",
       "</table>\n",
       "</div>"
      ],
      "text/plain": [
       "             year          pop continent  lifeExp     gdpPercap\n",
       "country                                                        \n",
       "Afghanistan  1952    8425333.0      Asia   28.801    779.445314\n",
       "Afghanistan  1957    9240934.0      Asia   30.332    820.853030\n",
       "Afghanistan  1962   10267083.0      Asia   31.997    853.100710\n",
       "Afghanistan  1967   11537966.0      Asia   34.020    836.197138\n",
       "Afghanistan  1972   13079460.0      Asia   36.088    739.981106\n",
       "Afghanistan  1977   14880372.0      Asia   38.438    786.113360\n",
       "Afghanistan  1982   12881816.0      Asia   39.854    978.011439\n",
       "Afghanistan  1987   13867957.0      Asia   40.822    852.395945\n",
       "Afghanistan  1992   16317921.0      Asia   41.674    649.341395\n",
       "Afghanistan  1997   22227415.0      Asia   41.763    635.341351\n",
       "Afghanistan  2002   25268405.0      Asia   42.129    726.734055\n",
       "Afghanistan  2007   31889923.0      Asia   43.828    974.580338\n",
       "Germany      1952   69145952.0    Europe   67.500   7144.114393\n",
       "Germany      1957   71019069.0    Europe   69.100  10187.826650\n",
       "Germany      1962   73739117.0    Europe   70.300  12902.462910\n",
       "Germany      1967   76368453.0    Europe   70.800  14745.625610\n",
       "Germany      1972   78717088.0    Europe   71.000  18016.180270\n",
       "Germany      1977   78160773.0    Europe   72.500  20512.921230\n",
       "Germany      1982   78335266.0    Europe   73.800  22031.532740\n",
       "Germany      1987   77718298.0    Europe   74.847  24639.185660\n",
       "Germany      1992   80597764.0    Europe   76.070  26505.303170\n",
       "Germany      1997   82011073.0    Europe   77.340  27788.884160\n",
       "Germany      2002   82350671.0    Europe   78.670  30035.801980\n",
       "Germany      2007   82400996.0    Europe   79.406  32170.374420\n",
       "Brazil       1952   56602560.0  Americas   50.917   2108.944355\n",
       "Brazil       1957   65551171.0  Americas   53.285   2487.365989\n",
       "Brazil       1962   76039390.0  Americas   55.665   3336.585802\n",
       "Brazil       1967   88049823.0  Americas   57.632   3429.864357\n",
       "Brazil       1972  100840058.0  Americas   59.504   4985.711467\n",
       "Brazil       1977  114313951.0  Americas   61.489   6660.118654\n",
       "Brazil       1982  128962939.0  Americas   63.336   7030.835878\n",
       "Brazil       1987  142938076.0  Americas   65.205   7807.095818\n",
       "Brazil       1992  155975974.0  Americas   67.057   6950.283021\n",
       "Brazil       1997  168546719.0  Americas   69.388   7957.980824\n",
       "Brazil       2002  179914212.0  Americas   71.006   8131.212843\n",
       "Brazil       2007  190010647.0  Americas   72.390   9065.800825"
      ]
     },
     "execution_count": 91,
     "metadata": {},
     "output_type": "execute_result"
    }
   ],
   "source": [
    "data_by_country.loc[['Afghanistan','Germany','Brazil']]"
   ]
  },
  {
   "cell_type": "code",
   "execution_count": 92,
   "metadata": {},
   "outputs": [
    {
     "data": {
      "text/plain": [
       "country\n",
       "Afghanistan      779.445314\n",
       "Afghanistan      820.853030\n",
       "Afghanistan      853.100710\n",
       "Afghanistan      836.197138\n",
       "Afghanistan      739.981106\n",
       "Afghanistan      786.113360\n",
       "Afghanistan      978.011439\n",
       "Afghanistan      852.395945\n",
       "Afghanistan      649.341395\n",
       "Afghanistan      635.341351\n",
       "Afghanistan      726.734055\n",
       "Afghanistan      974.580338\n",
       "Germany         7144.114393\n",
       "Germany        10187.826650\n",
       "Germany        12902.462910\n",
       "Germany        14745.625610\n",
       "Germany        18016.180270\n",
       "Germany        20512.921230\n",
       "Germany        22031.532740\n",
       "Germany        24639.185660\n",
       "Germany        26505.303170\n",
       "Germany        27788.884160\n",
       "Germany        30035.801980\n",
       "Germany        32170.374420\n",
       "Brazil          2108.944355\n",
       "Brazil          2487.365989\n",
       "Brazil          3336.585802\n",
       "Brazil          3429.864357\n",
       "Brazil          4985.711467\n",
       "Brazil          6660.118654\n",
       "Brazil          7030.835878\n",
       "Brazil          7807.095818\n",
       "Brazil          6950.283021\n",
       "Brazil          7957.980824\n",
       "Brazil          8131.212843\n",
       "Brazil          9065.800825\n",
       "Name: gdpPercap, dtype: float64"
      ]
     },
     "execution_count": 92,
     "metadata": {},
     "output_type": "execute_result"
    }
   ],
   "source": [
    "data_by_country.loc[['Afghanistan','Germany','Brazil'],'gdpPercap']"
   ]
  },
  {
   "cell_type": "code",
   "execution_count": 93,
   "metadata": {},
   "outputs": [
    {
     "data": {
      "text/html": [
       "<div>\n",
       "<style scoped>\n",
       "    .dataframe tbody tr th:only-of-type {\n",
       "        vertical-align: middle;\n",
       "    }\n",
       "\n",
       "    .dataframe tbody tr th {\n",
       "        vertical-align: top;\n",
       "    }\n",
       "\n",
       "    .dataframe thead th {\n",
       "        text-align: right;\n",
       "    }\n",
       "</style>\n",
       "<table border=\"1\" class=\"dataframe\">\n",
       "  <thead>\n",
       "    <tr style=\"text-align: right;\">\n",
       "      <th></th>\n",
       "      <th>year</th>\n",
       "      <th>pop</th>\n",
       "      <th>continent</th>\n",
       "      <th>lifeExp</th>\n",
       "      <th>gdpPercap</th>\n",
       "    </tr>\n",
       "    <tr>\n",
       "      <th>country</th>\n",
       "      <th></th>\n",
       "      <th></th>\n",
       "      <th></th>\n",
       "      <th></th>\n",
       "      <th></th>\n",
       "    </tr>\n",
       "  </thead>\n",
       "  <tbody>\n",
       "    <tr>\n",
       "      <th>Afghanistan</th>\n",
       "      <td>1952</td>\n",
       "      <td>8425333.0</td>\n",
       "      <td>Asia</td>\n",
       "      <td>28.801</td>\n",
       "      <td>779.445314</td>\n",
       "    </tr>\n",
       "    <tr>\n",
       "      <th>Afghanistan</th>\n",
       "      <td>1957</td>\n",
       "      <td>9240934.0</td>\n",
       "      <td>Asia</td>\n",
       "      <td>30.332</td>\n",
       "      <td>820.853030</td>\n",
       "    </tr>\n",
       "    <tr>\n",
       "      <th>Afghanistan</th>\n",
       "      <td>1962</td>\n",
       "      <td>10267083.0</td>\n",
       "      <td>Asia</td>\n",
       "      <td>31.997</td>\n",
       "      <td>853.100710</td>\n",
       "    </tr>\n",
       "    <tr>\n",
       "      <th>Afghanistan</th>\n",
       "      <td>1967</td>\n",
       "      <td>11537966.0</td>\n",
       "      <td>Asia</td>\n",
       "      <td>34.020</td>\n",
       "      <td>836.197138</td>\n",
       "    </tr>\n",
       "    <tr>\n",
       "      <th>Afghanistan</th>\n",
       "      <td>1972</td>\n",
       "      <td>13079460.0</td>\n",
       "      <td>Asia</td>\n",
       "      <td>36.088</td>\n",
       "      <td>739.981106</td>\n",
       "    </tr>\n",
       "  </tbody>\n",
       "</table>\n",
       "</div>"
      ],
      "text/plain": [
       "             year         pop continent  lifeExp   gdpPercap\n",
       "country                                                     \n",
       "Afghanistan  1952   8425333.0      Asia   28.801  779.445314\n",
       "Afghanistan  1957   9240934.0      Asia   30.332  820.853030\n",
       "Afghanistan  1962  10267083.0      Asia   31.997  853.100710\n",
       "Afghanistan  1967  11537966.0      Asia   34.020  836.197138\n",
       "Afghanistan  1972  13079460.0      Asia   36.088  739.981106"
      ]
     },
     "execution_count": 93,
     "metadata": {},
     "output_type": "execute_result"
    }
   ],
   "source": [
    "data_by_country.head()"
   ]
  },
  {
   "cell_type": "code",
   "execution_count": 94,
   "metadata": {},
   "outputs": [
    {
     "ename": "SyntaxError",
     "evalue": "can't assign to literal (<ipython-input-94-634e5ad1eebb>, line 1)",
     "output_type": "error",
     "traceback": [
      "\u001b[0;36m  File \u001b[0;32m\"<ipython-input-94-634e5ad1eebb>\"\u001b[0;36m, line \u001b[0;32m1\u001b[0m\n\u001b[0;31m    3=1\u001b[0m\n\u001b[0m       ^\u001b[0m\n\u001b[0;31mSyntaxError\u001b[0m\u001b[0;31m:\u001b[0m can't assign to literal\n"
     ]
    }
   ],
   "source": [
    "3=1"
   ]
  },
  {
   "cell_type": "code",
   "execution_count": 95,
   "metadata": {},
   "outputs": [
    {
     "data": {
      "text/plain": [
       "False"
      ]
     },
     "execution_count": 95,
     "metadata": {},
     "output_type": "execute_result"
    }
   ],
   "source": [
    "3==1"
   ]
  },
  {
   "cell_type": "code",
   "execution_count": 96,
   "metadata": {},
   "outputs": [
    {
     "data": {
      "text/plain": [
       "country\n",
       "Afghanistan     True\n",
       "Afghanistan     True\n",
       "Afghanistan     True\n",
       "Afghanistan     True\n",
       "Afghanistan     True\n",
       "               ...  \n",
       "Zimbabwe       False\n",
       "Zimbabwe       False\n",
       "Zimbabwe       False\n",
       "Zimbabwe       False\n",
       "Zimbabwe       False\n",
       "Name: continent, Length: 1704, dtype: bool"
      ]
     },
     "execution_count": 96,
     "metadata": {},
     "output_type": "execute_result"
    }
   ],
   "source": [
    "data_by_country['continent']=='Asia'"
   ]
  },
  {
   "cell_type": "code",
   "execution_count": 97,
   "metadata": {},
   "outputs": [
    {
     "data": {
      "text/html": [
       "<div>\n",
       "<style scoped>\n",
       "    .dataframe tbody tr th:only-of-type {\n",
       "        vertical-align: middle;\n",
       "    }\n",
       "\n",
       "    .dataframe tbody tr th {\n",
       "        vertical-align: top;\n",
       "    }\n",
       "\n",
       "    .dataframe thead th {\n",
       "        text-align: right;\n",
       "    }\n",
       "</style>\n",
       "<table border=\"1\" class=\"dataframe\">\n",
       "  <thead>\n",
       "    <tr style=\"text-align: right;\">\n",
       "      <th></th>\n",
       "      <th>year</th>\n",
       "      <th>pop</th>\n",
       "      <th>continent</th>\n",
       "      <th>lifeExp</th>\n",
       "      <th>gdpPercap</th>\n",
       "    </tr>\n",
       "    <tr>\n",
       "      <th>country</th>\n",
       "      <th></th>\n",
       "      <th></th>\n",
       "      <th></th>\n",
       "      <th></th>\n",
       "      <th></th>\n",
       "    </tr>\n",
       "  </thead>\n",
       "  <tbody>\n",
       "    <tr>\n",
       "      <th>Afghanistan</th>\n",
       "      <td>1952</td>\n",
       "      <td>8425333.0</td>\n",
       "      <td>Asia</td>\n",
       "      <td>28.801</td>\n",
       "      <td>779.445314</td>\n",
       "    </tr>\n",
       "    <tr>\n",
       "      <th>Afghanistan</th>\n",
       "      <td>1957</td>\n",
       "      <td>9240934.0</td>\n",
       "      <td>Asia</td>\n",
       "      <td>30.332</td>\n",
       "      <td>820.853030</td>\n",
       "    </tr>\n",
       "    <tr>\n",
       "      <th>Afghanistan</th>\n",
       "      <td>1962</td>\n",
       "      <td>10267083.0</td>\n",
       "      <td>Asia</td>\n",
       "      <td>31.997</td>\n",
       "      <td>853.100710</td>\n",
       "    </tr>\n",
       "    <tr>\n",
       "      <th>Afghanistan</th>\n",
       "      <td>1967</td>\n",
       "      <td>11537966.0</td>\n",
       "      <td>Asia</td>\n",
       "      <td>34.020</td>\n",
       "      <td>836.197138</td>\n",
       "    </tr>\n",
       "    <tr>\n",
       "      <th>Afghanistan</th>\n",
       "      <td>1972</td>\n",
       "      <td>13079460.0</td>\n",
       "      <td>Asia</td>\n",
       "      <td>36.088</td>\n",
       "      <td>739.981106</td>\n",
       "    </tr>\n",
       "    <tr>\n",
       "      <th>...</th>\n",
       "      <td>...</td>\n",
       "      <td>...</td>\n",
       "      <td>...</td>\n",
       "      <td>...</td>\n",
       "      <td>...</td>\n",
       "    </tr>\n",
       "    <tr>\n",
       "      <th>Yemen Rep.</th>\n",
       "      <td>1987</td>\n",
       "      <td>11219340.0</td>\n",
       "      <td>Asia</td>\n",
       "      <td>52.922</td>\n",
       "      <td>1971.741538</td>\n",
       "    </tr>\n",
       "    <tr>\n",
       "      <th>Yemen Rep.</th>\n",
       "      <td>1992</td>\n",
       "      <td>13367997.0</td>\n",
       "      <td>Asia</td>\n",
       "      <td>55.599</td>\n",
       "      <td>1879.496673</td>\n",
       "    </tr>\n",
       "    <tr>\n",
       "      <th>Yemen Rep.</th>\n",
       "      <td>1997</td>\n",
       "      <td>15826497.0</td>\n",
       "      <td>Asia</td>\n",
       "      <td>58.020</td>\n",
       "      <td>2117.484526</td>\n",
       "    </tr>\n",
       "    <tr>\n",
       "      <th>Yemen Rep.</th>\n",
       "      <td>2002</td>\n",
       "      <td>18701257.0</td>\n",
       "      <td>Asia</td>\n",
       "      <td>60.308</td>\n",
       "      <td>2234.820827</td>\n",
       "    </tr>\n",
       "    <tr>\n",
       "      <th>Yemen Rep.</th>\n",
       "      <td>2007</td>\n",
       "      <td>22211743.0</td>\n",
       "      <td>Asia</td>\n",
       "      <td>62.698</td>\n",
       "      <td>2280.769906</td>\n",
       "    </tr>\n",
       "  </tbody>\n",
       "</table>\n",
       "<p>396 rows × 5 columns</p>\n",
       "</div>"
      ],
      "text/plain": [
       "             year         pop continent  lifeExp    gdpPercap\n",
       "country                                                      \n",
       "Afghanistan  1952   8425333.0      Asia   28.801   779.445314\n",
       "Afghanistan  1957   9240934.0      Asia   30.332   820.853030\n",
       "Afghanistan  1962  10267083.0      Asia   31.997   853.100710\n",
       "Afghanistan  1967  11537966.0      Asia   34.020   836.197138\n",
       "Afghanistan  1972  13079460.0      Asia   36.088   739.981106\n",
       "...           ...         ...       ...      ...          ...\n",
       "Yemen Rep.   1987  11219340.0      Asia   52.922  1971.741538\n",
       "Yemen Rep.   1992  13367997.0      Asia   55.599  1879.496673\n",
       "Yemen Rep.   1997  15826497.0      Asia   58.020  2117.484526\n",
       "Yemen Rep.   2002  18701257.0      Asia   60.308  2234.820827\n",
       "Yemen Rep.   2007  22211743.0      Asia   62.698  2280.769906\n",
       "\n",
       "[396 rows x 5 columns]"
      ]
     },
     "execution_count": 97,
     "metadata": {},
     "output_type": "execute_result"
    }
   ],
   "source": [
    "data_by_country[data_by_country['continent']=='Asia']"
   ]
  },
  {
   "cell_type": "code",
   "execution_count": 98,
   "metadata": {},
   "outputs": [
    {
     "data": {
      "text/html": [
       "<div>\n",
       "<style scoped>\n",
       "    .dataframe tbody tr th:only-of-type {\n",
       "        vertical-align: middle;\n",
       "    }\n",
       "\n",
       "    .dataframe tbody tr th {\n",
       "        vertical-align: top;\n",
       "    }\n",
       "\n",
       "    .dataframe thead th {\n",
       "        text-align: right;\n",
       "    }\n",
       "</style>\n",
       "<table border=\"1\" class=\"dataframe\">\n",
       "  <thead>\n",
       "    <tr style=\"text-align: right;\">\n",
       "      <th></th>\n",
       "      <th>year</th>\n",
       "      <th>pop</th>\n",
       "      <th>continent</th>\n",
       "      <th>lifeExp</th>\n",
       "      <th>gdpPercap</th>\n",
       "    </tr>\n",
       "    <tr>\n",
       "      <th>country</th>\n",
       "      <th></th>\n",
       "      <th></th>\n",
       "      <th></th>\n",
       "      <th></th>\n",
       "      <th></th>\n",
       "    </tr>\n",
       "  </thead>\n",
       "  <tbody>\n",
       "    <tr>\n",
       "      <th>Afghanistan</th>\n",
       "      <td>2002</td>\n",
       "      <td>25268405.0</td>\n",
       "      <td>Asia</td>\n",
       "      <td>42.129</td>\n",
       "      <td>726.734055</td>\n",
       "    </tr>\n",
       "    <tr>\n",
       "      <th>Albania</th>\n",
       "      <td>2002</td>\n",
       "      <td>3508512.0</td>\n",
       "      <td>Europe</td>\n",
       "      <td>75.651</td>\n",
       "      <td>4604.211737</td>\n",
       "    </tr>\n",
       "    <tr>\n",
       "      <th>Algeria</th>\n",
       "      <td>2002</td>\n",
       "      <td>31287142.0</td>\n",
       "      <td>Africa</td>\n",
       "      <td>70.994</td>\n",
       "      <td>5288.040382</td>\n",
       "    </tr>\n",
       "    <tr>\n",
       "      <th>Angola</th>\n",
       "      <td>2002</td>\n",
       "      <td>10866106.0</td>\n",
       "      <td>Africa</td>\n",
       "      <td>41.003</td>\n",
       "      <td>2773.287312</td>\n",
       "    </tr>\n",
       "    <tr>\n",
       "      <th>Argentina</th>\n",
       "      <td>2002</td>\n",
       "      <td>38331121.0</td>\n",
       "      <td>Americas</td>\n",
       "      <td>74.340</td>\n",
       "      <td>8797.640716</td>\n",
       "    </tr>\n",
       "    <tr>\n",
       "      <th>...</th>\n",
       "      <td>...</td>\n",
       "      <td>...</td>\n",
       "      <td>...</td>\n",
       "      <td>...</td>\n",
       "      <td>...</td>\n",
       "    </tr>\n",
       "    <tr>\n",
       "      <th>Vietnam</th>\n",
       "      <td>2002</td>\n",
       "      <td>80908147.0</td>\n",
       "      <td>Asia</td>\n",
       "      <td>73.017</td>\n",
       "      <td>1764.456677</td>\n",
       "    </tr>\n",
       "    <tr>\n",
       "      <th>West Bank and Gaza</th>\n",
       "      <td>2002</td>\n",
       "      <td>3389578.0</td>\n",
       "      <td>Asia</td>\n",
       "      <td>72.370</td>\n",
       "      <td>4515.487575</td>\n",
       "    </tr>\n",
       "    <tr>\n",
       "      <th>Yemen Rep.</th>\n",
       "      <td>2002</td>\n",
       "      <td>18701257.0</td>\n",
       "      <td>Asia</td>\n",
       "      <td>60.308</td>\n",
       "      <td>2234.820827</td>\n",
       "    </tr>\n",
       "    <tr>\n",
       "      <th>Zambia</th>\n",
       "      <td>2002</td>\n",
       "      <td>10595811.0</td>\n",
       "      <td>Africa</td>\n",
       "      <td>39.193</td>\n",
       "      <td>1071.613938</td>\n",
       "    </tr>\n",
       "    <tr>\n",
       "      <th>Zimbabwe</th>\n",
       "      <td>2002</td>\n",
       "      <td>11926563.0</td>\n",
       "      <td>Africa</td>\n",
       "      <td>39.989</td>\n",
       "      <td>672.038623</td>\n",
       "    </tr>\n",
       "  </tbody>\n",
       "</table>\n",
       "<p>142 rows × 5 columns</p>\n",
       "</div>"
      ],
      "text/plain": [
       "                    year         pop continent  lifeExp    gdpPercap\n",
       "country                                                             \n",
       "Afghanistan         2002  25268405.0      Asia   42.129   726.734055\n",
       "Albania             2002   3508512.0    Europe   75.651  4604.211737\n",
       "Algeria             2002  31287142.0    Africa   70.994  5288.040382\n",
       "Angola              2002  10866106.0    Africa   41.003  2773.287312\n",
       "Argentina           2002  38331121.0  Americas   74.340  8797.640716\n",
       "...                  ...         ...       ...      ...          ...\n",
       "Vietnam             2002  80908147.0      Asia   73.017  1764.456677\n",
       "West Bank and Gaza  2002   3389578.0      Asia   72.370  4515.487575\n",
       "Yemen Rep.          2002  18701257.0      Asia   60.308  2234.820827\n",
       "Zambia              2002  10595811.0    Africa   39.193  1071.613938\n",
       "Zimbabwe            2002  11926563.0    Africa   39.989   672.038623\n",
       "\n",
       "[142 rows x 5 columns]"
      ]
     },
     "execution_count": 98,
     "metadata": {},
     "output_type": "execute_result"
    }
   ],
   "source": [
    "data_by_country[data_by_country['year']==2002]"
   ]
  },
  {
   "cell_type": "code",
   "execution_count": 101,
   "metadata": {},
   "outputs": [
    {
     "data": {
      "text/html": [
       "<div>\n",
       "<style scoped>\n",
       "    .dataframe tbody tr th:only-of-type {\n",
       "        vertical-align: middle;\n",
       "    }\n",
       "\n",
       "    .dataframe tbody tr th {\n",
       "        vertical-align: top;\n",
       "    }\n",
       "\n",
       "    .dataframe thead th {\n",
       "        text-align: right;\n",
       "    }\n",
       "</style>\n",
       "<table border=\"1\" class=\"dataframe\">\n",
       "  <thead>\n",
       "    <tr style=\"text-align: right;\">\n",
       "      <th></th>\n",
       "      <th>year</th>\n",
       "      <th>pop</th>\n",
       "      <th>continent</th>\n",
       "      <th>lifeExp</th>\n",
       "      <th>gdpPercap</th>\n",
       "    </tr>\n",
       "    <tr>\n",
       "      <th>country</th>\n",
       "      <th></th>\n",
       "      <th></th>\n",
       "      <th></th>\n",
       "      <th></th>\n",
       "      <th></th>\n",
       "    </tr>\n",
       "  </thead>\n",
       "  <tbody>\n",
       "    <tr>\n",
       "      <th>Afghanistan</th>\n",
       "      <td>1952</td>\n",
       "      <td>8425333.0</td>\n",
       "      <td>Asia</td>\n",
       "      <td>28.801</td>\n",
       "      <td>779.445314</td>\n",
       "    </tr>\n",
       "    <tr>\n",
       "      <th>Afghanistan</th>\n",
       "      <td>1957</td>\n",
       "      <td>9240934.0</td>\n",
       "      <td>Asia</td>\n",
       "      <td>30.332</td>\n",
       "      <td>820.853030</td>\n",
       "    </tr>\n",
       "    <tr>\n",
       "      <th>Afghanistan</th>\n",
       "      <td>1962</td>\n",
       "      <td>10267083.0</td>\n",
       "      <td>Asia</td>\n",
       "      <td>31.997</td>\n",
       "      <td>853.100710</td>\n",
       "    </tr>\n",
       "    <tr>\n",
       "      <th>Afghanistan</th>\n",
       "      <td>1967</td>\n",
       "      <td>11537966.0</td>\n",
       "      <td>Asia</td>\n",
       "      <td>34.020</td>\n",
       "      <td>836.197138</td>\n",
       "    </tr>\n",
       "    <tr>\n",
       "      <th>Afghanistan</th>\n",
       "      <td>1972</td>\n",
       "      <td>13079460.0</td>\n",
       "      <td>Asia</td>\n",
       "      <td>36.088</td>\n",
       "      <td>739.981106</td>\n",
       "    </tr>\n",
       "    <tr>\n",
       "      <th>...</th>\n",
       "      <td>...</td>\n",
       "      <td>...</td>\n",
       "      <td>...</td>\n",
       "      <td>...</td>\n",
       "      <td>...</td>\n",
       "    </tr>\n",
       "    <tr>\n",
       "      <th>Yemen Rep.</th>\n",
       "      <td>1987</td>\n",
       "      <td>11219340.0</td>\n",
       "      <td>Asia</td>\n",
       "      <td>52.922</td>\n",
       "      <td>1971.741538</td>\n",
       "    </tr>\n",
       "    <tr>\n",
       "      <th>Yemen Rep.</th>\n",
       "      <td>1992</td>\n",
       "      <td>13367997.0</td>\n",
       "      <td>Asia</td>\n",
       "      <td>55.599</td>\n",
       "      <td>1879.496673</td>\n",
       "    </tr>\n",
       "    <tr>\n",
       "      <th>Yemen Rep.</th>\n",
       "      <td>1997</td>\n",
       "      <td>15826497.0</td>\n",
       "      <td>Asia</td>\n",
       "      <td>58.020</td>\n",
       "      <td>2117.484526</td>\n",
       "    </tr>\n",
       "    <tr>\n",
       "      <th>Yemen Rep.</th>\n",
       "      <td>2002</td>\n",
       "      <td>18701257.0</td>\n",
       "      <td>Asia</td>\n",
       "      <td>60.308</td>\n",
       "      <td>2234.820827</td>\n",
       "    </tr>\n",
       "    <tr>\n",
       "      <th>Yemen Rep.</th>\n",
       "      <td>2007</td>\n",
       "      <td>22211743.0</td>\n",
       "      <td>Asia</td>\n",
       "      <td>62.698</td>\n",
       "      <td>2280.769906</td>\n",
       "    </tr>\n",
       "  </tbody>\n",
       "</table>\n",
       "<p>420 rows × 5 columns</p>\n",
       "</div>"
      ],
      "text/plain": [
       "             year         pop continent  lifeExp    gdpPercap\n",
       "country                                                      \n",
       "Afghanistan  1952   8425333.0      Asia   28.801   779.445314\n",
       "Afghanistan  1957   9240934.0      Asia   30.332   820.853030\n",
       "Afghanistan  1962  10267083.0      Asia   31.997   853.100710\n",
       "Afghanistan  1967  11537966.0      Asia   34.020   836.197138\n",
       "Afghanistan  1972  13079460.0      Asia   36.088   739.981106\n",
       "...           ...         ...       ...      ...          ...\n",
       "Yemen Rep.   1987  11219340.0      Asia   52.922  1971.741538\n",
       "Yemen Rep.   1992  13367997.0      Asia   55.599  1879.496673\n",
       "Yemen Rep.   1997  15826497.0      Asia   58.020  2117.484526\n",
       "Yemen Rep.   2002  18701257.0      Asia   60.308  2234.820827\n",
       "Yemen Rep.   2007  22211743.0      Asia   62.698  2280.769906\n",
       "\n",
       "[420 rows x 5 columns]"
      ]
     },
     "execution_count": 101,
     "metadata": {},
     "output_type": "execute_result"
    }
   ],
   "source": [
    "data_by_country[(data_by_country['continent']=='Asia') | (data_by_country['continent']=='Oceania')]"
   ]
  },
  {
   "cell_type": "code",
   "execution_count": 102,
   "metadata": {},
   "outputs": [
    {
     "data": {
      "text/html": [
       "<div>\n",
       "<style scoped>\n",
       "    .dataframe tbody tr th:only-of-type {\n",
       "        vertical-align: middle;\n",
       "    }\n",
       "\n",
       "    .dataframe tbody tr th {\n",
       "        vertical-align: top;\n",
       "    }\n",
       "\n",
       "    .dataframe thead th {\n",
       "        text-align: right;\n",
       "    }\n",
       "</style>\n",
       "<table border=\"1\" class=\"dataframe\">\n",
       "  <thead>\n",
       "    <tr style=\"text-align: right;\">\n",
       "      <th></th>\n",
       "      <th>year</th>\n",
       "      <th>pop</th>\n",
       "      <th>continent</th>\n",
       "      <th>lifeExp</th>\n",
       "      <th>gdpPercap</th>\n",
       "    </tr>\n",
       "    <tr>\n",
       "      <th>country</th>\n",
       "      <th></th>\n",
       "      <th></th>\n",
       "      <th></th>\n",
       "      <th></th>\n",
       "      <th></th>\n",
       "    </tr>\n",
       "  </thead>\n",
       "  <tbody>\n",
       "    <tr>\n",
       "      <th>Afghanistan</th>\n",
       "      <td>2002</td>\n",
       "      <td>2.526840e+07</td>\n",
       "      <td>Asia</td>\n",
       "      <td>42.129</td>\n",
       "      <td>726.734055</td>\n",
       "    </tr>\n",
       "    <tr>\n",
       "      <th>Bahrain</th>\n",
       "      <td>2002</td>\n",
       "      <td>6.563970e+05</td>\n",
       "      <td>Asia</td>\n",
       "      <td>74.795</td>\n",
       "      <td>23403.559270</td>\n",
       "    </tr>\n",
       "    <tr>\n",
       "      <th>Bangladesh</th>\n",
       "      <td>2002</td>\n",
       "      <td>1.356568e+08</td>\n",
       "      <td>Asia</td>\n",
       "      <td>62.013</td>\n",
       "      <td>1136.390430</td>\n",
       "    </tr>\n",
       "    <tr>\n",
       "      <th>Cambodia</th>\n",
       "      <td>2002</td>\n",
       "      <td>1.292671e+07</td>\n",
       "      <td>Asia</td>\n",
       "      <td>56.752</td>\n",
       "      <td>896.226015</td>\n",
       "    </tr>\n",
       "    <tr>\n",
       "      <th>China</th>\n",
       "      <td>2002</td>\n",
       "      <td>1.280400e+09</td>\n",
       "      <td>Asia</td>\n",
       "      <td>72.028</td>\n",
       "      <td>3119.280896</td>\n",
       "    </tr>\n",
       "    <tr>\n",
       "      <th>Hong Kong China</th>\n",
       "      <td>2002</td>\n",
       "      <td>6.762476e+06</td>\n",
       "      <td>Asia</td>\n",
       "      <td>81.495</td>\n",
       "      <td>30209.015160</td>\n",
       "    </tr>\n",
       "    <tr>\n",
       "      <th>India</th>\n",
       "      <td>2002</td>\n",
       "      <td>1.034173e+09</td>\n",
       "      <td>Asia</td>\n",
       "      <td>62.879</td>\n",
       "      <td>1746.769454</td>\n",
       "    </tr>\n",
       "    <tr>\n",
       "      <th>Indonesia</th>\n",
       "      <td>2002</td>\n",
       "      <td>2.110600e+08</td>\n",
       "      <td>Asia</td>\n",
       "      <td>68.588</td>\n",
       "      <td>2873.912870</td>\n",
       "    </tr>\n",
       "    <tr>\n",
       "      <th>Iran</th>\n",
       "      <td>2002</td>\n",
       "      <td>6.690783e+07</td>\n",
       "      <td>Asia</td>\n",
       "      <td>69.451</td>\n",
       "      <td>9240.761975</td>\n",
       "    </tr>\n",
       "    <tr>\n",
       "      <th>Iraq</th>\n",
       "      <td>2002</td>\n",
       "      <td>2.400182e+07</td>\n",
       "      <td>Asia</td>\n",
       "      <td>57.046</td>\n",
       "      <td>4390.717312</td>\n",
       "    </tr>\n",
       "    <tr>\n",
       "      <th>Israel</th>\n",
       "      <td>2002</td>\n",
       "      <td>6.029529e+06</td>\n",
       "      <td>Asia</td>\n",
       "      <td>79.696</td>\n",
       "      <td>21905.595140</td>\n",
       "    </tr>\n",
       "    <tr>\n",
       "      <th>Japan</th>\n",
       "      <td>2002</td>\n",
       "      <td>1.270658e+08</td>\n",
       "      <td>Asia</td>\n",
       "      <td>82.000</td>\n",
       "      <td>28604.591900</td>\n",
       "    </tr>\n",
       "    <tr>\n",
       "      <th>Jordan</th>\n",
       "      <td>2002</td>\n",
       "      <td>5.307470e+06</td>\n",
       "      <td>Asia</td>\n",
       "      <td>71.263</td>\n",
       "      <td>3844.917194</td>\n",
       "    </tr>\n",
       "    <tr>\n",
       "      <th>Korea Dem. Rep.</th>\n",
       "      <td>2002</td>\n",
       "      <td>2.221536e+07</td>\n",
       "      <td>Asia</td>\n",
       "      <td>66.662</td>\n",
       "      <td>1646.758151</td>\n",
       "    </tr>\n",
       "    <tr>\n",
       "      <th>Korea Rep.</th>\n",
       "      <td>2002</td>\n",
       "      <td>4.796915e+07</td>\n",
       "      <td>Asia</td>\n",
       "      <td>77.045</td>\n",
       "      <td>19233.988180</td>\n",
       "    </tr>\n",
       "    <tr>\n",
       "      <th>Kuwait</th>\n",
       "      <td>2002</td>\n",
       "      <td>2.111561e+06</td>\n",
       "      <td>Asia</td>\n",
       "      <td>76.904</td>\n",
       "      <td>35110.105660</td>\n",
       "    </tr>\n",
       "    <tr>\n",
       "      <th>Lebanon</th>\n",
       "      <td>2002</td>\n",
       "      <td>3.677780e+06</td>\n",
       "      <td>Asia</td>\n",
       "      <td>71.028</td>\n",
       "      <td>9313.938830</td>\n",
       "    </tr>\n",
       "    <tr>\n",
       "      <th>Malaysia</th>\n",
       "      <td>2002</td>\n",
       "      <td>2.266236e+07</td>\n",
       "      <td>Asia</td>\n",
       "      <td>73.044</td>\n",
       "      <td>10206.977940</td>\n",
       "    </tr>\n",
       "    <tr>\n",
       "      <th>Mongolia</th>\n",
       "      <td>2002</td>\n",
       "      <td>2.674234e+06</td>\n",
       "      <td>Asia</td>\n",
       "      <td>65.033</td>\n",
       "      <td>2140.739323</td>\n",
       "    </tr>\n",
       "    <tr>\n",
       "      <th>Myanmar</th>\n",
       "      <td>2002</td>\n",
       "      <td>4.559808e+07</td>\n",
       "      <td>Asia</td>\n",
       "      <td>59.908</td>\n",
       "      <td>611.000000</td>\n",
       "    </tr>\n",
       "    <tr>\n",
       "      <th>Nepal</th>\n",
       "      <td>2002</td>\n",
       "      <td>2.587392e+07</td>\n",
       "      <td>Asia</td>\n",
       "      <td>61.340</td>\n",
       "      <td>1057.206311</td>\n",
       "    </tr>\n",
       "    <tr>\n",
       "      <th>Oman</th>\n",
       "      <td>2002</td>\n",
       "      <td>2.713462e+06</td>\n",
       "      <td>Asia</td>\n",
       "      <td>74.193</td>\n",
       "      <td>19774.836870</td>\n",
       "    </tr>\n",
       "    <tr>\n",
       "      <th>Pakistan</th>\n",
       "      <td>2002</td>\n",
       "      <td>1.534035e+08</td>\n",
       "      <td>Asia</td>\n",
       "      <td>63.610</td>\n",
       "      <td>2092.712441</td>\n",
       "    </tr>\n",
       "    <tr>\n",
       "      <th>Philippines</th>\n",
       "      <td>2002</td>\n",
       "      <td>8.299509e+07</td>\n",
       "      <td>Asia</td>\n",
       "      <td>70.303</td>\n",
       "      <td>2650.921068</td>\n",
       "    </tr>\n",
       "    <tr>\n",
       "      <th>Saudi Arabia</th>\n",
       "      <td>2002</td>\n",
       "      <td>2.450153e+07</td>\n",
       "      <td>Asia</td>\n",
       "      <td>71.626</td>\n",
       "      <td>19014.541180</td>\n",
       "    </tr>\n",
       "    <tr>\n",
       "      <th>Singapore</th>\n",
       "      <td>2002</td>\n",
       "      <td>4.197776e+06</td>\n",
       "      <td>Asia</td>\n",
       "      <td>78.770</td>\n",
       "      <td>36023.105400</td>\n",
       "    </tr>\n",
       "    <tr>\n",
       "      <th>Sri Lanka</th>\n",
       "      <td>2002</td>\n",
       "      <td>1.957678e+07</td>\n",
       "      <td>Asia</td>\n",
       "      <td>70.815</td>\n",
       "      <td>3015.378833</td>\n",
       "    </tr>\n",
       "    <tr>\n",
       "      <th>Syria</th>\n",
       "      <td>2002</td>\n",
       "      <td>1.715581e+07</td>\n",
       "      <td>Asia</td>\n",
       "      <td>73.053</td>\n",
       "      <td>4090.925331</td>\n",
       "    </tr>\n",
       "    <tr>\n",
       "      <th>Taiwan</th>\n",
       "      <td>2002</td>\n",
       "      <td>2.245424e+07</td>\n",
       "      <td>Asia</td>\n",
       "      <td>76.990</td>\n",
       "      <td>23235.423290</td>\n",
       "    </tr>\n",
       "    <tr>\n",
       "      <th>Thailand</th>\n",
       "      <td>2002</td>\n",
       "      <td>6.280675e+07</td>\n",
       "      <td>Asia</td>\n",
       "      <td>68.564</td>\n",
       "      <td>5913.187529</td>\n",
       "    </tr>\n",
       "    <tr>\n",
       "      <th>Vietnam</th>\n",
       "      <td>2002</td>\n",
       "      <td>8.090815e+07</td>\n",
       "      <td>Asia</td>\n",
       "      <td>73.017</td>\n",
       "      <td>1764.456677</td>\n",
       "    </tr>\n",
       "    <tr>\n",
       "      <th>West Bank and Gaza</th>\n",
       "      <td>2002</td>\n",
       "      <td>3.389578e+06</td>\n",
       "      <td>Asia</td>\n",
       "      <td>72.370</td>\n",
       "      <td>4515.487575</td>\n",
       "    </tr>\n",
       "    <tr>\n",
       "      <th>Yemen Rep.</th>\n",
       "      <td>2002</td>\n",
       "      <td>1.870126e+07</td>\n",
       "      <td>Asia</td>\n",
       "      <td>60.308</td>\n",
       "      <td>2234.820827</td>\n",
       "    </tr>\n",
       "  </tbody>\n",
       "</table>\n",
       "</div>"
      ],
      "text/plain": [
       "                    year           pop continent  lifeExp     gdpPercap\n",
       "country                                                                \n",
       "Afghanistan         2002  2.526840e+07      Asia   42.129    726.734055\n",
       "Bahrain             2002  6.563970e+05      Asia   74.795  23403.559270\n",
       "Bangladesh          2002  1.356568e+08      Asia   62.013   1136.390430\n",
       "Cambodia            2002  1.292671e+07      Asia   56.752    896.226015\n",
       "China               2002  1.280400e+09      Asia   72.028   3119.280896\n",
       "Hong Kong China     2002  6.762476e+06      Asia   81.495  30209.015160\n",
       "India               2002  1.034173e+09      Asia   62.879   1746.769454\n",
       "Indonesia           2002  2.110600e+08      Asia   68.588   2873.912870\n",
       "Iran                2002  6.690783e+07      Asia   69.451   9240.761975\n",
       "Iraq                2002  2.400182e+07      Asia   57.046   4390.717312\n",
       "Israel              2002  6.029529e+06      Asia   79.696  21905.595140\n",
       "Japan               2002  1.270658e+08      Asia   82.000  28604.591900\n",
       "Jordan              2002  5.307470e+06      Asia   71.263   3844.917194\n",
       "Korea Dem. Rep.     2002  2.221536e+07      Asia   66.662   1646.758151\n",
       "Korea Rep.          2002  4.796915e+07      Asia   77.045  19233.988180\n",
       "Kuwait              2002  2.111561e+06      Asia   76.904  35110.105660\n",
       "Lebanon             2002  3.677780e+06      Asia   71.028   9313.938830\n",
       "Malaysia            2002  2.266236e+07      Asia   73.044  10206.977940\n",
       "Mongolia            2002  2.674234e+06      Asia   65.033   2140.739323\n",
       "Myanmar             2002  4.559808e+07      Asia   59.908    611.000000\n",
       "Nepal               2002  2.587392e+07      Asia   61.340   1057.206311\n",
       "Oman                2002  2.713462e+06      Asia   74.193  19774.836870\n",
       "Pakistan            2002  1.534035e+08      Asia   63.610   2092.712441\n",
       "Philippines         2002  8.299509e+07      Asia   70.303   2650.921068\n",
       "Saudi Arabia        2002  2.450153e+07      Asia   71.626  19014.541180\n",
       "Singapore           2002  4.197776e+06      Asia   78.770  36023.105400\n",
       "Sri Lanka           2002  1.957678e+07      Asia   70.815   3015.378833\n",
       "Syria               2002  1.715581e+07      Asia   73.053   4090.925331\n",
       "Taiwan              2002  2.245424e+07      Asia   76.990  23235.423290\n",
       "Thailand            2002  6.280675e+07      Asia   68.564   5913.187529\n",
       "Vietnam             2002  8.090815e+07      Asia   73.017   1764.456677\n",
       "West Bank and Gaza  2002  3.389578e+06      Asia   72.370   4515.487575\n",
       "Yemen Rep.          2002  1.870126e+07      Asia   60.308   2234.820827"
      ]
     },
     "execution_count": 102,
     "metadata": {},
     "output_type": "execute_result"
    }
   ],
   "source": [
    "data_by_country[(data_by_country['continent']=='Asia') & (data_by_country['year']==2002)]"
   ]
  },
  {
   "cell_type": "code",
   "execution_count": 108,
   "metadata": {},
   "outputs": [],
   "source": [
    "step1=data_by_country.loc[['Germany','Poland','Norway']]"
   ]
  },
  {
   "cell_type": "code",
   "execution_count": 104,
   "metadata": {},
   "outputs": [
    {
     "ename": "SyntaxError",
     "evalue": "invalid syntax (<ipython-input-104-ed1b87673615>, line 1)",
     "output_type": "error",
     "traceback": [
      "\u001b[0;36m  File \u001b[0;32m\"<ipython-input-104-ed1b87673615>\"\u001b[0;36m, line \u001b[0;32m1\u001b[0m\n\u001b[0;31m    step_`1\u001b[0m\n\u001b[0m         ^\u001b[0m\n\u001b[0;31mSyntaxError\u001b[0m\u001b[0;31m:\u001b[0m invalid syntax\n"
     ]
    }
   ],
   "source": [
    "step_`1"
   ]
  },
  {
   "cell_type": "code",
   "execution_count": 105,
   "metadata": {},
   "outputs": [
    {
     "data": {
      "text/html": [
       "<div>\n",
       "<style scoped>\n",
       "    .dataframe tbody tr th:only-of-type {\n",
       "        vertical-align: middle;\n",
       "    }\n",
       "\n",
       "    .dataframe tbody tr th {\n",
       "        vertical-align: top;\n",
       "    }\n",
       "\n",
       "    .dataframe thead th {\n",
       "        text-align: right;\n",
       "    }\n",
       "</style>\n",
       "<table border=\"1\" class=\"dataframe\">\n",
       "  <thead>\n",
       "    <tr style=\"text-align: right;\">\n",
       "      <th></th>\n",
       "      <th>year</th>\n",
       "      <th>pop</th>\n",
       "      <th>continent</th>\n",
       "      <th>lifeExp</th>\n",
       "      <th>gdpPercap</th>\n",
       "    </tr>\n",
       "    <tr>\n",
       "      <th>country</th>\n",
       "      <th></th>\n",
       "      <th></th>\n",
       "      <th></th>\n",
       "      <th></th>\n",
       "      <th></th>\n",
       "    </tr>\n",
       "  </thead>\n",
       "  <tbody>\n",
       "    <tr>\n",
       "      <th>Germany</th>\n",
       "      <td>1952</td>\n",
       "      <td>69145952.0</td>\n",
       "      <td>Europe</td>\n",
       "      <td>67.500</td>\n",
       "      <td>7144.114393</td>\n",
       "    </tr>\n",
       "    <tr>\n",
       "      <th>Germany</th>\n",
       "      <td>1957</td>\n",
       "      <td>71019069.0</td>\n",
       "      <td>Europe</td>\n",
       "      <td>69.100</td>\n",
       "      <td>10187.826650</td>\n",
       "    </tr>\n",
       "    <tr>\n",
       "      <th>Germany</th>\n",
       "      <td>1962</td>\n",
       "      <td>73739117.0</td>\n",
       "      <td>Europe</td>\n",
       "      <td>70.300</td>\n",
       "      <td>12902.462910</td>\n",
       "    </tr>\n",
       "    <tr>\n",
       "      <th>Germany</th>\n",
       "      <td>1967</td>\n",
       "      <td>76368453.0</td>\n",
       "      <td>Europe</td>\n",
       "      <td>70.800</td>\n",
       "      <td>14745.625610</td>\n",
       "    </tr>\n",
       "    <tr>\n",
       "      <th>Germany</th>\n",
       "      <td>1972</td>\n",
       "      <td>78717088.0</td>\n",
       "      <td>Europe</td>\n",
       "      <td>71.000</td>\n",
       "      <td>18016.180270</td>\n",
       "    </tr>\n",
       "    <tr>\n",
       "      <th>Germany</th>\n",
       "      <td>1977</td>\n",
       "      <td>78160773.0</td>\n",
       "      <td>Europe</td>\n",
       "      <td>72.500</td>\n",
       "      <td>20512.921230</td>\n",
       "    </tr>\n",
       "    <tr>\n",
       "      <th>Germany</th>\n",
       "      <td>1982</td>\n",
       "      <td>78335266.0</td>\n",
       "      <td>Europe</td>\n",
       "      <td>73.800</td>\n",
       "      <td>22031.532740</td>\n",
       "    </tr>\n",
       "    <tr>\n",
       "      <th>Germany</th>\n",
       "      <td>1987</td>\n",
       "      <td>77718298.0</td>\n",
       "      <td>Europe</td>\n",
       "      <td>74.847</td>\n",
       "      <td>24639.185660</td>\n",
       "    </tr>\n",
       "    <tr>\n",
       "      <th>Germany</th>\n",
       "      <td>1992</td>\n",
       "      <td>80597764.0</td>\n",
       "      <td>Europe</td>\n",
       "      <td>76.070</td>\n",
       "      <td>26505.303170</td>\n",
       "    </tr>\n",
       "    <tr>\n",
       "      <th>Germany</th>\n",
       "      <td>1997</td>\n",
       "      <td>82011073.0</td>\n",
       "      <td>Europe</td>\n",
       "      <td>77.340</td>\n",
       "      <td>27788.884160</td>\n",
       "    </tr>\n",
       "    <tr>\n",
       "      <th>Germany</th>\n",
       "      <td>2002</td>\n",
       "      <td>82350671.0</td>\n",
       "      <td>Europe</td>\n",
       "      <td>78.670</td>\n",
       "      <td>30035.801980</td>\n",
       "    </tr>\n",
       "    <tr>\n",
       "      <th>Germany</th>\n",
       "      <td>2007</td>\n",
       "      <td>82400996.0</td>\n",
       "      <td>Europe</td>\n",
       "      <td>79.406</td>\n",
       "      <td>32170.374420</td>\n",
       "    </tr>\n",
       "    <tr>\n",
       "      <th>Poland</th>\n",
       "      <td>1952</td>\n",
       "      <td>25730551.0</td>\n",
       "      <td>Europe</td>\n",
       "      <td>61.310</td>\n",
       "      <td>4029.329699</td>\n",
       "    </tr>\n",
       "    <tr>\n",
       "      <th>Poland</th>\n",
       "      <td>1957</td>\n",
       "      <td>28235346.0</td>\n",
       "      <td>Europe</td>\n",
       "      <td>65.770</td>\n",
       "      <td>4734.253019</td>\n",
       "    </tr>\n",
       "    <tr>\n",
       "      <th>Poland</th>\n",
       "      <td>1962</td>\n",
       "      <td>30329617.0</td>\n",
       "      <td>Europe</td>\n",
       "      <td>67.640</td>\n",
       "      <td>5338.752143</td>\n",
       "    </tr>\n",
       "    <tr>\n",
       "      <th>Poland</th>\n",
       "      <td>1967</td>\n",
       "      <td>31785378.0</td>\n",
       "      <td>Europe</td>\n",
       "      <td>69.610</td>\n",
       "      <td>6557.152776</td>\n",
       "    </tr>\n",
       "    <tr>\n",
       "      <th>Poland</th>\n",
       "      <td>1972</td>\n",
       "      <td>33039545.0</td>\n",
       "      <td>Europe</td>\n",
       "      <td>70.850</td>\n",
       "      <td>8006.506993</td>\n",
       "    </tr>\n",
       "    <tr>\n",
       "      <th>Poland</th>\n",
       "      <td>1977</td>\n",
       "      <td>34621254.0</td>\n",
       "      <td>Europe</td>\n",
       "      <td>70.670</td>\n",
       "      <td>9508.141454</td>\n",
       "    </tr>\n",
       "    <tr>\n",
       "      <th>Poland</th>\n",
       "      <td>1982</td>\n",
       "      <td>36227381.0</td>\n",
       "      <td>Europe</td>\n",
       "      <td>71.320</td>\n",
       "      <td>8451.531004</td>\n",
       "    </tr>\n",
       "    <tr>\n",
       "      <th>Poland</th>\n",
       "      <td>1987</td>\n",
       "      <td>37740710.0</td>\n",
       "      <td>Europe</td>\n",
       "      <td>70.980</td>\n",
       "      <td>9082.351172</td>\n",
       "    </tr>\n",
       "    <tr>\n",
       "      <th>Poland</th>\n",
       "      <td>1992</td>\n",
       "      <td>38370697.0</td>\n",
       "      <td>Europe</td>\n",
       "      <td>70.990</td>\n",
       "      <td>7738.881247</td>\n",
       "    </tr>\n",
       "    <tr>\n",
       "      <th>Poland</th>\n",
       "      <td>1997</td>\n",
       "      <td>38654957.0</td>\n",
       "      <td>Europe</td>\n",
       "      <td>72.750</td>\n",
       "      <td>10159.583680</td>\n",
       "    </tr>\n",
       "    <tr>\n",
       "      <th>Poland</th>\n",
       "      <td>2002</td>\n",
       "      <td>38625976.0</td>\n",
       "      <td>Europe</td>\n",
       "      <td>74.670</td>\n",
       "      <td>12002.239080</td>\n",
       "    </tr>\n",
       "    <tr>\n",
       "      <th>Poland</th>\n",
       "      <td>2007</td>\n",
       "      <td>38518241.0</td>\n",
       "      <td>Europe</td>\n",
       "      <td>75.563</td>\n",
       "      <td>15389.924680</td>\n",
       "    </tr>\n",
       "    <tr>\n",
       "      <th>Norway</th>\n",
       "      <td>1952</td>\n",
       "      <td>3327728.0</td>\n",
       "      <td>Europe</td>\n",
       "      <td>72.670</td>\n",
       "      <td>10095.421720</td>\n",
       "    </tr>\n",
       "    <tr>\n",
       "      <th>Norway</th>\n",
       "      <td>1957</td>\n",
       "      <td>3491938.0</td>\n",
       "      <td>Europe</td>\n",
       "      <td>73.440</td>\n",
       "      <td>11653.973040</td>\n",
       "    </tr>\n",
       "    <tr>\n",
       "      <th>Norway</th>\n",
       "      <td>1962</td>\n",
       "      <td>3638919.0</td>\n",
       "      <td>Europe</td>\n",
       "      <td>73.470</td>\n",
       "      <td>13450.401510</td>\n",
       "    </tr>\n",
       "    <tr>\n",
       "      <th>Norway</th>\n",
       "      <td>1967</td>\n",
       "      <td>3786019.0</td>\n",
       "      <td>Europe</td>\n",
       "      <td>74.080</td>\n",
       "      <td>16361.876470</td>\n",
       "    </tr>\n",
       "    <tr>\n",
       "      <th>Norway</th>\n",
       "      <td>1972</td>\n",
       "      <td>3933004.0</td>\n",
       "      <td>Europe</td>\n",
       "      <td>74.340</td>\n",
       "      <td>18965.055510</td>\n",
       "    </tr>\n",
       "    <tr>\n",
       "      <th>Norway</th>\n",
       "      <td>1977</td>\n",
       "      <td>4043205.0</td>\n",
       "      <td>Europe</td>\n",
       "      <td>75.370</td>\n",
       "      <td>23311.349390</td>\n",
       "    </tr>\n",
       "    <tr>\n",
       "      <th>Norway</th>\n",
       "      <td>1982</td>\n",
       "      <td>4114787.0</td>\n",
       "      <td>Europe</td>\n",
       "      <td>75.970</td>\n",
       "      <td>26298.635310</td>\n",
       "    </tr>\n",
       "    <tr>\n",
       "      <th>Norway</th>\n",
       "      <td>1987</td>\n",
       "      <td>4186147.0</td>\n",
       "      <td>Europe</td>\n",
       "      <td>75.890</td>\n",
       "      <td>31540.974800</td>\n",
       "    </tr>\n",
       "    <tr>\n",
       "      <th>Norway</th>\n",
       "      <td>1992</td>\n",
       "      <td>4286357.0</td>\n",
       "      <td>Europe</td>\n",
       "      <td>77.320</td>\n",
       "      <td>33965.661150</td>\n",
       "    </tr>\n",
       "    <tr>\n",
       "      <th>Norway</th>\n",
       "      <td>1997</td>\n",
       "      <td>4405672.0</td>\n",
       "      <td>Europe</td>\n",
       "      <td>78.320</td>\n",
       "      <td>41283.164330</td>\n",
       "    </tr>\n",
       "    <tr>\n",
       "      <th>Norway</th>\n",
       "      <td>2002</td>\n",
       "      <td>4535591.0</td>\n",
       "      <td>Europe</td>\n",
       "      <td>79.050</td>\n",
       "      <td>44683.975250</td>\n",
       "    </tr>\n",
       "    <tr>\n",
       "      <th>Norway</th>\n",
       "      <td>2007</td>\n",
       "      <td>4627926.0</td>\n",
       "      <td>Europe</td>\n",
       "      <td>80.196</td>\n",
       "      <td>49357.190170</td>\n",
       "    </tr>\n",
       "  </tbody>\n",
       "</table>\n",
       "</div>"
      ],
      "text/plain": [
       "         year         pop continent  lifeExp     gdpPercap\n",
       "country                                                   \n",
       "Germany  1952  69145952.0    Europe   67.500   7144.114393\n",
       "Germany  1957  71019069.0    Europe   69.100  10187.826650\n",
       "Germany  1962  73739117.0    Europe   70.300  12902.462910\n",
       "Germany  1967  76368453.0    Europe   70.800  14745.625610\n",
       "Germany  1972  78717088.0    Europe   71.000  18016.180270\n",
       "Germany  1977  78160773.0    Europe   72.500  20512.921230\n",
       "Germany  1982  78335266.0    Europe   73.800  22031.532740\n",
       "Germany  1987  77718298.0    Europe   74.847  24639.185660\n",
       "Germany  1992  80597764.0    Europe   76.070  26505.303170\n",
       "Germany  1997  82011073.0    Europe   77.340  27788.884160\n",
       "Germany  2002  82350671.0    Europe   78.670  30035.801980\n",
       "Germany  2007  82400996.0    Europe   79.406  32170.374420\n",
       "Poland   1952  25730551.0    Europe   61.310   4029.329699\n",
       "Poland   1957  28235346.0    Europe   65.770   4734.253019\n",
       "Poland   1962  30329617.0    Europe   67.640   5338.752143\n",
       "Poland   1967  31785378.0    Europe   69.610   6557.152776\n",
       "Poland   1972  33039545.0    Europe   70.850   8006.506993\n",
       "Poland   1977  34621254.0    Europe   70.670   9508.141454\n",
       "Poland   1982  36227381.0    Europe   71.320   8451.531004\n",
       "Poland   1987  37740710.0    Europe   70.980   9082.351172\n",
       "Poland   1992  38370697.0    Europe   70.990   7738.881247\n",
       "Poland   1997  38654957.0    Europe   72.750  10159.583680\n",
       "Poland   2002  38625976.0    Europe   74.670  12002.239080\n",
       "Poland   2007  38518241.0    Europe   75.563  15389.924680\n",
       "Norway   1952   3327728.0    Europe   72.670  10095.421720\n",
       "Norway   1957   3491938.0    Europe   73.440  11653.973040\n",
       "Norway   1962   3638919.0    Europe   73.470  13450.401510\n",
       "Norway   1967   3786019.0    Europe   74.080  16361.876470\n",
       "Norway   1972   3933004.0    Europe   74.340  18965.055510\n",
       "Norway   1977   4043205.0    Europe   75.370  23311.349390\n",
       "Norway   1982   4114787.0    Europe   75.970  26298.635310\n",
       "Norway   1987   4186147.0    Europe   75.890  31540.974800\n",
       "Norway   1992   4286357.0    Europe   77.320  33965.661150\n",
       "Norway   1997   4405672.0    Europe   78.320  41283.164330\n",
       "Norway   2002   4535591.0    Europe   79.050  44683.975250\n",
       "Norway   2007   4627926.0    Europe   80.196  49357.190170"
      ]
     },
     "execution_count": 105,
     "metadata": {},
     "output_type": "execute_result"
    }
   ],
   "source": [
    "step_1"
   ]
  },
  {
   "cell_type": "code",
   "execution_count": 109,
   "metadata": {},
   "outputs": [],
   "source": [
    "step2=step1[(step1['year']==1957) | (step1['year']==1962) | (step1['year']==1967)]"
   ]
  },
  {
   "cell_type": "code",
   "execution_count": 110,
   "metadata": {},
   "outputs": [
    {
     "data": {
      "text/html": [
       "<div>\n",
       "<style scoped>\n",
       "    .dataframe tbody tr th:only-of-type {\n",
       "        vertical-align: middle;\n",
       "    }\n",
       "\n",
       "    .dataframe tbody tr th {\n",
       "        vertical-align: top;\n",
       "    }\n",
       "\n",
       "    .dataframe thead th {\n",
       "        text-align: right;\n",
       "    }\n",
       "</style>\n",
       "<table border=\"1\" class=\"dataframe\">\n",
       "  <thead>\n",
       "    <tr style=\"text-align: right;\">\n",
       "      <th></th>\n",
       "      <th>year</th>\n",
       "      <th>pop</th>\n",
       "      <th>continent</th>\n",
       "      <th>lifeExp</th>\n",
       "      <th>gdpPercap</th>\n",
       "    </tr>\n",
       "    <tr>\n",
       "      <th>country</th>\n",
       "      <th></th>\n",
       "      <th></th>\n",
       "      <th></th>\n",
       "      <th></th>\n",
       "      <th></th>\n",
       "    </tr>\n",
       "  </thead>\n",
       "  <tbody>\n",
       "    <tr>\n",
       "      <th>Germany</th>\n",
       "      <td>1957</td>\n",
       "      <td>71019069.0</td>\n",
       "      <td>Europe</td>\n",
       "      <td>69.10</td>\n",
       "      <td>10187.826650</td>\n",
       "    </tr>\n",
       "    <tr>\n",
       "      <th>Germany</th>\n",
       "      <td>1962</td>\n",
       "      <td>73739117.0</td>\n",
       "      <td>Europe</td>\n",
       "      <td>70.30</td>\n",
       "      <td>12902.462910</td>\n",
       "    </tr>\n",
       "    <tr>\n",
       "      <th>Germany</th>\n",
       "      <td>1967</td>\n",
       "      <td>76368453.0</td>\n",
       "      <td>Europe</td>\n",
       "      <td>70.80</td>\n",
       "      <td>14745.625610</td>\n",
       "    </tr>\n",
       "    <tr>\n",
       "      <th>Poland</th>\n",
       "      <td>1957</td>\n",
       "      <td>28235346.0</td>\n",
       "      <td>Europe</td>\n",
       "      <td>65.77</td>\n",
       "      <td>4734.253019</td>\n",
       "    </tr>\n",
       "    <tr>\n",
       "      <th>Poland</th>\n",
       "      <td>1962</td>\n",
       "      <td>30329617.0</td>\n",
       "      <td>Europe</td>\n",
       "      <td>67.64</td>\n",
       "      <td>5338.752143</td>\n",
       "    </tr>\n",
       "    <tr>\n",
       "      <th>Poland</th>\n",
       "      <td>1967</td>\n",
       "      <td>31785378.0</td>\n",
       "      <td>Europe</td>\n",
       "      <td>69.61</td>\n",
       "      <td>6557.152776</td>\n",
       "    </tr>\n",
       "    <tr>\n",
       "      <th>Norway</th>\n",
       "      <td>1957</td>\n",
       "      <td>3491938.0</td>\n",
       "      <td>Europe</td>\n",
       "      <td>73.44</td>\n",
       "      <td>11653.973040</td>\n",
       "    </tr>\n",
       "    <tr>\n",
       "      <th>Norway</th>\n",
       "      <td>1962</td>\n",
       "      <td>3638919.0</td>\n",
       "      <td>Europe</td>\n",
       "      <td>73.47</td>\n",
       "      <td>13450.401510</td>\n",
       "    </tr>\n",
       "    <tr>\n",
       "      <th>Norway</th>\n",
       "      <td>1967</td>\n",
       "      <td>3786019.0</td>\n",
       "      <td>Europe</td>\n",
       "      <td>74.08</td>\n",
       "      <td>16361.876470</td>\n",
       "    </tr>\n",
       "  </tbody>\n",
       "</table>\n",
       "</div>"
      ],
      "text/plain": [
       "         year         pop continent  lifeExp     gdpPercap\n",
       "country                                                   \n",
       "Germany  1957  71019069.0    Europe    69.10  10187.826650\n",
       "Germany  1962  73739117.0    Europe    70.30  12902.462910\n",
       "Germany  1967  76368453.0    Europe    70.80  14745.625610\n",
       "Poland   1957  28235346.0    Europe    65.77   4734.253019\n",
       "Poland   1962  30329617.0    Europe    67.64   5338.752143\n",
       "Poland   1967  31785378.0    Europe    69.61   6557.152776\n",
       "Norway   1957   3491938.0    Europe    73.44  11653.973040\n",
       "Norway   1962   3638919.0    Europe    73.47  13450.401510\n",
       "Norway   1967   3786019.0    Europe    74.08  16361.876470"
      ]
     },
     "execution_count": 110,
     "metadata": {},
     "output_type": "execute_result"
    }
   ],
   "source": [
    "step2\n"
   ]
  },
  {
   "cell_type": "code",
   "execution_count": 111,
   "metadata": {},
   "outputs": [],
   "source": [
    "step3=step2['gdpPercap']"
   ]
  },
  {
   "cell_type": "code",
   "execution_count": 112,
   "metadata": {},
   "outputs": [
    {
     "data": {
      "text/plain": [
       "country\n",
       "Germany    10187.826650\n",
       "Germany    12902.462910\n",
       "Germany    14745.625610\n",
       "Poland      4734.253019\n",
       "Poland      5338.752143\n",
       "Poland      6557.152776\n",
       "Norway     11653.973040\n",
       "Norway     13450.401510\n",
       "Norway     16361.876470\n",
       "Name: gdpPercap, dtype: float64"
      ]
     },
     "execution_count": 112,
     "metadata": {},
     "output_type": "execute_result"
    }
   ],
   "source": [
    "step3"
   ]
  },
  {
   "cell_type": "markdown",
   "metadata": {},
   "source": [
    "Average GDP per capita in asia in 2002?"
   ]
  },
  {
   "cell_type": "code",
   "execution_count": 114,
   "metadata": {},
   "outputs": [],
   "source": [
    "asia_2002=data_by_country[(data_by_country['year']==2002)&(data_by_country['continent']=='Asia') ]"
   ]
  },
  {
   "cell_type": "code",
   "execution_count": 115,
   "metadata": {},
   "outputs": [
    {
     "data": {
      "text/html": [
       "<div>\n",
       "<style scoped>\n",
       "    .dataframe tbody tr th:only-of-type {\n",
       "        vertical-align: middle;\n",
       "    }\n",
       "\n",
       "    .dataframe tbody tr th {\n",
       "        vertical-align: top;\n",
       "    }\n",
       "\n",
       "    .dataframe thead th {\n",
       "        text-align: right;\n",
       "    }\n",
       "</style>\n",
       "<table border=\"1\" class=\"dataframe\">\n",
       "  <thead>\n",
       "    <tr style=\"text-align: right;\">\n",
       "      <th></th>\n",
       "      <th>year</th>\n",
       "      <th>pop</th>\n",
       "      <th>lifeExp</th>\n",
       "      <th>gdpPercap</th>\n",
       "    </tr>\n",
       "  </thead>\n",
       "  <tbody>\n",
       "    <tr>\n",
       "      <th>count</th>\n",
       "      <td>33.0</td>\n",
       "      <td>3.300000e+01</td>\n",
       "      <td>33.000000</td>\n",
       "      <td>33.000000</td>\n",
       "    </tr>\n",
       "    <tr>\n",
       "      <th>mean</th>\n",
       "      <td>2002.0</td>\n",
       "      <td>1.091455e+08</td>\n",
       "      <td>69.233879</td>\n",
       "      <td>10174.090397</td>\n",
       "    </tr>\n",
       "    <tr>\n",
       "      <th>std</th>\n",
       "      <td>0.0</td>\n",
       "      <td>2.767017e+08</td>\n",
       "      <td>8.374595</td>\n",
       "      <td>11150.719203</td>\n",
       "    </tr>\n",
       "    <tr>\n",
       "      <th>min</th>\n",
       "      <td>2002.0</td>\n",
       "      <td>6.563970e+05</td>\n",
       "      <td>42.129000</td>\n",
       "      <td>611.000000</td>\n",
       "    </tr>\n",
       "    <tr>\n",
       "      <th>25%</th>\n",
       "      <td>2002.0</td>\n",
       "      <td>6.029529e+06</td>\n",
       "      <td>63.610000</td>\n",
       "      <td>2092.712441</td>\n",
       "    </tr>\n",
       "    <tr>\n",
       "      <th>50%</th>\n",
       "      <td>2002.0</td>\n",
       "      <td>2.266236e+07</td>\n",
       "      <td>71.028000</td>\n",
       "      <td>4090.925331</td>\n",
       "    </tr>\n",
       "    <tr>\n",
       "      <th>75%</th>\n",
       "      <td>2002.0</td>\n",
       "      <td>6.690783e+07</td>\n",
       "      <td>74.193000</td>\n",
       "      <td>19233.988180</td>\n",
       "    </tr>\n",
       "    <tr>\n",
       "      <th>max</th>\n",
       "      <td>2002.0</td>\n",
       "      <td>1.280400e+09</td>\n",
       "      <td>82.000000</td>\n",
       "      <td>36023.105400</td>\n",
       "    </tr>\n",
       "  </tbody>\n",
       "</table>\n",
       "</div>"
      ],
      "text/plain": [
       "         year           pop    lifeExp     gdpPercap\n",
       "count    33.0  3.300000e+01  33.000000     33.000000\n",
       "mean   2002.0  1.091455e+08  69.233879  10174.090397\n",
       "std       0.0  2.767017e+08   8.374595  11150.719203\n",
       "min    2002.0  6.563970e+05  42.129000    611.000000\n",
       "25%    2002.0  6.029529e+06  63.610000   2092.712441\n",
       "50%    2002.0  2.266236e+07  71.028000   4090.925331\n",
       "75%    2002.0  6.690783e+07  74.193000  19233.988180\n",
       "max    2002.0  1.280400e+09  82.000000  36023.105400"
      ]
     },
     "execution_count": 115,
     "metadata": {},
     "output_type": "execute_result"
    }
   ],
   "source": [
    "asia_2002.describe()\n"
   ]
  },
  {
   "cell_type": "code",
   "execution_count": 116,
   "metadata": {},
   "outputs": [
    {
     "data": {
      "text/plain": [
       "69.23387878787878"
      ]
     },
     "execution_count": 116,
     "metadata": {},
     "output_type": "execute_result"
    }
   ],
   "source": [
    "asia_2002['lifeExp'].mean()"
   ]
  },
  {
   "cell_type": "code",
   "execution_count": 117,
   "metadata": {},
   "outputs": [],
   "source": [
    "asia_1957=data_by_country[(data_by_country['year']==1957)&(data_by_country['continent']=='Asia') ]"
   ]
  },
  {
   "cell_type": "code",
   "execution_count": 118,
   "metadata": {},
   "outputs": [
    {
     "data": {
      "text/html": [
       "<div>\n",
       "<style scoped>\n",
       "    .dataframe tbody tr th:only-of-type {\n",
       "        vertical-align: middle;\n",
       "    }\n",
       "\n",
       "    .dataframe tbody tr th {\n",
       "        vertical-align: top;\n",
       "    }\n",
       "\n",
       "    .dataframe thead th {\n",
       "        text-align: right;\n",
       "    }\n",
       "</style>\n",
       "<table border=\"1\" class=\"dataframe\">\n",
       "  <thead>\n",
       "    <tr style=\"text-align: right;\">\n",
       "      <th></th>\n",
       "      <th>year</th>\n",
       "      <th>pop</th>\n",
       "      <th>lifeExp</th>\n",
       "      <th>gdpPercap</th>\n",
       "    </tr>\n",
       "  </thead>\n",
       "  <tbody>\n",
       "    <tr>\n",
       "      <th>count</th>\n",
       "      <td>33.0</td>\n",
       "      <td>3.300000e+01</td>\n",
       "      <td>33.000000</td>\n",
       "      <td>33.000000</td>\n",
       "    </tr>\n",
       "    <tr>\n",
       "      <th>mean</th>\n",
       "      <td>1957.0</td>\n",
       "      <td>4.735699e+07</td>\n",
       "      <td>49.318544</td>\n",
       "      <td>5787.732940</td>\n",
       "    </tr>\n",
       "    <tr>\n",
       "      <th>std</th>\n",
       "      <td>0.0</td>\n",
       "      <td>1.280961e+08</td>\n",
       "      <td>9.635429</td>\n",
       "      <td>19506.515959</td>\n",
       "    </tr>\n",
       "    <tr>\n",
       "      <th>min</th>\n",
       "      <td>1957.0</td>\n",
       "      <td>1.386550e+05</td>\n",
       "      <td>30.332000</td>\n",
       "      <td>350.000000</td>\n",
       "    </tr>\n",
       "    <tr>\n",
       "      <th>25%</th>\n",
       "      <td>1957.0</td>\n",
       "      <td>1.944401e+06</td>\n",
       "      <td>41.905000</td>\n",
       "      <td>793.577415</td>\n",
       "    </tr>\n",
       "    <tr>\n",
       "      <th>50%</th>\n",
       "      <td>1957.0</td>\n",
       "      <td>9.128546e+06</td>\n",
       "      <td>48.284000</td>\n",
       "      <td>1547.944844</td>\n",
       "    </tr>\n",
       "    <tr>\n",
       "      <th>75%</th>\n",
       "      <td>1957.0</td>\n",
       "      <td>2.504192e+07</td>\n",
       "      <td>54.081000</td>\n",
       "      <td>3290.257643</td>\n",
       "    </tr>\n",
       "    <tr>\n",
       "      <th>max</th>\n",
       "      <td>1957.0</td>\n",
       "      <td>6.374080e+08</td>\n",
       "      <td>67.840000</td>\n",
       "      <td>113523.132900</td>\n",
       "    </tr>\n",
       "  </tbody>\n",
       "</table>\n",
       "</div>"
      ],
      "text/plain": [
       "         year           pop    lifeExp      gdpPercap\n",
       "count    33.0  3.300000e+01  33.000000      33.000000\n",
       "mean   1957.0  4.735699e+07  49.318544    5787.732940\n",
       "std       0.0  1.280961e+08   9.635429   19506.515959\n",
       "min    1957.0  1.386550e+05  30.332000     350.000000\n",
       "25%    1957.0  1.944401e+06  41.905000     793.577415\n",
       "50%    1957.0  9.128546e+06  48.284000    1547.944844\n",
       "75%    1957.0  2.504192e+07  54.081000    3290.257643\n",
       "max    1957.0  6.374080e+08  67.840000  113523.132900"
      ]
     },
     "execution_count": 118,
     "metadata": {},
     "output_type": "execute_result"
    }
   ],
   "source": [
    "asia_1957.describe()"
   ]
  },
  {
   "cell_type": "code",
   "execution_count": 119,
   "metadata": {},
   "outputs": [
    {
     "data": {
      "text/plain": [
       "year         1.957000e+03\n",
       "pop          9.128546e+06\n",
       "lifeExp      4.828400e+01\n",
       "gdpPercap    1.547945e+03\n",
       "dtype: float64"
      ]
     },
     "execution_count": 119,
     "metadata": {},
     "output_type": "execute_result"
    }
   ],
   "source": [
    "asia_1957.median()"
   ]
  },
  {
   "cell_type": "code",
   "execution_count": 120,
   "metadata": {},
   "outputs": [
    {
     "data": {
      "text/html": [
       "<div>\n",
       "<style scoped>\n",
       "    .dataframe tbody tr th:only-of-type {\n",
       "        vertical-align: middle;\n",
       "    }\n",
       "\n",
       "    .dataframe tbody tr th {\n",
       "        vertical-align: top;\n",
       "    }\n",
       "\n",
       "    .dataframe thead th {\n",
       "        text-align: right;\n",
       "    }\n",
       "</style>\n",
       "<table border=\"1\" class=\"dataframe\">\n",
       "  <thead>\n",
       "    <tr style=\"text-align: right;\">\n",
       "      <th></th>\n",
       "      <th>year</th>\n",
       "      <th>pop</th>\n",
       "      <th>continent</th>\n",
       "      <th>lifeExp</th>\n",
       "      <th>gdpPercap</th>\n",
       "    </tr>\n",
       "    <tr>\n",
       "      <th>country</th>\n",
       "      <th></th>\n",
       "      <th></th>\n",
       "      <th></th>\n",
       "      <th></th>\n",
       "      <th></th>\n",
       "    </tr>\n",
       "  </thead>\n",
       "  <tbody>\n",
       "    <tr>\n",
       "      <th>Afghanistan</th>\n",
       "      <td>1952</td>\n",
       "      <td>8425333.0</td>\n",
       "      <td>Asia</td>\n",
       "      <td>28.801</td>\n",
       "      <td>779.445314</td>\n",
       "    </tr>\n",
       "    <tr>\n",
       "      <th>Afghanistan</th>\n",
       "      <td>1957</td>\n",
       "      <td>9240934.0</td>\n",
       "      <td>Asia</td>\n",
       "      <td>30.332</td>\n",
       "      <td>820.853030</td>\n",
       "    </tr>\n",
       "    <tr>\n",
       "      <th>Afghanistan</th>\n",
       "      <td>1962</td>\n",
       "      <td>10267083.0</td>\n",
       "      <td>Asia</td>\n",
       "      <td>31.997</td>\n",
       "      <td>853.100710</td>\n",
       "    </tr>\n",
       "    <tr>\n",
       "      <th>Afghanistan</th>\n",
       "      <td>1967</td>\n",
       "      <td>11537966.0</td>\n",
       "      <td>Asia</td>\n",
       "      <td>34.020</td>\n",
       "      <td>836.197138</td>\n",
       "    </tr>\n",
       "    <tr>\n",
       "      <th>Afghanistan</th>\n",
       "      <td>1972</td>\n",
       "      <td>13079460.0</td>\n",
       "      <td>Asia</td>\n",
       "      <td>36.088</td>\n",
       "      <td>739.981106</td>\n",
       "    </tr>\n",
       "    <tr>\n",
       "      <th>...</th>\n",
       "      <td>...</td>\n",
       "      <td>...</td>\n",
       "      <td>...</td>\n",
       "      <td>...</td>\n",
       "      <td>...</td>\n",
       "    </tr>\n",
       "    <tr>\n",
       "      <th>Zimbabwe</th>\n",
       "      <td>1987</td>\n",
       "      <td>9216418.0</td>\n",
       "      <td>Africa</td>\n",
       "      <td>62.351</td>\n",
       "      <td>706.157306</td>\n",
       "    </tr>\n",
       "    <tr>\n",
       "      <th>Zimbabwe</th>\n",
       "      <td>1992</td>\n",
       "      <td>10704340.0</td>\n",
       "      <td>Africa</td>\n",
       "      <td>60.377</td>\n",
       "      <td>693.420786</td>\n",
       "    </tr>\n",
       "    <tr>\n",
       "      <th>Zimbabwe</th>\n",
       "      <td>1997</td>\n",
       "      <td>11404948.0</td>\n",
       "      <td>Africa</td>\n",
       "      <td>46.809</td>\n",
       "      <td>792.449960</td>\n",
       "    </tr>\n",
       "    <tr>\n",
       "      <th>Zimbabwe</th>\n",
       "      <td>2002</td>\n",
       "      <td>11926563.0</td>\n",
       "      <td>Africa</td>\n",
       "      <td>39.989</td>\n",
       "      <td>672.038623</td>\n",
       "    </tr>\n",
       "    <tr>\n",
       "      <th>Zimbabwe</th>\n",
       "      <td>2007</td>\n",
       "      <td>12311143.0</td>\n",
       "      <td>Africa</td>\n",
       "      <td>43.487</td>\n",
       "      <td>469.709298</td>\n",
       "    </tr>\n",
       "  </tbody>\n",
       "</table>\n",
       "<p>1704 rows × 5 columns</p>\n",
       "</div>"
      ],
      "text/plain": [
       "             year         pop continent  lifeExp   gdpPercap\n",
       "country                                                     \n",
       "Afghanistan  1952   8425333.0      Asia   28.801  779.445314\n",
       "Afghanistan  1957   9240934.0      Asia   30.332  820.853030\n",
       "Afghanistan  1962  10267083.0      Asia   31.997  853.100710\n",
       "Afghanistan  1967  11537966.0      Asia   34.020  836.197138\n",
       "Afghanistan  1972  13079460.0      Asia   36.088  739.981106\n",
       "...           ...         ...       ...      ...         ...\n",
       "Zimbabwe     1987   9216418.0    Africa   62.351  706.157306\n",
       "Zimbabwe     1992  10704340.0    Africa   60.377  693.420786\n",
       "Zimbabwe     1997  11404948.0    Africa   46.809  792.449960\n",
       "Zimbabwe     2002  11926563.0    Africa   39.989  672.038623\n",
       "Zimbabwe     2007  12311143.0    Africa   43.487  469.709298\n",
       "\n",
       "[1704 rows x 5 columns]"
      ]
     },
     "execution_count": 120,
     "metadata": {},
     "output_type": "execute_result"
    }
   ],
   "source": [
    "data_by_country"
   ]
  },
  {
   "cell_type": "code",
   "execution_count": 121,
   "metadata": {},
   "outputs": [],
   "source": [
    "lifeExp_by_country_over_time=pd.pivot_table(data_by_country,index='country',columns='year',values='lifeExp')"
   ]
  },
  {
   "cell_type": "code",
   "execution_count": 122,
   "metadata": {},
   "outputs": [
    {
     "data": {
      "text/html": [
       "<div>\n",
       "<style scoped>\n",
       "    .dataframe tbody tr th:only-of-type {\n",
       "        vertical-align: middle;\n",
       "    }\n",
       "\n",
       "    .dataframe tbody tr th {\n",
       "        vertical-align: top;\n",
       "    }\n",
       "\n",
       "    .dataframe thead th {\n",
       "        text-align: right;\n",
       "    }\n",
       "</style>\n",
       "<table border=\"1\" class=\"dataframe\">\n",
       "  <thead>\n",
       "    <tr style=\"text-align: right;\">\n",
       "      <th>year</th>\n",
       "      <th>1952</th>\n",
       "      <th>1957</th>\n",
       "      <th>1962</th>\n",
       "      <th>1967</th>\n",
       "      <th>1972</th>\n",
       "      <th>1977</th>\n",
       "      <th>1982</th>\n",
       "      <th>1987</th>\n",
       "      <th>1992</th>\n",
       "      <th>1997</th>\n",
       "      <th>2002</th>\n",
       "      <th>2007</th>\n",
       "    </tr>\n",
       "    <tr>\n",
       "      <th>country</th>\n",
       "      <th></th>\n",
       "      <th></th>\n",
       "      <th></th>\n",
       "      <th></th>\n",
       "      <th></th>\n",
       "      <th></th>\n",
       "      <th></th>\n",
       "      <th></th>\n",
       "      <th></th>\n",
       "      <th></th>\n",
       "      <th></th>\n",
       "      <th></th>\n",
       "    </tr>\n",
       "  </thead>\n",
       "  <tbody>\n",
       "    <tr>\n",
       "      <th>Afghanistan</th>\n",
       "      <td>28.801</td>\n",
       "      <td>30.332</td>\n",
       "      <td>31.997</td>\n",
       "      <td>34.020</td>\n",
       "      <td>36.088</td>\n",
       "      <td>38.438</td>\n",
       "      <td>39.854</td>\n",
       "      <td>40.822</td>\n",
       "      <td>41.674</td>\n",
       "      <td>41.763</td>\n",
       "      <td>42.129</td>\n",
       "      <td>43.828</td>\n",
       "    </tr>\n",
       "    <tr>\n",
       "      <th>Albania</th>\n",
       "      <td>55.230</td>\n",
       "      <td>59.280</td>\n",
       "      <td>64.820</td>\n",
       "      <td>66.220</td>\n",
       "      <td>67.690</td>\n",
       "      <td>68.930</td>\n",
       "      <td>70.420</td>\n",
       "      <td>72.000</td>\n",
       "      <td>71.581</td>\n",
       "      <td>72.950</td>\n",
       "      <td>75.651</td>\n",
       "      <td>76.423</td>\n",
       "    </tr>\n",
       "    <tr>\n",
       "      <th>Algeria</th>\n",
       "      <td>43.077</td>\n",
       "      <td>45.685</td>\n",
       "      <td>48.303</td>\n",
       "      <td>51.407</td>\n",
       "      <td>54.518</td>\n",
       "      <td>58.014</td>\n",
       "      <td>61.368</td>\n",
       "      <td>65.799</td>\n",
       "      <td>67.744</td>\n",
       "      <td>69.152</td>\n",
       "      <td>70.994</td>\n",
       "      <td>72.301</td>\n",
       "    </tr>\n",
       "    <tr>\n",
       "      <th>Angola</th>\n",
       "      <td>30.015</td>\n",
       "      <td>31.999</td>\n",
       "      <td>34.000</td>\n",
       "      <td>35.985</td>\n",
       "      <td>37.928</td>\n",
       "      <td>39.483</td>\n",
       "      <td>39.942</td>\n",
       "      <td>39.906</td>\n",
       "      <td>40.647</td>\n",
       "      <td>40.963</td>\n",
       "      <td>41.003</td>\n",
       "      <td>42.731</td>\n",
       "    </tr>\n",
       "    <tr>\n",
       "      <th>Argentina</th>\n",
       "      <td>62.485</td>\n",
       "      <td>64.399</td>\n",
       "      <td>65.142</td>\n",
       "      <td>65.634</td>\n",
       "      <td>67.065</td>\n",
       "      <td>68.481</td>\n",
       "      <td>69.942</td>\n",
       "      <td>70.774</td>\n",
       "      <td>71.868</td>\n",
       "      <td>73.275</td>\n",
       "      <td>74.340</td>\n",
       "      <td>75.320</td>\n",
       "    </tr>\n",
       "    <tr>\n",
       "      <th>...</th>\n",
       "      <td>...</td>\n",
       "      <td>...</td>\n",
       "      <td>...</td>\n",
       "      <td>...</td>\n",
       "      <td>...</td>\n",
       "      <td>...</td>\n",
       "      <td>...</td>\n",
       "      <td>...</td>\n",
       "      <td>...</td>\n",
       "      <td>...</td>\n",
       "      <td>...</td>\n",
       "      <td>...</td>\n",
       "    </tr>\n",
       "    <tr>\n",
       "      <th>Vietnam</th>\n",
       "      <td>40.412</td>\n",
       "      <td>42.887</td>\n",
       "      <td>45.363</td>\n",
       "      <td>47.838</td>\n",
       "      <td>50.254</td>\n",
       "      <td>55.764</td>\n",
       "      <td>58.816</td>\n",
       "      <td>62.820</td>\n",
       "      <td>67.662</td>\n",
       "      <td>70.672</td>\n",
       "      <td>73.017</td>\n",
       "      <td>74.249</td>\n",
       "    </tr>\n",
       "    <tr>\n",
       "      <th>West Bank and Gaza</th>\n",
       "      <td>43.160</td>\n",
       "      <td>45.671</td>\n",
       "      <td>48.127</td>\n",
       "      <td>51.631</td>\n",
       "      <td>56.532</td>\n",
       "      <td>60.765</td>\n",
       "      <td>64.406</td>\n",
       "      <td>67.046</td>\n",
       "      <td>69.718</td>\n",
       "      <td>71.096</td>\n",
       "      <td>72.370</td>\n",
       "      <td>73.422</td>\n",
       "    </tr>\n",
       "    <tr>\n",
       "      <th>Yemen Rep.</th>\n",
       "      <td>32.548</td>\n",
       "      <td>33.970</td>\n",
       "      <td>35.180</td>\n",
       "      <td>36.984</td>\n",
       "      <td>39.848</td>\n",
       "      <td>44.175</td>\n",
       "      <td>49.113</td>\n",
       "      <td>52.922</td>\n",
       "      <td>55.599</td>\n",
       "      <td>58.020</td>\n",
       "      <td>60.308</td>\n",
       "      <td>62.698</td>\n",
       "    </tr>\n",
       "    <tr>\n",
       "      <th>Zambia</th>\n",
       "      <td>42.038</td>\n",
       "      <td>44.077</td>\n",
       "      <td>46.023</td>\n",
       "      <td>47.768</td>\n",
       "      <td>50.107</td>\n",
       "      <td>51.386</td>\n",
       "      <td>51.821</td>\n",
       "      <td>50.821</td>\n",
       "      <td>46.100</td>\n",
       "      <td>40.238</td>\n",
       "      <td>39.193</td>\n",
       "      <td>42.384</td>\n",
       "    </tr>\n",
       "    <tr>\n",
       "      <th>Zimbabwe</th>\n",
       "      <td>48.451</td>\n",
       "      <td>50.469</td>\n",
       "      <td>52.358</td>\n",
       "      <td>53.995</td>\n",
       "      <td>55.635</td>\n",
       "      <td>57.674</td>\n",
       "      <td>60.363</td>\n",
       "      <td>62.351</td>\n",
       "      <td>60.377</td>\n",
       "      <td>46.809</td>\n",
       "      <td>39.989</td>\n",
       "      <td>43.487</td>\n",
       "    </tr>\n",
       "  </tbody>\n",
       "</table>\n",
       "<p>142 rows × 12 columns</p>\n",
       "</div>"
      ],
      "text/plain": [
       "year                  1952    1957    1962    1967    1972    1977    1982  \\\n",
       "country                                                                      \n",
       "Afghanistan         28.801  30.332  31.997  34.020  36.088  38.438  39.854   \n",
       "Albania             55.230  59.280  64.820  66.220  67.690  68.930  70.420   \n",
       "Algeria             43.077  45.685  48.303  51.407  54.518  58.014  61.368   \n",
       "Angola              30.015  31.999  34.000  35.985  37.928  39.483  39.942   \n",
       "Argentina           62.485  64.399  65.142  65.634  67.065  68.481  69.942   \n",
       "...                    ...     ...     ...     ...     ...     ...     ...   \n",
       "Vietnam             40.412  42.887  45.363  47.838  50.254  55.764  58.816   \n",
       "West Bank and Gaza  43.160  45.671  48.127  51.631  56.532  60.765  64.406   \n",
       "Yemen Rep.          32.548  33.970  35.180  36.984  39.848  44.175  49.113   \n",
       "Zambia              42.038  44.077  46.023  47.768  50.107  51.386  51.821   \n",
       "Zimbabwe            48.451  50.469  52.358  53.995  55.635  57.674  60.363   \n",
       "\n",
       "year                  1987    1992    1997    2002    2007  \n",
       "country                                                     \n",
       "Afghanistan         40.822  41.674  41.763  42.129  43.828  \n",
       "Albania             72.000  71.581  72.950  75.651  76.423  \n",
       "Algeria             65.799  67.744  69.152  70.994  72.301  \n",
       "Angola              39.906  40.647  40.963  41.003  42.731  \n",
       "Argentina           70.774  71.868  73.275  74.340  75.320  \n",
       "...                    ...     ...     ...     ...     ...  \n",
       "Vietnam             62.820  67.662  70.672  73.017  74.249  \n",
       "West Bank and Gaza  67.046  69.718  71.096  72.370  73.422  \n",
       "Yemen Rep.          52.922  55.599  58.020  60.308  62.698  \n",
       "Zambia              50.821  46.100  40.238  39.193  42.384  \n",
       "Zimbabwe            62.351  60.377  46.809  39.989  43.487  \n",
       "\n",
       "[142 rows x 12 columns]"
      ]
     },
     "execution_count": 122,
     "metadata": {},
     "output_type": "execute_result"
    }
   ],
   "source": [
    "lifeExp_by_country_over_time"
   ]
  },
  {
   "cell_type": "code",
   "execution_count": 124,
   "metadata": {},
   "outputs": [
    {
     "data": {
      "text/plain": [
       "<matplotlib.axes._subplots.AxesSubplot at 0x120b39470>"
      ]
     },
     "execution_count": 124,
     "metadata": {},
     "output_type": "execute_result"
    },
    {
     "data": {
      "image/png": "[encoded data removed]",
      "text/plain": [
       "<Figure size 432x288 with 1 Axes>"
      ]
     },
     "metadata": {
      "needs_background": "light"
     },
     "output_type": "display_data"
    }
   ],
   "source": [
    "lifeExp_by_country_over_time.plot()"
   ]
  },
  {
   "cell_type": "code",
   "execution_count": 125,
   "metadata": {},
   "outputs": [],
   "source": [
    "lifeExp_over_time_by_country = lifeExp_by_country_over_time.T"
   ]
  },
  {
   "cell_type": "code",
   "execution_count": 126,
   "metadata": {},
   "outputs": [
    {
     "data": {
      "text/html": [
       "<div>\n",
       "<style scoped>\n",
       "    .dataframe tbody tr th:only-of-type {\n",
       "        vertical-align: middle;\n",
       "    }\n",
       "\n",
       "    .dataframe tbody tr th {\n",
       "        vertical-align: top;\n",
       "    }\n",
       "\n",
       "    .dataframe thead th {\n",
       "        text-align: right;\n",
       "    }\n",
       "</style>\n",
       "<table border=\"1\" class=\"dataframe\">\n",
       "  <thead>\n",
       "    <tr style=\"text-align: right;\">\n",
       "      <th>country</th>\n",
       "      <th>Afghanistan</th>\n",
       "      <th>Albania</th>\n",
       "      <th>Algeria</th>\n",
       "      <th>Angola</th>\n",
       "      <th>Argentina</th>\n",
       "      <th>Australia</th>\n",
       "      <th>Austria</th>\n",
       "      <th>Bahrain</th>\n",
       "      <th>Bangladesh</th>\n",
       "      <th>Belgium</th>\n",
       "      <th>...</th>\n",
       "      <th>Uganda</th>\n",
       "      <th>United Kingdom</th>\n",
       "      <th>United States</th>\n",
       "      <th>Uruguay</th>\n",
       "      <th>Venezuela</th>\n",
       "      <th>Vietnam</th>\n",
       "      <th>West Bank and Gaza</th>\n",
       "      <th>Yemen Rep.</th>\n",
       "      <th>Zambia</th>\n",
       "      <th>Zimbabwe</th>\n",
       "    </tr>\n",
       "    <tr>\n",
       "      <th>year</th>\n",
       "      <th></th>\n",
       "      <th></th>\n",
       "      <th></th>\n",
       "      <th></th>\n",
       "      <th></th>\n",
       "      <th></th>\n",
       "      <th></th>\n",
       "      <th></th>\n",
       "      <th></th>\n",
       "      <th></th>\n",
       "      <th></th>\n",
       "      <th></th>\n",
       "      <th></th>\n",
       "      <th></th>\n",
       "      <th></th>\n",
       "      <th></th>\n",
       "      <th></th>\n",
       "      <th></th>\n",
       "      <th></th>\n",
       "      <th></th>\n",
       "      <th></th>\n",
       "    </tr>\n",
       "  </thead>\n",
       "  <tbody>\n",
       "    <tr>\n",
       "      <th>1952</th>\n",
       "      <td>28.801</td>\n",
       "      <td>55.230</td>\n",
       "      <td>43.077</td>\n",
       "      <td>30.015</td>\n",
       "      <td>62.485</td>\n",
       "      <td>69.120</td>\n",
       "      <td>66.800</td>\n",
       "      <td>50.939</td>\n",
       "      <td>37.484</td>\n",
       "      <td>68.000</td>\n",
       "      <td>...</td>\n",
       "      <td>39.978</td>\n",
       "      <td>69.180</td>\n",
       "      <td>68.440</td>\n",
       "      <td>66.071</td>\n",
       "      <td>55.088</td>\n",
       "      <td>40.412</td>\n",
       "      <td>43.160</td>\n",
       "      <td>32.548</td>\n",
       "      <td>42.038</td>\n",
       "      <td>48.451</td>\n",
       "    </tr>\n",
       "    <tr>\n",
       "      <th>1957</th>\n",
       "      <td>30.332</td>\n",
       "      <td>59.280</td>\n",
       "      <td>45.685</td>\n",
       "      <td>31.999</td>\n",
       "      <td>64.399</td>\n",
       "      <td>70.330</td>\n",
       "      <td>67.480</td>\n",
       "      <td>53.832</td>\n",
       "      <td>39.348</td>\n",
       "      <td>69.240</td>\n",
       "      <td>...</td>\n",
       "      <td>42.571</td>\n",
       "      <td>70.420</td>\n",
       "      <td>69.490</td>\n",
       "      <td>67.044</td>\n",
       "      <td>57.907</td>\n",
       "      <td>42.887</td>\n",
       "      <td>45.671</td>\n",
       "      <td>33.970</td>\n",
       "      <td>44.077</td>\n",
       "      <td>50.469</td>\n",
       "    </tr>\n",
       "    <tr>\n",
       "      <th>1962</th>\n",
       "      <td>31.997</td>\n",
       "      <td>64.820</td>\n",
       "      <td>48.303</td>\n",
       "      <td>34.000</td>\n",
       "      <td>65.142</td>\n",
       "      <td>70.930</td>\n",
       "      <td>69.540</td>\n",
       "      <td>56.923</td>\n",
       "      <td>41.216</td>\n",
       "      <td>70.250</td>\n",
       "      <td>...</td>\n",
       "      <td>45.344</td>\n",
       "      <td>70.760</td>\n",
       "      <td>70.210</td>\n",
       "      <td>68.253</td>\n",
       "      <td>60.770</td>\n",
       "      <td>45.363</td>\n",
       "      <td>48.127</td>\n",
       "      <td>35.180</td>\n",
       "      <td>46.023</td>\n",
       "      <td>52.358</td>\n",
       "    </tr>\n",
       "    <tr>\n",
       "      <th>1967</th>\n",
       "      <td>34.020</td>\n",
       "      <td>66.220</td>\n",
       "      <td>51.407</td>\n",
       "      <td>35.985</td>\n",
       "      <td>65.634</td>\n",
       "      <td>71.100</td>\n",
       "      <td>70.140</td>\n",
       "      <td>59.923</td>\n",
       "      <td>43.453</td>\n",
       "      <td>70.940</td>\n",
       "      <td>...</td>\n",
       "      <td>48.051</td>\n",
       "      <td>71.360</td>\n",
       "      <td>70.760</td>\n",
       "      <td>68.468</td>\n",
       "      <td>63.479</td>\n",
       "      <td>47.838</td>\n",
       "      <td>51.631</td>\n",
       "      <td>36.984</td>\n",
       "      <td>47.768</td>\n",
       "      <td>53.995</td>\n",
       "    </tr>\n",
       "    <tr>\n",
       "      <th>1972</th>\n",
       "      <td>36.088</td>\n",
       "      <td>67.690</td>\n",
       "      <td>54.518</td>\n",
       "      <td>37.928</td>\n",
       "      <td>67.065</td>\n",
       "      <td>71.930</td>\n",
       "      <td>70.630</td>\n",
       "      <td>63.300</td>\n",
       "      <td>45.252</td>\n",
       "      <td>71.440</td>\n",
       "      <td>...</td>\n",
       "      <td>51.016</td>\n",
       "      <td>72.010</td>\n",
       "      <td>71.340</td>\n",
       "      <td>68.673</td>\n",
       "      <td>65.712</td>\n",
       "      <td>50.254</td>\n",
       "      <td>56.532</td>\n",
       "      <td>39.848</td>\n",
       "      <td>50.107</td>\n",
       "      <td>55.635</td>\n",
       "    </tr>\n",
       "    <tr>\n",
       "      <th>1977</th>\n",
       "      <td>38.438</td>\n",
       "      <td>68.930</td>\n",
       "      <td>58.014</td>\n",
       "      <td>39.483</td>\n",
       "      <td>68.481</td>\n",
       "      <td>73.490</td>\n",
       "      <td>72.170</td>\n",
       "      <td>65.593</td>\n",
       "      <td>46.923</td>\n",
       "      <td>72.800</td>\n",
       "      <td>...</td>\n",
       "      <td>50.350</td>\n",
       "      <td>72.760</td>\n",
       "      <td>73.380</td>\n",
       "      <td>69.481</td>\n",
       "      <td>67.456</td>\n",
       "      <td>55.764</td>\n",
       "      <td>60.765</td>\n",
       "      <td>44.175</td>\n",
       "      <td>51.386</td>\n",
       "      <td>57.674</td>\n",
       "    </tr>\n",
       "    <tr>\n",
       "      <th>1982</th>\n",
       "      <td>39.854</td>\n",
       "      <td>70.420</td>\n",
       "      <td>61.368</td>\n",
       "      <td>39.942</td>\n",
       "      <td>69.942</td>\n",
       "      <td>74.740</td>\n",
       "      <td>73.180</td>\n",
       "      <td>69.052</td>\n",
       "      <td>50.009</td>\n",
       "      <td>73.930</td>\n",
       "      <td>...</td>\n",
       "      <td>49.849</td>\n",
       "      <td>74.040</td>\n",
       "      <td>74.650</td>\n",
       "      <td>70.805</td>\n",
       "      <td>68.557</td>\n",
       "      <td>58.816</td>\n",
       "      <td>64.406</td>\n",
       "      <td>49.113</td>\n",
       "      <td>51.821</td>\n",
       "      <td>60.363</td>\n",
       "    </tr>\n",
       "    <tr>\n",
       "      <th>1987</th>\n",
       "      <td>40.822</td>\n",
       "      <td>72.000</td>\n",
       "      <td>65.799</td>\n",
       "      <td>39.906</td>\n",
       "      <td>70.774</td>\n",
       "      <td>76.320</td>\n",
       "      <td>74.940</td>\n",
       "      <td>70.750</td>\n",
       "      <td>52.819</td>\n",
       "      <td>75.350</td>\n",
       "      <td>...</td>\n",
       "      <td>51.509</td>\n",
       "      <td>75.007</td>\n",
       "      <td>75.020</td>\n",
       "      <td>71.918</td>\n",
       "      <td>70.190</td>\n",
       "      <td>62.820</td>\n",
       "      <td>67.046</td>\n",
       "      <td>52.922</td>\n",
       "      <td>50.821</td>\n",
       "      <td>62.351</td>\n",
       "    </tr>\n",
       "    <tr>\n",
       "      <th>1992</th>\n",
       "      <td>41.674</td>\n",
       "      <td>71.581</td>\n",
       "      <td>67.744</td>\n",
       "      <td>40.647</td>\n",
       "      <td>71.868</td>\n",
       "      <td>77.560</td>\n",
       "      <td>76.040</td>\n",
       "      <td>72.601</td>\n",
       "      <td>56.018</td>\n",
       "      <td>76.460</td>\n",
       "      <td>...</td>\n",
       "      <td>48.825</td>\n",
       "      <td>76.420</td>\n",
       "      <td>76.090</td>\n",
       "      <td>72.752</td>\n",
       "      <td>71.150</td>\n",
       "      <td>67.662</td>\n",
       "      <td>69.718</td>\n",
       "      <td>55.599</td>\n",
       "      <td>46.100</td>\n",
       "      <td>60.377</td>\n",
       "    </tr>\n",
       "    <tr>\n",
       "      <th>1997</th>\n",
       "      <td>41.763</td>\n",
       "      <td>72.950</td>\n",
       "      <td>69.152</td>\n",
       "      <td>40.963</td>\n",
       "      <td>73.275</td>\n",
       "      <td>78.830</td>\n",
       "      <td>77.510</td>\n",
       "      <td>73.925</td>\n",
       "      <td>59.412</td>\n",
       "      <td>77.530</td>\n",
       "      <td>...</td>\n",
       "      <td>44.578</td>\n",
       "      <td>77.218</td>\n",
       "      <td>76.810</td>\n",
       "      <td>74.223</td>\n",
       "      <td>72.146</td>\n",
       "      <td>70.672</td>\n",
       "      <td>71.096</td>\n",
       "      <td>58.020</td>\n",
       "      <td>40.238</td>\n",
       "      <td>46.809</td>\n",
       "    </tr>\n",
       "    <tr>\n",
       "      <th>2002</th>\n",
       "      <td>42.129</td>\n",
       "      <td>75.651</td>\n",
       "      <td>70.994</td>\n",
       "      <td>41.003</td>\n",
       "      <td>74.340</td>\n",
       "      <td>80.370</td>\n",
       "      <td>78.980</td>\n",
       "      <td>74.795</td>\n",
       "      <td>62.013</td>\n",
       "      <td>78.320</td>\n",
       "      <td>...</td>\n",
       "      <td>47.813</td>\n",
       "      <td>78.471</td>\n",
       "      <td>77.310</td>\n",
       "      <td>75.307</td>\n",
       "      <td>72.766</td>\n",
       "      <td>73.017</td>\n",
       "      <td>72.370</td>\n",
       "      <td>60.308</td>\n",
       "      <td>39.193</td>\n",
       "      <td>39.989</td>\n",
       "    </tr>\n",
       "    <tr>\n",
       "      <th>2007</th>\n",
       "      <td>43.828</td>\n",
       "      <td>76.423</td>\n",
       "      <td>72.301</td>\n",
       "      <td>42.731</td>\n",
       "      <td>75.320</td>\n",
       "      <td>81.235</td>\n",
       "      <td>79.829</td>\n",
       "      <td>75.635</td>\n",
       "      <td>64.062</td>\n",
       "      <td>79.441</td>\n",
       "      <td>...</td>\n",
       "      <td>51.542</td>\n",
       "      <td>79.425</td>\n",
       "      <td>78.242</td>\n",
       "      <td>76.384</td>\n",
       "      <td>73.747</td>\n",
       "      <td>74.249</td>\n",
       "      <td>73.422</td>\n",
       "      <td>62.698</td>\n",
       "      <td>42.384</td>\n",
       "      <td>43.487</td>\n",
       "    </tr>\n",
       "  </tbody>\n",
       "</table>\n",
       "<p>12 rows × 142 columns</p>\n",
       "</div>"
      ],
      "text/plain": [
       "country  Afghanistan  Albania  Algeria  Angola  Argentina  Australia  Austria  \\\n",
       "year                                                                            \n",
       "1952          28.801   55.230   43.077  30.015     62.485     69.120   66.800   \n",
       "1957          30.332   59.280   45.685  31.999     64.399     70.330   67.480   \n",
       "1962          31.997   64.820   48.303  34.000     65.142     70.930   69.540   \n",
       "1967          34.020   66.220   51.407  35.985     65.634     71.100   70.140   \n",
       "1972          36.088   67.690   54.518  37.928     67.065     71.930   70.630   \n",
       "1977          38.438   68.930   58.014  39.483     68.481     73.490   72.170   \n",
       "1982          39.854   70.420   61.368  39.942     69.942     74.740   73.180   \n",
       "1987          40.822   72.000   65.799  39.906     70.774     76.320   74.940   \n",
       "1992          41.674   71.581   67.744  40.647     71.868     77.560   76.040   \n",
       "1997          41.763   72.950   69.152  40.963     73.275     78.830   77.510   \n",
       "2002          42.129   75.651   70.994  41.003     74.340     80.370   78.980   \n",
       "2007          43.828   76.423   72.301  42.731     75.320     81.235   79.829   \n",
       "\n",
       "country  Bahrain  Bangladesh  Belgium  ...  Uganda  United Kingdom  \\\n",
       "year                                   ...                           \n",
       "1952      50.939      37.484   68.000  ...  39.978          69.180   \n",
       "1957      53.832      39.348   69.240  ...  42.571          70.420   \n",
       "1962      56.923      41.216   70.250  ...  45.344          70.760   \n",
       "1967      59.923      43.453   70.940  ...  48.051          71.360   \n",
       "1972      63.300      45.252   71.440  ...  51.016          72.010   \n",
       "1977      65.593      46.923   72.800  ...  50.350          72.760   \n",
       "1982      69.052      50.009   73.930  ...  49.849          74.040   \n",
       "1987      70.750      52.819   75.350  ...  51.509          75.007   \n",
       "1992      72.601      56.018   76.460  ...  48.825          76.420   \n",
       "1997      73.925      59.412   77.530  ...  44.578          77.218   \n",
       "2002      74.795      62.013   78.320  ...  47.813          78.471   \n",
       "2007      75.635      64.062   79.441  ...  51.542          79.425   \n",
       "\n",
       "country  United States  Uruguay  Venezuela  Vietnam  West Bank and Gaza  \\\n",
       "year                                                                      \n",
       "1952            68.440   66.071     55.088   40.412              43.160   \n",
       "1957            69.490   67.044     57.907   42.887              45.671   \n",
       "1962            70.210   68.253     60.770   45.363              48.127   \n",
       "1967            70.760   68.468     63.479   47.838              51.631   \n",
       "1972            71.340   68.673     65.712   50.254              56.532   \n",
       "1977            73.380   69.481     67.456   55.764              60.765   \n",
       "1982            74.650   70.805     68.557   58.816              64.406   \n",
       "1987            75.020   71.918     70.190   62.820              67.046   \n",
       "1992            76.090   72.752     71.150   67.662              69.718   \n",
       "1997            76.810   74.223     72.146   70.672              71.096   \n",
       "2002            77.310   75.307     72.766   73.017              72.370   \n",
       "2007            78.242   76.384     73.747   74.249              73.422   \n",
       "\n",
       "country  Yemen Rep.  Zambia  Zimbabwe  \n",
       "year                                   \n",
       "1952         32.548  42.038    48.451  \n",
       "1957         33.970  44.077    50.469  \n",
       "1962         35.180  46.023    52.358  \n",
       "1967         36.984  47.768    53.995  \n",
       "1972         39.848  50.107    55.635  \n",
       "1977         44.175  51.386    57.674  \n",
       "1982         49.113  51.821    60.363  \n",
       "1987         52.922  50.821    62.351  \n",
       "1992         55.599  46.100    60.377  \n",
       "1997         58.020  40.238    46.809  \n",
       "2002         60.308  39.193    39.989  \n",
       "2007         62.698  42.384    43.487  \n",
       "\n",
       "[12 rows x 142 columns]"
      ]
     },
     "execution_count": 126,
     "metadata": {},
     "output_type": "execute_result"
    }
   ],
   "source": [
    "lifeExp_over_time_by_country"
   ]
  },
  {
   "cell_type": "code",
   "execution_count": 141,
   "metadata": {},
   "outputs": [
    {
     "data": {
      "text/plain": [
       "<matplotlib.axes._subplots.AxesSubplot at 0x124dec080>"
      ]
     },
     "execution_count": 141,
     "metadata": {},
     "output_type": "execute_result"
    },
    {
     "data": {
      "image/png": "[encoded data removed]",
      "text/plain": [
       "<Figure size 432x288 with 1 Axes>"
      ]
     },
     "metadata": {},
     "output_type": "display_data"
    }
   ],
   "source": [
    "lifeExp_over_time_by_country.plot(legend=None)"
   ]
  },
  {
   "cell_type": "code",
   "execution_count": 128,
   "metadata": {},
   "outputs": [
    {
     "data": {
      "text/plain": [
       "<matplotlib.axes._subplots.AxesSubplot at 0x122e79588>"
      ]
     },
     "execution_count": 128,
     "metadata": {},
     "output_type": "execute_result"
    },
    {
     "data": {
      "image/png": "[encoded data removed]",
      "text/plain": [
       "<Figure size 432x288 with 1 Axes>"
      ]
     },
     "metadata": {
      "needs_background": "light"
     },
     "output_type": "display_data"
    }
   ],
   "source": [
    "lifeExp_over_time_by_country[['Afghanistan','Germany']].plot()"
   ]
  },
  {
   "cell_type": "code",
   "execution_count": 129,
   "metadata": {},
   "outputs": [],
   "source": [
    "import matplotlib.pyplot as plt\n",
    "plt.style.use('ggplot')"
   ]
  },
  {
   "cell_type": "code",
   "execution_count": 130,
   "metadata": {},
   "outputs": [
    {
     "data": {
      "text/plain": [
       "<matplotlib.axes._subplots.AxesSubplot at 0x1102f4048>"
      ]
     },
     "execution_count": 130,
     "metadata": {},
     "output_type": "execute_result"
    },
    {
     "data": {
      "image/png": "[encoded data removed]",
      "text/plain": [
       "<Figure size 432x288 with 1 Axes>"
      ]
     },
     "metadata": {},
     "output_type": "display_data"
    }
   ],
   "source": [
    "lifeExp_over_time_by_country[['Afghanistan','Germany']].plot()"
   ]
  },
  {
   "cell_type": "code",
   "execution_count": 132,
   "metadata": {},
   "outputs": [
    {
     "data": {
      "text/plain": [
       "<matplotlib.axes._subplots.AxesSubplot at 0x110364668>"
      ]
     },
     "execution_count": 132,
     "metadata": {},
     "output_type": "execute_result"
    },
    {
     "data": {
      "image/png": "[encoded data removed]",
      "text/plain": [
       "<Figure size 432x288 with 1 Axes>"
      ]
     },
     "metadata": {},
     "output_type": "display_data"
    }
   ],
   "source": [
    "lifeExp_over_time_by_country[['Afghanistan','Germany']].plot(kind='bar')"
   ]
  },
  {
   "cell_type": "code",
   "execution_count": 133,
   "metadata": {},
   "outputs": [
    {
     "data": {
      "text/html": [
       "<div>\n",
       "<style scoped>\n",
       "    .dataframe tbody tr th:only-of-type {\n",
       "        vertical-align: middle;\n",
       "    }\n",
       "\n",
       "    .dataframe tbody tr th {\n",
       "        vertical-align: top;\n",
       "    }\n",
       "\n",
       "    .dataframe thead th {\n",
       "        text-align: right;\n",
       "    }\n",
       "</style>\n",
       "<table border=\"1\" class=\"dataframe\">\n",
       "  <thead>\n",
       "    <tr style=\"text-align: right;\">\n",
       "      <th></th>\n",
       "      <th>country</th>\n",
       "      <th>year</th>\n",
       "      <th>pop</th>\n",
       "      <th>continent</th>\n",
       "      <th>lifeExp</th>\n",
       "      <th>gdpPercap</th>\n",
       "    </tr>\n",
       "  </thead>\n",
       "  <tbody>\n",
       "    <tr>\n",
       "      <th>0</th>\n",
       "      <td>Afghanistan</td>\n",
       "      <td>1952</td>\n",
       "      <td>8425333.0</td>\n",
       "      <td>Asia</td>\n",
       "      <td>28.801</td>\n",
       "      <td>779.445314</td>\n",
       "    </tr>\n",
       "    <tr>\n",
       "      <th>1</th>\n",
       "      <td>Afghanistan</td>\n",
       "      <td>1957</td>\n",
       "      <td>9240934.0</td>\n",
       "      <td>Asia</td>\n",
       "      <td>30.332</td>\n",
       "      <td>820.853030</td>\n",
       "    </tr>\n",
       "    <tr>\n",
       "      <th>2</th>\n",
       "      <td>Afghanistan</td>\n",
       "      <td>1962</td>\n",
       "      <td>10267083.0</td>\n",
       "      <td>Asia</td>\n",
       "      <td>31.997</td>\n",
       "      <td>853.100710</td>\n",
       "    </tr>\n",
       "    <tr>\n",
       "      <th>3</th>\n",
       "      <td>Afghanistan</td>\n",
       "      <td>1967</td>\n",
       "      <td>11537966.0</td>\n",
       "      <td>Asia</td>\n",
       "      <td>34.020</td>\n",
       "      <td>836.197138</td>\n",
       "    </tr>\n",
       "    <tr>\n",
       "      <th>4</th>\n",
       "      <td>Afghanistan</td>\n",
       "      <td>1972</td>\n",
       "      <td>13079460.0</td>\n",
       "      <td>Asia</td>\n",
       "      <td>36.088</td>\n",
       "      <td>739.981106</td>\n",
       "    </tr>\n",
       "  </tbody>\n",
       "</table>\n",
       "</div>"
      ],
      "text/plain": [
       "       country  year         pop continent  lifeExp   gdpPercap\n",
       "0  Afghanistan  1952   8425333.0      Asia   28.801  779.445314\n",
       "1  Afghanistan  1957   9240934.0      Asia   30.332  820.853030\n",
       "2  Afghanistan  1962  10267083.0      Asia   31.997  853.100710\n",
       "3  Afghanistan  1967  11537966.0      Asia   34.020  836.197138\n",
       "4  Afghanistan  1972  13079460.0      Asia   36.088  739.981106"
      ]
     },
     "execution_count": 133,
     "metadata": {},
     "output_type": "execute_result"
    }
   ],
   "source": [
    "data.head()"
   ]
  },
  {
   "cell_type": "code",
   "execution_count": 134,
   "metadata": {},
   "outputs": [
    {
     "data": {
      "text/plain": [
       "<matplotlib.axes._subplots.AxesSubplot at 0x1234d23c8>"
      ]
     },
     "execution_count": 134,
     "metadata": {},
     "output_type": "execute_result"
    },
    {
     "data": {
      "image/png": "[encoded data removed]",
      "text/plain": [
       "<Figure size 432x288 with 1 Axes>"
      ]
     },
     "metadata": {},
     "output_type": "display_data"
    }
   ],
   "source": [
    "data.plot(kind='scatter',x='lifeExp',y='gdpPercap')"
   ]
  },
  {
   "cell_type": "code",
   "execution_count": 135,
   "metadata": {},
   "outputs": [
    {
     "data": {
      "text/plain": [
       "<matplotlib.axes._subplots.AxesSubplot at 0x122eca358>"
      ]
     },
     "execution_count": 135,
     "metadata": {},
     "output_type": "execute_result"
    },
    {
     "data": {
      "image/png": "[encoded data removed]",
      "text/plain": [
       "<Figure size 432x288 with 1 Axes>"
      ]
     },
     "metadata": {},
     "output_type": "display_data"
    }
   ],
   "source": [
    "data.plot(kind='scatter',x='lifeExp',y='gdpPercap',logy=True)"
   ]
  },
  {
   "cell_type": "code",
   "execution_count": 140,
   "metadata": {},
   "outputs": [
    {
     "data": {
      "image/png": "[encoded data removed]",
      "text/plain": [
       "<Figure size 720x720 with 1 Axes>"
      ]
     },
     "metadata": {},
     "output_type": "display_data"
    }
   ],
   "source": [
    "data.plot(kind='scatter',x='lifeExp',y='gdpPercap',logy=True,figsize=(10,10),title='Life Expectancy vs Log(GDP Per Capita)',ylim=[1,1e4])\n",
    "plt.savefig('LifeExpectancyvsLogGDPPlot.png')"
   ]
  },
  {
   "cell_type": "code",
   "execution_count": null,
   "metadata": {},
   "outputs": [],
   "source": []
  },
  {
   "cell_type": "code",
   "execution_count": 142,
   "metadata": {},
   "outputs": [
    {
     "data": {
      "text/plain": [
       "8"
      ]
     },
     "execution_count": 142,
     "metadata": {},
     "output_type": "execute_result"
    }
   ],
   "source": [
    "3+5"
   ]
  },
  {
   "cell_type": "code",
   "execution_count": null,
   "metadata": {},
   "outputs": [],
   "source": []
  }
 ],
 "metadata": {
  "kernelspec": {
   "display_name": "Python 3",
   "language": "python",
   "name": "python3"
  },
  "language_info": {
   "codemirror_mode": {
    "name": "ipython",
    "version": 3
   },
   "file_extension": ".py",
   "mimetype": "text/x-python",
   "name": "python",
   "nbconvert_exporter": "python",
   "pygments_lexer": "ipython3",
   "version": "3.6.9"
  }
 },
 "nbformat": 4,
 "nbformat_minor": 2
}
