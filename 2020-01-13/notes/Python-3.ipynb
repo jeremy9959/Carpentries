{
 "cells": [
  {
   "cell_type": "markdown",
   "metadata": {},
   "source": [
    "# A few more notes on lists"
   ]
  },
  {
   "cell_type": "markdown",
   "metadata": {},
   "source": [
    "## methods vs functions\n",
    "\n",
    "- methods act on a list in place\n",
    "  - append ```L.append(x)```\n",
    "  - del  ```del L[3]```\n",
    "  - sort  ```L.sort()```\n",
    " \n",
    "- functions create a new list, leaving the original one alone\n",
    "\n",
    "   - S = L + [x]\n",
    "   - Y = sorted(L)\n",
    "  "
   ]
  },
  {
   "cell_type": "code",
   "execution_count": 32,
   "metadata": {},
   "outputs": [
    {
     "name": "stdout",
     "output_type": "stream",
     "text": [
      "returned value =  None original =  [2, 3, 5, 7, 11, 13, 17, 19, 23]\n"
     ]
    }
   ],
   "source": [
    "primes = [2,3,5,7,11,13,17,19]\n",
    "new = primes.append(23)\n",
    "print('returned value = ',new,'original = ',primes)"
   ]
  },
  {
   "cell_type": "code",
   "execution_count": 31,
   "metadata": {},
   "outputs": [
    {
     "name": "stdout",
     "output_type": "stream",
     "text": [
      "returned value =  [2, 3, 5, 7, 11, 13, 17, 19, 23] original =  [2, 3, 5, 7, 11, 13, 17, 19]\n"
     ]
    }
   ],
   "source": [
    "primes = [2,3,5,7,11,13,17,19]\n",
    "new = primes + [23]\n",
    "print('returned value = ',new,'original = ',primes)"
   ]
  },
  {
   "cell_type": "code",
   "execution_count": 4,
   "metadata": {},
   "outputs": [],
   "source": [
    "del primes[3]"
   ]
  },
  {
   "cell_type": "code",
   "execution_count": 5,
   "metadata": {},
   "outputs": [
    {
     "data": {
      "text/plain": [
       "[2, 3, 5, 11, 13, 17, 19, 23]"
      ]
     },
     "execution_count": 5,
     "metadata": {},
     "output_type": "execute_result"
    }
   ],
   "source": [
    "primes"
   ]
  },
  {
   "cell_type": "code",
   "execution_count": 41,
   "metadata": {},
   "outputs": [
    {
     "name": "stdout",
     "output_type": "stream",
     "text": [
      "returned value =  None original =  [19, 17, 13, 11, 7, 5, 3, 2]\n"
     ]
    }
   ],
   "source": [
    "primes = [2,3,5,7,11,13,17,19]\n",
    "new = primes.sort(reverse=True)\n",
    "print('returned value = ',new,'original = ',primes)"
   ]
  },
  {
   "cell_type": "code",
   "execution_count": 38,
   "metadata": {},
   "outputs": [
    {
     "name": "stdout",
     "output_type": "stream",
     "text": [
      "returned value =  [19, 17, 13, 11, 7, 5, 3, 2] original =  [2, 3, 5, 7, 11, 13, 17, 19]\n"
     ]
    }
   ],
   "source": [
    "primes = [2,3,5,7,11,13,17,19]\n",
    "new= sorted(primes,reverse=True)\n",
    "print('returned value = ',new,'original = ',primes)"
   ]
  },
  {
   "cell_type": "markdown",
   "metadata": {},
   "source": [
    "## copying\n",
    "- if L is a list, then setting S=L creates a new NAME (S) for L, but not a new object\n",
    "- If you apply an operation to L, then you get a new element.  "
   ]
  },
  {
   "cell_type": "code",
   "execution_count": 53,
   "metadata": {},
   "outputs": [
    {
     "name": "stdout",
     "output_type": "stream",
     "text": [
      "[2, 3, 5, 7, 11, 13, 17, 19, 23]\n"
     ]
    }
   ],
   "source": [
    "primes = [2,3,5,7,11,13,17,19]\n",
    "S = primes\n",
    "primes.append(23)\n",
    "print(S)"
   ]
  },
  {
   "cell_type": "markdown",
   "metadata": {},
   "source": [
    "taking a slice is one way to force a copy"
   ]
  },
  {
   "cell_type": "code",
   "execution_count": 55,
   "metadata": {},
   "outputs": [
    {
     "name": "stdout",
     "output_type": "stream",
     "text": [
      "[2, 3, 5, 7, 11, 13, 17, 19]\n"
     ]
    }
   ],
   "source": [
    "primes = [2,3,5,7,11,13,17,19]\n",
    "S = primes[:]\n",
    "primes.append(23)\n",
    "print(S)"
   ]
  },
  {
   "cell_type": "markdown",
   "metadata": {},
   "source": [
    "so is using the .copy() method"
   ]
  },
  {
   "cell_type": "code",
   "execution_count": 59,
   "metadata": {},
   "outputs": [
    {
     "name": "stdout",
     "output_type": "stream",
     "text": [
      "[2, 3, 5, 7, 11, 13, 17, 19] [2, 3, 5, 7, 11, 13, 17, 19, 23]\n"
     ]
    }
   ],
   "source": [
    "primes = [2,3,5,7,11,13,17,19]\n",
    "S = primes.copy()\n",
    "primes.append(23)\n",
    "print(S,primes)"
   ]
  },
  {
   "cell_type": "markdown",
   "metadata": {},
   "source": [
    "# lists and strings\n",
    "\n",
    "- list\n",
    "- join and split"
   ]
  },
  {
   "cell_type": "code",
   "execution_count": 11,
   "metadata": {},
   "outputs": [
    {
     "data": {
      "text/plain": [
       "'a,b,c'"
      ]
     },
     "execution_count": 11,
     "metadata": {},
     "output_type": "execute_result"
    }
   ],
   "source": [
    "','.join(['a','b','c'])"
   ]
  },
  {
   "cell_type": "code",
   "execution_count": 12,
   "metadata": {},
   "outputs": [
    {
     "data": {
      "text/plain": [
       "['A', 'B', 'C', 'D', 'E', 'F']"
      ]
     },
     "execution_count": 12,
     "metadata": {},
     "output_type": "execute_result"
    }
   ],
   "source": [
    "list('ABCDEF')"
   ]
  },
  {
   "cell_type": "code",
   "execution_count": 15,
   "metadata": {},
   "outputs": [
    {
     "name": "stdout",
     "output_type": "stream",
     "text": [
      "A,B,C,D,E,F\n"
     ]
    }
   ],
   "source": [
    "commas = ','.join(list('ABCDEF'))\n",
    "print(commas)"
   ]
  },
  {
   "cell_type": "code",
   "execution_count": 16,
   "metadata": {},
   "outputs": [
    {
     "data": {
      "text/plain": [
       "['A', 'B', 'C', 'D', 'E', 'F']"
      ]
     },
     "execution_count": 16,
     "metadata": {},
     "output_type": "execute_result"
    }
   ],
   "source": [
    "commas.split(',')"
   ]
  },
  {
   "cell_type": "code",
   "execution_count": 19,
   "metadata": {},
   "outputs": [],
   "source": [
    "data = \".5,.2,1.8,17,21\""
   ]
  },
  {
   "cell_type": "code",
   "execution_count": 23,
   "metadata": {},
   "outputs": [
    {
     "data": {
      "text/plain": [
       "['.5', '.2', '1.8', '17', '21']"
      ]
     },
     "execution_count": 23,
     "metadata": {},
     "output_type": "execute_result"
    }
   ],
   "source": [
    "data.split(',')"
   ]
  },
  {
   "cell_type": "code",
   "execution_count": 25,
   "metadata": {},
   "outputs": [
    {
     "name": "stdout",
     "output_type": "stream",
     "text": [
      ".5\t.2\t1.8\t17\t21\n"
     ]
    }
   ],
   "source": [
    "print('\\t'.join(data.split(',')))"
   ]
  },
  {
   "cell_type": "markdown",
   "metadata": {},
   "source": [
    "# Iteration\n",
    "\n",
    "- iteration means doing an operation repeatedly with varying parameters\n",
    "- the ```for``` keyword is the fundamental iterator in python\n",
    "- **INDENTATION MATTERS IN PYTHON SYNTAX**\n",
    "    - you can indent using tabs or spaces, but blocks must line up\n",
    "    - notice the colon at the end of the first line"
   ]
  },
  {
   "cell_type": "code",
   "execution_count": 62,
   "metadata": {},
   "outputs": [
    {
     "name": "stdout",
     "output_type": "stream",
     "text": [
      "2 is a prime\n",
      "4 is its square\n",
      "3 is a prime\n",
      "9 is its square\n",
      "5 is a prime\n",
      "25 is its square\n",
      "7 is a prime\n",
      "49 is its square\n",
      "11 is a prime\n",
      "121 is its square\n",
      "13 is a prime\n",
      "169 is its square\n",
      "17 is a prime\n",
      "289 is its square\n",
      "19 is a prime\n",
      "361 is its square\n"
     ]
    }
   ],
   "source": [
    "for x in [2,3,5,7,11,13,17,19]:\n",
    "    print(x,'is a prime')\n",
    "    print(x**2,'is its square')"
   ]
  },
  {
   "cell_type": "code",
   "execution_count": 64,
   "metadata": {},
   "outputs": [
    {
     "ename": "IndentationError",
     "evalue": "unexpected indent (<ipython-input-64-36ca985a007c>, line 3)",
     "output_type": "error",
     "traceback": [
      "\u001b[0;36m  File \u001b[0;32m\"<ipython-input-64-36ca985a007c>\"\u001b[0;36m, line \u001b[0;32m3\u001b[0m\n\u001b[0;31m    print(x**2,'is its square')\u001b[0m\n\u001b[0m    ^\u001b[0m\n\u001b[0;31mIndentationError\u001b[0m\u001b[0;31m:\u001b[0m unexpected indent\n"
     ]
    }
   ],
   "source": [
    "for x in [2,3,5,7,11,13,17,19]:\n",
    "  print(x,'is a prime')\n",
    "   print(x**2,'is its square')"
   ]
  },
  {
   "cell_type": "markdown",
   "metadata": {},
   "source": [
    "See [Tabs vs Spaces](https://youtu.be/SsoOG6ZeyUI)"
   ]
  },
  {
   "cell_type": "markdown",
   "metadata": {},
   "source": [
    "## iterating over a range, or over a list\n",
    "- range(100)\n",
    "- range(10,20)\n",
    "- range(10,20,30)\n",
    "- np.arange(.1,1.1,.05)"
   ]
  },
  {
   "cell_type": "code",
   "execution_count": 65,
   "metadata": {},
   "outputs": [
    {
     "name": "stdout",
     "output_type": "stream",
     "text": [
      "0\n",
      "1\n",
      "2\n",
      "3\n",
      "4\n",
      "5\n",
      "6\n",
      "7\n",
      "8\n",
      "9\n"
     ]
    }
   ],
   "source": [
    "for x in range(10):\n",
    "    print(x)"
   ]
  },
  {
   "cell_type": "code",
   "execution_count": 66,
   "metadata": {},
   "outputs": [
    {
     "name": "stdout",
     "output_type": "stream",
     "text": [
      "[0, 1, 2, 3, 4, 5, 6, 7, 8, 9]\n"
     ]
    }
   ],
   "source": [
    "L=[]\n",
    "for x in range(10):\n",
    "    L.append(x)\n",
    "print(L)"
   ]
  },
  {
   "cell_type": "code",
   "execution_count": 68,
   "metadata": {},
   "outputs": [
    {
     "name": "stdout",
     "output_type": "stream",
     "text": [
      "10\n",
      "9\n",
      "8\n",
      "7\n",
      "6\n",
      "5\n",
      "4\n",
      "3\n",
      "2\n",
      "1\n"
     ]
    }
   ],
   "source": [
    "for x in range(10,0,-1):\n",
    "    print(x)"
   ]
  },
  {
   "cell_type": "code",
   "execution_count": 69,
   "metadata": {},
   "outputs": [],
   "source": [
    "import numpy as np"
   ]
  },
  {
   "cell_type": "code",
   "execution_count": 70,
   "metadata": {},
   "outputs": [
    {
     "name": "stdout",
     "output_type": "stream",
     "text": [
      "1.0 0.8414709848078965\n",
      "1.1 0.8912073600614354\n",
      "1.2000000000000002 0.9320390859672264\n",
      "1.3000000000000003 0.9635581854171931\n",
      "1.4000000000000004 0.9854497299884603\n",
      "1.5000000000000004 0.9974949866040544\n",
      "1.6000000000000005 0.9995736030415051\n",
      "1.7000000000000006 0.9916648104524686\n",
      "1.8000000000000007 0.973847630878195\n",
      "1.9000000000000008 0.9463000876874142\n",
      "2.000000000000001 0.9092974268256814\n",
      "2.100000000000001 0.8632093666488733\n",
      "2.200000000000001 0.8084964038195895\n",
      "2.300000000000001 0.7457052121767194\n",
      "2.4000000000000012 0.67546318055115\n",
      "2.5000000000000013 0.5984721441039554\n",
      "2.6000000000000014 0.515501371821463\n",
      "2.7000000000000015 0.42737988023382856\n",
      "2.8000000000000016 0.3349881501559034\n",
      "2.9000000000000017 0.23924932921398068\n",
      "3.0000000000000018 0.14112000805986546\n",
      "3.100000000000002 0.041580662433288715\n",
      "3.200000000000002 -0.058374143427581855\n",
      "3.300000000000002 -0.1577456941432504\n",
      "3.400000000000002 -0.2555411020268334\n",
      "3.500000000000002 -0.35078322768962195\n",
      "3.6000000000000023 -0.44252044329485446\n",
      "3.7000000000000024 -0.5298361409084953\n",
      "3.8000000000000025 -0.611857890942721\n",
      "3.9000000000000026 -0.6877661591839757\n",
      "4.000000000000003 -0.75680249530793\n",
      "4.100000000000003 -0.8182771110644123\n",
      "4.200000000000003 -0.8715757724135894\n",
      "4.3000000000000025 -0.916165936749456\n",
      "4.400000000000003 -0.9516020738895169\n",
      "4.5000000000000036 -0.9775301176650978\n",
      "4.600000000000003 -0.9936910036334649\n",
      "4.700000000000003 -0.9999232575641009\n",
      "4.800000000000003 -0.9961646088358403\n",
      "4.900000000000004 -0.9824526126243318\n"
     ]
    }
   ],
   "source": [
    "for x in np.arange(1,5,.1):\n",
    "    print(x,np.sin(x))"
   ]
  },
  {
   "cell_type": "markdown",
   "metadata": {},
   "source": [
    "## accumulating\n"
   ]
  },
  {
   "cell_type": "code",
   "execution_count": 74,
   "metadata": {},
   "outputs": [
    {
     "name": "stdout",
     "output_type": "stream",
     "text": [
      "190\n"
     ]
    }
   ],
   "source": [
    "sum = 0\n",
    "for x in range(20):\n",
    "    sum = sum + x\n",
    "print(sum)"
   ]
  },
  {
   "cell_type": "code",
   "execution_count": 79,
   "metadata": {},
   "outputs": [
    {
     "name": "stdout",
     "output_type": "stream",
     "text": [
      "Now 3\n",
      "is 2\n",
      "the 3\n",
      "time 4\n",
      "for 3\n",
      "all 3\n",
      "good 4\n",
      "me 2\n",
      "to 2\n",
      "come 4\n",
      "to 2\n",
      "the 3\n",
      "aid 3\n",
      "of 2\n",
      "their 5\n",
      "party 5\n",
      "Total length is 50\n"
     ]
    }
   ],
   "source": [
    "sentence = 'Now is the time for all good me to come to the aid of their party'\n",
    "words = sentence.split()\n",
    "sum = 0\n",
    "for x in words:\n",
    "    print(x,len(x))\n",
    "    sum = sum + len(x)\n",
    "print('Total length is',sum)\n",
    "    "
   ]
  },
  {
   "cell_type": "code",
   "execution_count": 86,
   "metadata": {},
   "outputs": [
    {
     "name": "stdout",
     "output_type": "stream",
     "text": [
      "../data/gapminder_gdp_africa.csv Lesotho\n",
      "../data/gapminder_gdp_asia.csv Myanmar\n"
     ]
    }
   ],
   "source": [
    "# iterating over files\n",
    "import pandas as pd\n",
    "for file in ['../data/gapminder_gdp_africa.csv','../data/gapminder_gdp_asia.csv']:\n",
    "    data = pd.read_csv(file,index_col='country')\n",
    "    print(file, data['gdpPercap_1957'].idxmin())"
   ]
  },
  {
   "cell_type": "markdown",
   "metadata": {},
   "source": [
    "## reading a directory\n",
    "\n",
    "glob gives access to UNIX wild cards"
   ]
  },
  {
   "cell_type": "code",
   "execution_count": 87,
   "metadata": {},
   "outputs": [],
   "source": [
    "from glob import glob"
   ]
  },
  {
   "cell_type": "code",
   "execution_count": 105,
   "metadata": {},
   "outputs": [
    {
     "name": "stdout",
     "output_type": "stream",
     "text": [
      "../data/gapminder_gdp_americas.csv Dominican Republic\n",
      "../data/gapminder_gdp_europe.csv Bosnia and Herzegovina\n",
      "../data/gapminder_gdp_oceania.csv Australia\n",
      "../data/gapminder_gdp_africa.csv Lesotho\n",
      "../data/gapminder_gdp_asia.csv Myanmar\n"
     ]
    }
   ],
   "source": [
    "for file in glob('../data/*gdp*.csv'):\n",
    "    data = pd.read_csv(file,index_col='country')\n",
    "    print(file, data['gdpPercap_1957'].idxmin())"
   ]
  },
  {
   "cell_type": "code",
   "execution_count": 106,
   "metadata": {},
   "outputs": [
    {
     "name": "stdout",
     "output_type": "stream",
     "text": [
      "AMERICAS \n",
      "Poorest in 1957: Dominican Republic \n",
      "Richest in 1957 United States \n",
      "\n",
      "\n",
      "EUROPE \n",
      "Poorest in 1957: Bosnia and Herzegovina \n",
      "Richest in 1957 Switzerland \n",
      "\n",
      "\n",
      "OCEANIA \n",
      "Poorest in 1957: Australia \n",
      "Richest in 1957 New Zealand \n",
      "\n",
      "\n",
      "AFRICA \n",
      "Poorest in 1957: Lesotho \n",
      "Richest in 1957 South Africa \n",
      "\n",
      "\n",
      "ASIA \n",
      "Poorest in 1957: Myanmar \n",
      "Richest in 1957 Kuwait \n",
      "\n",
      "\n"
     ]
    }
   ],
   "source": [
    "for file in glob('../data/*gdp*.csv'):\n",
    "    data = pd.read_csv(file,index_col='country')\n",
    "    continent = file.split('_')[2].split('.')[0].upper()\n",
    "    print(continent, '\\nPoorest in 1957:',data['gdpPercap_1957'].idxmin(),'\\nRichest in 1957',data['gdpPercap_1957'].idxmax(),'\\n\\n')"
   ]
  },
  {
   "cell_type": "markdown",
   "metadata": {},
   "source": [
    "## nested loops"
   ]
  },
  {
   "cell_type": "code",
   "execution_count": 107,
   "metadata": {},
   "outputs": [
    {
     "name": "stdout",
     "output_type": "stream",
     "text": [
      "I wish I had a  green apple\n",
      "I wish I had a  orange apple\n",
      "I wish I had a  yellow apple\n",
      "I wish I had a  green pear\n",
      "I wish I had a  orange pear\n",
      "I wish I had a  yellow pear\n",
      "I wish I had a  green grape\n",
      "I wish I had a  orange grape\n",
      "I wish I had a  yellow grape\n"
     ]
    }
   ],
   "source": [
    "\n",
    "for fruit in ['apple','pear','grape']:\n",
    "    for color in ['green','orange','yellow']:\n",
    "        print('I wish I had a ',color,fruit) "
   ]
  },
  {
   "cell_type": "markdown",
   "metadata": {},
   "source": [
    "## putting some stuff together:\n",
    "    - string operations to extract the continent from the file name\n",
    "    - making a column name"
   ]
  },
  {
   "cell_type": "code",
   "execution_count": 104,
   "metadata": {},
   "outputs": [
    {
     "name": "stdout",
     "output_type": "stream",
     "text": [
      "AMERICAS \n",
      "Poorest in 1957: Dominican Republic \n",
      "Richest in 1957: United States \n",
      "\n",
      "\n",
      "AMERICAS \n",
      "Poorest in 2002: Haiti \n",
      "Richest in 2002: United States \n",
      "\n",
      "\n",
      "EUROPE \n",
      "Poorest in 1957: Bosnia and Herzegovina \n",
      "Richest in 1957: Switzerland \n",
      "\n",
      "\n",
      "EUROPE \n",
      "Poorest in 2002: Albania \n",
      "Richest in 2002: Norway \n",
      "\n",
      "\n",
      "OCEANIA \n",
      "Poorest in 1957: Australia \n",
      "Richest in 1957: New Zealand \n",
      "\n",
      "\n",
      "OCEANIA \n",
      "Poorest in 2002: New Zealand \n",
      "Richest in 2002: Australia \n",
      "\n",
      "\n",
      "AFRICA \n",
      "Poorest in 1957: Lesotho \n",
      "Richest in 1957: South Africa \n",
      "\n",
      "\n",
      "AFRICA \n",
      "Poorest in 2002: Congo Dem. Rep. \n",
      "Richest in 2002: Gabon \n",
      "\n",
      "\n",
      "ASIA \n",
      "Poorest in 1957: Myanmar \n",
      "Richest in 1957: Kuwait \n",
      "\n",
      "\n",
      "ASIA \n",
      "Poorest in 2002: Myanmar \n",
      "Richest in 2002: Singapore \n",
      "\n",
      "\n"
     ]
    }
   ],
   "source": [
    "for file in glob('../data/*gdp*.csv'):\n",
    "    for year in ['1957','2002']:\n",
    "        data = pd.read_csv(file,index_col='country')\n",
    "        continent = file.split('_')[2].split('.')[0].upper()\n",
    "        key = 'gdpPercap_'+year\n",
    "        print(continent, '\\nPoorest in '+year+':',data[key].idxmin(),'\\nRichest in '+year+':',data[key].idxmax(),'\\n\\n')"
   ]
  },
  {
   "cell_type": "code",
   "execution_count": 111,
   "metadata": {},
   "outputs": [
    {
     "data": {
      "image/png": "[encoded data removed]",
      "text/plain": [
       "<Figure size 432x288 with 1 Axes>"
      ]
     },
     "metadata": {
      "needs_background": "light"
     },
     "output_type": "display_data"
    }
   ],
   "source": [
    "import glob\n",
    "import pandas as pd\n",
    "import matplotlib.pyplot as plt\n",
    "fig, ax = plt.subplots(1,1)\n",
    "for filename in glob.glob('../data/gapminder_gdp*.csv'):\n",
    "    dataframe = pd.read_csv(filename)\n",
    "    # extract <region> from the filename, expected to be in the format 'data/gapminder_gdp_<region>.csv'.\n",
    "    # we will split the string using the split method and `_` as our separator,\n",
    "    # retrieve the last string in the list that split returns (`<region>.csv`), \n",
    "    # and then remove the `.csv` extension from that string.\n",
    "    region = filename.split('_')[-1][:-4] \n",
    "    dataframe.mean().plot(ax=ax, label=region)\n",
    "plt.legend()\n",
    "plt.show()\n",
    "\n"
   ]
  },
  {
   "cell_type": "markdown",
   "metadata": {},
   "source": [
    "## Functions\n",
    "\n",
    "We have seen many examples of built-in functions (print, math functions, read_csv, etc are all functions).  You can make your own function: takes certain inputs (arguments) and returns a value.\n"
   ]
  },
  {
   "cell_type": "code",
   "execution_count": 113,
   "metadata": {},
   "outputs": [],
   "source": [
    "def print_date(year, month, day):\n",
    "    joined = str(year)+'/'+str(month)+'/'+str(day)\n",
    "    print(joined)"
   ]
  },
  {
   "cell_type": "code",
   "execution_count": 114,
   "metadata": {},
   "outputs": [
    {
     "name": "stdout",
     "output_type": "stream",
     "text": [
      "2007/11/31\n"
     ]
    }
   ],
   "source": [
    "print_date(2007,11,31)"
   ]
  },
  {
   "cell_type": "markdown",
   "metadata": {},
   "source": [
    "## You can return the value for use in other computations"
   ]
  },
  {
   "cell_type": "code",
   "execution_count": 116,
   "metadata": {},
   "outputs": [],
   "source": [
    "def format_date(year,month,day):\n",
    "    joined = str(year)+'/'+str(month)+'/'+str(day)\n",
    "    return joined"
   ]
  },
  {
   "cell_type": "code",
   "execution_count": 117,
   "metadata": {},
   "outputs": [
    {
     "data": {
      "text/plain": [
       "'2007/12/10'"
      ]
     },
     "execution_count": 117,
     "metadata": {},
     "output_type": "execute_result"
    }
   ],
   "source": [
    "format_date(2007,12,10)"
   ]
  },
  {
   "cell_type": "code",
   "execution_count": 118,
   "metadata": {},
   "outputs": [],
   "source": [
    "dates = []\n",
    "for year in range(2007,2010):\n",
    "    for month in range(5, 8):\n",
    "        for day in range(12,20):\n",
    "            dates.append(format_date(year,month,day))\n",
    "            "
   ]
  },
  {
   "cell_type": "code",
   "execution_count": 119,
   "metadata": {},
   "outputs": [
    {
     "data": {
      "text/plain": [
       "['2007/5/12',\n",
       " '2007/5/13',\n",
       " '2007/5/14',\n",
       " '2007/5/15',\n",
       " '2007/5/16',\n",
       " '2007/5/17',\n",
       " '2007/5/18',\n",
       " '2007/5/19',\n",
       " '2007/6/12',\n",
       " '2007/6/13',\n",
       " '2007/6/14',\n",
       " '2007/6/15',\n",
       " '2007/6/16',\n",
       " '2007/6/17',\n",
       " '2007/6/18',\n",
       " '2007/6/19',\n",
       " '2007/7/12',\n",
       " '2007/7/13',\n",
       " '2007/7/14',\n",
       " '2007/7/15',\n",
       " '2007/7/16',\n",
       " '2007/7/17',\n",
       " '2007/7/18',\n",
       " '2007/7/19',\n",
       " '2008/5/12',\n",
       " '2008/5/13',\n",
       " '2008/5/14',\n",
       " '2008/5/15',\n",
       " '2008/5/16',\n",
       " '2008/5/17',\n",
       " '2008/5/18',\n",
       " '2008/5/19',\n",
       " '2008/6/12',\n",
       " '2008/6/13',\n",
       " '2008/6/14',\n",
       " '2008/6/15',\n",
       " '2008/6/16',\n",
       " '2008/6/17',\n",
       " '2008/6/18',\n",
       " '2008/6/19',\n",
       " '2008/7/12',\n",
       " '2008/7/13',\n",
       " '2008/7/14',\n",
       " '2008/7/15',\n",
       " '2008/7/16',\n",
       " '2008/7/17',\n",
       " '2008/7/18',\n",
       " '2008/7/19',\n",
       " '2009/5/12',\n",
       " '2009/5/13',\n",
       " '2009/5/14',\n",
       " '2009/5/15',\n",
       " '2009/5/16',\n",
       " '2009/5/17',\n",
       " '2009/5/18',\n",
       " '2009/5/19',\n",
       " '2009/6/12',\n",
       " '2009/6/13',\n",
       " '2009/6/14',\n",
       " '2009/6/15',\n",
       " '2009/6/16',\n",
       " '2009/6/17',\n",
       " '2009/6/18',\n",
       " '2009/6/19',\n",
       " '2009/7/12',\n",
       " '2009/7/13',\n",
       " '2009/7/14',\n",
       " '2009/7/15',\n",
       " '2009/7/16',\n",
       " '2009/7/17',\n",
       " '2009/7/18',\n",
       " '2009/7/19']"
      ]
     },
     "execution_count": 119,
     "metadata": {},
     "output_type": "execute_result"
    }
   ],
   "source": [
    "dates"
   ]
  },
  {
   "cell_type": "markdown",
   "metadata": {},
   "source": [
    "## functions and data analysis\n",
    "\n",
    "Recall that we worked with the pandas dataframe ```gapminder_data.csv```."
   ]
  },
  {
   "cell_type": "code",
   "execution_count": 130,
   "metadata": {},
   "outputs": [],
   "source": [
    "import matplotlib.pyplot as plt\n",
    "plt.style.use('ggplot')"
   ]
  },
  {
   "cell_type": "code",
   "execution_count": 131,
   "metadata": {},
   "outputs": [],
   "source": [
    "data = pd.read_csv('../data/gapminder_data.csv',index_col='country')"
   ]
  },
  {
   "cell_type": "code",
   "execution_count": 132,
   "metadata": {},
   "outputs": [],
   "source": [
    "percapita = pd.pivot_table(data,index='country',columns='year',values='gdpPercap')"
   ]
  },
  {
   "cell_type": "code",
   "execution_count": 134,
   "metadata": {},
   "outputs": [
    {
     "data": {
      "text/plain": [
       "<matplotlib.axes._subplots.AxesSubplot at 0x1174d7940>"
      ]
     },
     "execution_count": 134,
     "metadata": {},
     "output_type": "execute_result"
    },
    {
     "data": {
      "image/png": "[encoded data removed]",
      "text/plain": [
       "<Figure size 432x288 with 1 Axes>"
      ]
     },
     "metadata": {},
     "output_type": "display_data"
    }
   ],
   "source": [
    "percapita.loc['Afghanistan'].plot(title='Afghanistan GDP Per capita over Time')"
   ]
  },
  {
   "cell_type": "code",
   "execution_count": 151,
   "metadata": {},
   "outputs": [],
   "source": [
    "def country_gdp(country):\n",
    "    title = country + ' GDP Per Capita over Time'\n",
    "    percapita.loc[country].plot(figsize=(8,8),legend=True,title='GDP Per Capita')"
   ]
  },
  {
   "cell_type": "code",
   "execution_count": 152,
   "metadata": {},
   "outputs": [
    {
     "data": {
      "image/png": "[encoded data removed]",
      "text/plain": [
       "<Figure size 576x576 with 1 Axes>"
      ]
     },
     "metadata": {},
     "output_type": "display_data"
    }
   ],
   "source": [
    "country_gdp(\"United States\")\n",
    "country_gdp(\"Germany\")\n",
    "country_gdp(\"Switzerland\")"
   ]
  },
  {
   "cell_type": "code",
   "execution_count": 153,
   "metadata": {},
   "outputs": [
    {
     "data": {
      "image/png": "[encoded data removed]",
      "text/plain": [
       "<Figure size 576x576 with 1 Axes>"
      ]
     },
     "metadata": {},
     "output_type": "display_data"
    }
   ],
   "source": [
    "for country in ['United States','China','Germany','Australia','Brazil']:\n",
    "    country_gdp(country)"
   ]
  },
  {
   "cell_type": "markdown",
   "metadata": {},
   "source": [
    "## A random walk"
   ]
  },
  {
   "cell_type": "code",
   "execution_count": 154,
   "metadata": {},
   "outputs": [],
   "source": [
    "import numpy.random as rnd"
   ]
  },
  {
   "cell_type": "code",
   "execution_count": 155,
   "metadata": {},
   "outputs": [],
   "source": [
    "x = rnd.choice([-1,1])"
   ]
  },
  {
   "cell_type": "code",
   "execution_count": 156,
   "metadata": {},
   "outputs": [],
   "source": [
    "def random_walk(N):\n",
    "    spot = 0\n",
    "    L = []\n",
    "    for i in range(N):\n",
    "        spot = spot + rnd.choice([-1,1])\n",
    "        L.append(spot)\n",
    "    return L"
   ]
  },
  {
   "cell_type": "code",
   "execution_count": 162,
   "metadata": {},
   "outputs": [
    {
     "data": {
      "image/png": "[encoded data removed]",
      "text/plain": [
       "<Figure size 432x288 with 1 Axes>"
      ]
     },
     "metadata": {},
     "output_type": "display_data"
    }
   ],
   "source": [
    "end_spots = []\n",
    "for i in range(200):\n",
    "    walk = random_walk(100)\n",
    "    plt.plot(range(100),walk)\n",
    "    end_spots.append(walk[-1])\n",
    "\n",
    "    "
   ]
  },
  {
   "cell_type": "code",
   "execution_count": 166,
   "metadata": {},
   "outputs": [
    {
     "data": {
      "image/png": "[encoded data removed]",
      "text/plain": [
       "<Figure size 432x288 with 1 Axes>"
      ]
     },
     "metadata": {},
     "output_type": "display_data"
    }
   ],
   "source": [
    "s=plt.hist(end_spots,bins=10)"
   ]
  },
  {
   "cell_type": "markdown",
   "metadata": {},
   "source": [
    "## Variable scope\n",
    "\n",
    "variables inside functions are \"local\" to the function and changes to them don't last after\n",
    "the function ends\n",
    "\n",
    "- the scope of a variable is the region where it is defined -- basically, in a function block and anything inside that."
   ]
  },
  {
   "cell_type": "code",
   "execution_count": 174,
   "metadata": {},
   "outputs": [],
   "source": [
    "def lister(x):\n",
    "    L = [x]*10\n",
    "    v = 47\n",
    "    print(L)"
   ]
  },
  {
   "cell_type": "code",
   "execution_count": 173,
   "metadata": {},
   "outputs": [
    {
     "name": "stdout",
     "output_type": "stream",
     "text": [
      "[0, 1, 2, 3, 4, 5, 6, 7, 8, 9]\n",
      "[4, 4, 4, 4, 4, 4, 4, 4, 4, 4]\n",
      "[0, 1, 2, 3, 4, 5, 6, 7, 8, 9]\n"
     ]
    }
   ],
   "source": [
    "\n",
    "print(L)\n",
    "lister(4)\n",
    "print(L)"
   ]
  },
  {
   "cell_type": "markdown",
   "metadata": {},
   "source": [
    "There are subtleties to variable scope.  If a variable is NOT NAMED as an argument, then it is assumed to come from \"outside\" the function."
   ]
  },
  {
   "cell_type": "code",
   "execution_count": 186,
   "metadata": {},
   "outputs": [],
   "source": [
    "L = ['a','b','c']\n",
    "def j(x):\n",
    "    L.append(x)"
   ]
  },
  {
   "cell_type": "code",
   "execution_count": 187,
   "metadata": {},
   "outputs": [],
   "source": [
    "j('u')"
   ]
  },
  {
   "cell_type": "code",
   "execution_count": 188,
   "metadata": {},
   "outputs": [
    {
     "data": {
      "text/plain": [
       "['a', 'b', 'c', 'u']"
      ]
     },
     "execution_count": 188,
     "metadata": {},
     "output_type": "execute_result"
    }
   ],
   "source": [
    "L"
   ]
  },
  {
   "cell_type": "markdown",
   "metadata": {},
   "source": [
    "And structures (like lists, and arrays) CAN be modified inside a function EVEN IF they are given as an argument.  "
   ]
  },
  {
   "cell_type": "code",
   "execution_count": 193,
   "metadata": {},
   "outputs": [
    {
     "name": "stdout",
     "output_type": "stream",
     "text": [
      "['a', 'b', 'c', 'x']\n"
     ]
    }
   ],
   "source": [
    "L = ['a','b','c']\n",
    "def j(x,L):\n",
    "    L.append(x)\n",
    "j('x',L)\n",
    "print(L)"
   ]
  },
  {
   "cell_type": "markdown",
   "metadata": {},
   "source": [
    "The full set of rules is a bit complicated and we won't go into all the details."
   ]
  },
  {
   "cell_type": "markdown",
   "metadata": {},
   "source": [
    "## BREAK AT THIS POINT"
   ]
  },
  {
   "cell_type": "markdown",
   "metadata": {},
   "source": [
    "## Conditionals"
   ]
  },
  {
   "cell_type": "code",
   "execution_count": 194,
   "metadata": {},
   "outputs": [],
   "source": [
    "def my_abs(x):\n",
    "    if x<0:\n",
    "        return -x\n",
    "    else:\n",
    "        return x"
   ]
  },
  {
   "cell_type": "code",
   "execution_count": 195,
   "metadata": {},
   "outputs": [
    {
     "data": {
      "text/plain": [
       "1"
      ]
     },
     "execution_count": 195,
     "metadata": {},
     "output_type": "execute_result"
    }
   ],
   "source": [
    "my_abs(-1)"
   ]
  },
  {
   "cell_type": "markdown",
   "metadata": {},
   "source": [
    "This function returns a \"tuple\" which is a pair of lists.  You can get the two lists with subscripts or with the A, B = construction"
   ]
  },
  {
   "cell_type": "code",
   "execution_count": 196,
   "metadata": {},
   "outputs": [],
   "source": [
    "def split_threshold(threshold,L):\n",
    "    Low = []\n",
    "    High = []\n",
    "    for item in L:\n",
    "        if item<threshold:\n",
    "            Low.append(item)\n",
    "        else:\n",
    "            High.append(item)\n",
    "    return Low, High\n",
    "        \n",
    "        \n",
    "        "
   ]
  },
  {
   "cell_type": "code",
   "execution_count": 203,
   "metadata": {},
   "outputs": [
    {
     "name": "stdout",
     "output_type": "stream",
     "text": [
      "([-1, -5, -13], [2, 11, 100])\n"
     ]
    }
   ],
   "source": [
    "T = split_threshold(0,[-1,-5,2,-13,11,100])\n",
    "print(T)"
   ]
  },
  {
   "cell_type": "code",
   "execution_count": 204,
   "metadata": {},
   "outputs": [
    {
     "name": "stdout",
     "output_type": "stream",
     "text": [
      "[-1, -5, -13]\n"
     ]
    }
   ],
   "source": [
    "print(T[0])"
   ]
  },
  {
   "cell_type": "code",
   "execution_count": 205,
   "metadata": {},
   "outputs": [
    {
     "name": "stdout",
     "output_type": "stream",
     "text": [
      "[2, 11, 100]\n"
     ]
    }
   ],
   "source": [
    "print(T[1])"
   ]
  },
  {
   "cell_type": "markdown",
   "metadata": {},
   "source": [
    "This is the syntax for unpacking a tuple"
   ]
  },
  {
   "cell_type": "code",
   "execution_count": 198,
   "metadata": {},
   "outputs": [],
   "source": [
    "Low, High = split_threshold(0,[-1,-5,2,-13,11,100])"
   ]
  },
  {
   "cell_type": "code",
   "execution_count": 206,
   "metadata": {},
   "outputs": [
    {
     "data": {
      "text/plain": [
       "[-1, -5, -13]"
      ]
     },
     "execution_count": 206,
     "metadata": {},
     "output_type": "execute_result"
    }
   ],
   "source": [
    "Low"
   ]
  },
  {
   "cell_type": "code",
   "execution_count": 207,
   "metadata": {},
   "outputs": [
    {
     "data": {
      "text/plain": [
       "[2, 11, 100]"
      ]
     },
     "execution_count": 207,
     "metadata": {},
     "output_type": "execute_result"
    }
   ],
   "source": [
    "High"
   ]
  },
  {
   "cell_type": "markdown",
   "metadata": {},
   "source": [
    "Python admits and and or operators"
   ]
  },
  {
   "cell_type": "code",
   "execution_count": 209,
   "metadata": {},
   "outputs": [
    {
     "data": {
      "text/plain": [
       "country\n",
       "Afghanistan     8425333.0\n",
       "Afghanistan     9240934.0\n",
       "Afghanistan    10267083.0\n",
       "Afghanistan    11537966.0\n",
       "Afghanistan    13079460.0\n",
       "Name: pop, dtype: float64"
      ]
     },
     "execution_count": 209,
     "metadata": {},
     "output_type": "execute_result"
    }
   ],
   "source": [
    "data['pop'].head()"
   ]
  },
  {
   "cell_type": "code",
   "execution_count": 217,
   "metadata": {},
   "outputs": [
    {
     "name": "stdout",
     "output_type": "stream",
     "text": [
      "r\n",
      "t\n",
      "u\n"
     ]
    }
   ],
   "source": [
    "for x in 'Jeremy Teitelbaum':\n",
    "    if (x>='r' and x<='u'):\n",
    "        print(x)"
   ]
  },
  {
   "cell_type": "markdown",
   "metadata": {},
   "source": [
    "# applying a function in pandas"
   ]
  },
  {
   "cell_type": "code",
   "execution_count": 223,
   "metadata": {},
   "outputs": [
    {
     "data": {
      "text/plain": [
       "'medium'"
      ]
     },
     "execution_count": 223,
     "metadata": {},
     "output_type": "execute_result"
    }
   ],
   "source": [
    "population_size(300000000)"
   ]
  },
  {
   "cell_type": "code",
   "execution_count": 227,
   "metadata": {},
   "outputs": [],
   "source": [
    "data['pop_class']=data['pop'].apply(population_size)"
   ]
  },
  {
   "cell_type": "code",
   "execution_count": 242,
   "metadata": {},
   "outputs": [
    {
     "data": {
      "text/html": [
       "<div>\n",
       "<style scoped>\n",
       "    .dataframe tbody tr th:only-of-type {\n",
       "        vertical-align: middle;\n",
       "    }\n",
       "\n",
       "    .dataframe tbody tr th {\n",
       "        vertical-align: top;\n",
       "    }\n",
       "\n",
       "    .dataframe thead th {\n",
       "        text-align: right;\n",
       "    }\n",
       "</style>\n",
       "<table border=\"1\" class=\"dataframe\">\n",
       "  <thead>\n",
       "    <tr style=\"text-align: right;\">\n",
       "      <th></th>\n",
       "      <th>year</th>\n",
       "      <th>pop</th>\n",
       "      <th>continent</th>\n",
       "      <th>lifeExp</th>\n",
       "      <th>gdpPercap</th>\n",
       "      <th>pop_class</th>\n",
       "    </tr>\n",
       "    <tr>\n",
       "      <th>country</th>\n",
       "      <th></th>\n",
       "      <th></th>\n",
       "      <th></th>\n",
       "      <th></th>\n",
       "      <th></th>\n",
       "      <th></th>\n",
       "    </tr>\n",
       "  </thead>\n",
       "  <tbody>\n",
       "    <tr>\n",
       "      <th>Afghanistan</th>\n",
       "      <td>1952</td>\n",
       "      <td>8425333.0</td>\n",
       "      <td>Asia</td>\n",
       "      <td>28.801</td>\n",
       "      <td>779.445314</td>\n",
       "      <td>small</td>\n",
       "    </tr>\n",
       "    <tr>\n",
       "      <th>Afghanistan</th>\n",
       "      <td>1957</td>\n",
       "      <td>9240934.0</td>\n",
       "      <td>Asia</td>\n",
       "      <td>30.332</td>\n",
       "      <td>820.853030</td>\n",
       "      <td>small</td>\n",
       "    </tr>\n",
       "    <tr>\n",
       "      <th>Afghanistan</th>\n",
       "      <td>1962</td>\n",
       "      <td>10267083.0</td>\n",
       "      <td>Asia</td>\n",
       "      <td>31.997</td>\n",
       "      <td>853.100710</td>\n",
       "      <td>medium</td>\n",
       "    </tr>\n",
       "    <tr>\n",
       "      <th>Afghanistan</th>\n",
       "      <td>1967</td>\n",
       "      <td>11537966.0</td>\n",
       "      <td>Asia</td>\n",
       "      <td>34.020</td>\n",
       "      <td>836.197138</td>\n",
       "      <td>medium</td>\n",
       "    </tr>\n",
       "    <tr>\n",
       "      <th>Afghanistan</th>\n",
       "      <td>1972</td>\n",
       "      <td>13079460.0</td>\n",
       "      <td>Asia</td>\n",
       "      <td>36.088</td>\n",
       "      <td>739.981106</td>\n",
       "      <td>medium</td>\n",
       "    </tr>\n",
       "  </tbody>\n",
       "</table>\n",
       "</div>"
      ],
      "text/plain": [
       "             year         pop continent  lifeExp   gdpPercap pop_class\n",
       "country                                                               \n",
       "Afghanistan  1952   8425333.0      Asia   28.801  779.445314     small\n",
       "Afghanistan  1957   9240934.0      Asia   30.332  820.853030     small\n",
       "Afghanistan  1962  10267083.0      Asia   31.997  853.100710    medium\n",
       "Afghanistan  1967  11537966.0      Asia   34.020  836.197138    medium\n",
       "Afghanistan  1972  13079460.0      Asia   36.088  739.981106    medium"
      ]
     },
     "execution_count": 242,
     "metadata": {},
     "output_type": "execute_result"
    }
   ],
   "source": [
    "data.head()"
   ]
  },
  {
   "cell_type": "code",
   "execution_count": 241,
   "metadata": {},
   "outputs": [
    {
     "data": {
      "text/plain": [
       "<matplotlib.axes._subplots.AxesSubplot at 0x1190232e8>"
      ]
     },
     "execution_count": 241,
     "metadata": {},
     "output_type": "execute_result"
    },
    {
     "data": {
      "image/png": "[encoded data removed]",
      "text/plain": [
       "<Figure size 432x288 with 1 Axes>"
      ]
     },
     "metadata": {},
     "output_type": "display_data"
    }
   ],
   "source": [
    "data[(data['year']==2002)].groupby('pop_class')['lifeExp'].mean().plot(kind='bar')"
   ]
  },
  {
   "cell_type": "code",
   "execution_count": 243,
   "metadata": {},
   "outputs": [],
   "source": [
    "def life_exp_by_class_and_year(year):\n",
    "    data[(data['year']==2002)].groupby('pop_class')['lifeExp'].mean().plot(kind='bar')"
   ]
  },
  {
   "cell_type": "code",
   "execution_count": 245,
   "metadata": {},
   "outputs": [
    {
     "data": {
      "image/png": "[encoded data removed]",
      "text/plain": [
       "<Figure size 432x288 with 1 Axes>"
      ]
     },
     "metadata": {},
     "output_type": "display_data"
    }
   ],
   "source": [
    "life_exp_by_class_and_year(1957)"
   ]
  },
  {
   "cell_type": "code",
   "execution_count": 246,
   "metadata": {},
   "outputs": [
    {
     "data": {
      "text/html": [
       "<div>\n",
       "<style scoped>\n",
       "    .dataframe tbody tr th:only-of-type {\n",
       "        vertical-align: middle;\n",
       "    }\n",
       "\n",
       "    .dataframe tbody tr th {\n",
       "        vertical-align: top;\n",
       "    }\n",
       "\n",
       "    .dataframe thead th {\n",
       "        text-align: right;\n",
       "    }\n",
       "</style>\n",
       "<table border=\"1\" class=\"dataframe\">\n",
       "  <thead>\n",
       "    <tr style=\"text-align: right;\">\n",
       "      <th></th>\n",
       "      <th>year</th>\n",
       "      <th>pop</th>\n",
       "      <th>continent</th>\n",
       "      <th>lifeExp</th>\n",
       "      <th>gdpPercap</th>\n",
       "      <th>pop_class</th>\n",
       "    </tr>\n",
       "    <tr>\n",
       "      <th>country</th>\n",
       "      <th></th>\n",
       "      <th></th>\n",
       "      <th></th>\n",
       "      <th></th>\n",
       "      <th></th>\n",
       "      <th></th>\n",
       "    </tr>\n",
       "  </thead>\n",
       "  <tbody>\n",
       "    <tr>\n",
       "      <th>China</th>\n",
       "      <td>2002</td>\n",
       "      <td>1.280400e+09</td>\n",
       "      <td>Asia</td>\n",
       "      <td>72.028</td>\n",
       "      <td>3119.280896</td>\n",
       "      <td>large</td>\n",
       "    </tr>\n",
       "    <tr>\n",
       "      <th>India</th>\n",
       "      <td>2002</td>\n",
       "      <td>1.034173e+09</td>\n",
       "      <td>Asia</td>\n",
       "      <td>62.879</td>\n",
       "      <td>1746.769454</td>\n",
       "      <td>large</td>\n",
       "    </tr>\n",
       "  </tbody>\n",
       "</table>\n",
       "</div>"
      ],
      "text/plain": [
       "         year           pop continent  lifeExp    gdpPercap pop_class\n",
       "country                                                              \n",
       "China    2002  1.280400e+09      Asia   72.028  3119.280896     large\n",
       "India    2002  1.034173e+09      Asia   62.879  1746.769454     large"
      ]
     },
     "execution_count": 246,
     "metadata": {},
     "output_type": "execute_result"
    }
   ],
   "source": [
    "data[(data['year']==2002) & (data['pop_class'] == 'large')]"
   ]
  },
  {
   "cell_type": "markdown",
   "metadata": {},
   "source": [
    "## docstrings"
   ]
  },
  {
   "cell_type": "code",
   "execution_count": 254,
   "metadata": {},
   "outputs": [],
   "source": [
    "def threshold(x,L):\n",
    "    \"\"\"Returns (Low, High) where Low is the list of elements in L less than x, \n",
    "    and High is a list of those greater than or equal to x\"\"\"\n",
    "    Low, High = [], []\n",
    "    for item in L:\n",
    "        if item<x:\n",
    "            Low.append(item)\n",
    "        else:\n",
    "            High.append(item)\n",
    "    return Low, High"
   ]
  },
  {
   "cell_type": "code",
   "execution_count": 255,
   "metadata": {},
   "outputs": [
    {
     "data": {
      "text/plain": [
       "\u001b[0;31mSignature:\u001b[0m \u001b[0mthreshold\u001b[0m\u001b[0;34m(\u001b[0m\u001b[0mx\u001b[0m\u001b[0;34m,\u001b[0m \u001b[0mL\u001b[0m\u001b[0;34m)\u001b[0m\u001b[0;34m\u001b[0m\u001b[0;34m\u001b[0m\u001b[0m\n",
       "\u001b[0;31mDocstring:\u001b[0m\n",
       "Returns (Low, High) where Low is the list of elements in L less than x, \n",
       "and High is a list of those greater than or equal to x\n",
       "\u001b[0;31mFile:\u001b[0m      ~/GitHub/Carpentries/2020-01-13/notes/<ipython-input-254-5a9844fcc62c>\n",
       "\u001b[0;31mType:\u001b[0m      function\n"
      ]
     },
     "metadata": {},
     "output_type": "display_data"
    }
   ],
   "source": [
    "?threshold"
   ]
  },
  {
   "cell_type": "markdown",
   "metadata": {},
   "source": [
    "## default arguments"
   ]
  },
  {
   "cell_type": "code",
   "execution_count": 256,
   "metadata": {},
   "outputs": [],
   "source": [
    "def threshold(L,x=0):\n",
    "    \"\"\"Returns (Low, High) where Low is the list of elements in L less than x, \n",
    "    and High is a list of those greater than or equal to x.  x defaults to zero.\"\"\"\n",
    "    Low, High = [], []\n",
    "    for item in L:\n",
    "        if item<x:\n",
    "            Low.append(item)\n",
    "        else:\n",
    "            High.append(item)\n",
    "    return Low, High"
   ]
  },
  {
   "cell_type": "code",
   "execution_count": 257,
   "metadata": {},
   "outputs": [
    {
     "data": {
      "text/plain": [
       "([-3], [1, 2, 5])"
      ]
     },
     "execution_count": 257,
     "metadata": {},
     "output_type": "execute_result"
    }
   ],
   "source": [
    "threshold([1,-3,2,5])"
   ]
  },
  {
   "cell_type": "code",
   "execution_count": 258,
   "metadata": {},
   "outputs": [
    {
     "data": {
      "text/plain": [
       "\u001b[0;31mSignature:\u001b[0m \u001b[0mthreshold\u001b[0m\u001b[0;34m(\u001b[0m\u001b[0mL\u001b[0m\u001b[0;34m,\u001b[0m \u001b[0mx\u001b[0m\u001b[0;34m=\u001b[0m\u001b[0;36m0\u001b[0m\u001b[0;34m)\u001b[0m\u001b[0;34m\u001b[0m\u001b[0;34m\u001b[0m\u001b[0m\n",
       "\u001b[0;31mDocstring:\u001b[0m\n",
       "Returns (Low, High) where Low is the list of elements in L less than x, \n",
       "and High is a list of those greater than or equal to x.  x defaults to zero.\n",
       "\u001b[0;31mFile:\u001b[0m      ~/GitHub/Carpentries/2020-01-13/notes/<ipython-input-256-bc8a5db254e7>\n",
       "\u001b[0;31mType:\u001b[0m      function\n"
      ]
     },
     "metadata": {},
     "output_type": "display_data"
    }
   ],
   "source": [
    "?threshold"
   ]
  },
  {
   "cell_type": "code",
   "execution_count": 259,
   "metadata": {},
   "outputs": [
    {
     "data": {
      "text/plain": [
       "\u001b[0;31mDocstring:\u001b[0m\n",
       "print(value, ..., sep=' ', end='\\n', file=sys.stdout, flush=False)\n",
       "\n",
       "Prints the values to a stream, or to sys.stdout by default.\n",
       "Optional keyword arguments:\n",
       "file:  a file-like object (stream); defaults to the current sys.stdout.\n",
       "sep:   string inserted between values, default a space.\n",
       "end:   string appended after the last value, default a newline.\n",
       "flush: whether to forcibly flush the stream.\n",
       "\u001b[0;31mType:\u001b[0m      builtin_function_or_method\n"
      ]
     },
     "metadata": {},
     "output_type": "display_data"
    }
   ],
   "source": [
    "?print"
   ]
  },
  {
   "cell_type": "code",
   "execution_count": null,
   "metadata": {},
   "outputs": [],
   "source": []
  }
 ],
 "metadata": {
  "kernelspec": {
   "display_name": "Python 3",
   "language": "python",
   "name": "python3"
  },
  "language_info": {
   "codemirror_mode": {
    "name": "ipython",
    "version": 3
   },
   "file_extension": ".py",
   "mimetype": "text/x-python",
   "name": "python",
   "nbconvert_exporter": "python",
   "pygments_lexer": "ipython3",
   "version": "3.6.9"
  }
 },
 "nbformat": 4,
 "nbformat_minor": 4
}
